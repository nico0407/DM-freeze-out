{
 "cells": [
  {
   "cell_type": "code",
   "execution_count": 21,
   "id": "f581ac65",
   "metadata": {},
   "outputs": [],
   "source": [
    "import matplotlib.pyplot as plt\n",
    "import csv\n",
    "import numpy as np\n",
    "from scipy import optimize\n",
    "from scipy import integrate\n",
    "from scipy import special\n",
    "import pandas as pd"
   ]
  },
  {
   "cell_type": "code",
   "execution_count": 18,
   "id": "9fdbd511",
   "metadata": {},
   "outputs": [],
   "source": [
    "def exp(a):\n",
    "    return np.exp(-a**2)"
   ]
  },
  {
   "cell_type": "code",
   "execution_count": 19,
   "id": "80702380",
   "metadata": {},
   "outputs": [
    {
     "data": {
      "text/plain": [
       "(1.7724538509055159, 1.4202636780944923e-08)"
      ]
     },
     "execution_count": 19,
     "metadata": {},
     "output_type": "execute_result"
    }
   ],
   "source": [
    "integrate.quad(exp,-np.inf,np.inf)"
   ]
  },
  {
   "cell_type": "code",
   "execution_count": 20,
   "id": "6c04282f",
   "metadata": {},
   "outputs": [
    {
     "data": {
      "text/plain": [
       "1.7724538509055159"
      ]
     },
     "execution_count": 20,
     "metadata": {},
     "output_type": "execute_result"
    }
   ],
   "source": [
    "np.sqrt(np.pi)"
   ]
  },
  {
   "cell_type": "code",
   "execution_count": null,
   "id": "7d7e2c00",
   "metadata": {},
   "outputs": [],
   "source": [
    "special.jv()"
   ]
  },
  {
   "cell_type": "code",
   "execution_count": null,
   "id": "ec7e01be",
   "metadata": {},
   "outputs": [],
   "source": [
    "#     Bessel functions\n",
    "# kn(n, x[, out])    Modified Bessel function of the second kind of integer order n\n",
    "# kv(v, z[, out])    Modified Bessel function of the second kind of real order v\n",
    "# kve(v, z[, out])   Exponentially scaled modified Bessel function of the second kind.\n",
    "# iv(v, z[, out])    Modified Bessel function of the first kind of real order.\n",
    "\n",
    "#     Faster versions of common Bessel functions\n",
    "# i0(x[, out])        Modified Bessel function of order 0.\n",
    "# i1(x[, out])        Modified Bessel function of order 1.\n",
    "# k0(x[, out])        Modified Bessel function of the second kind of order 0,.\n",
    "# k1(x[, out])        Modified Bessel function of the second kind of order 1,.\n",
    "\n",
    "#      Integrals of Bessel functions\n",
    "#iti0k0(x[, out])       Integrals of modified Bessel functions of order 0.\n",
    "#it2i0k0(x[, out])      Integrals related to modified Bessel functions of order 0."
   ]
  },
  {
   "cell_type": "code",
   "execution_count": null,
   "id": "d2f43c18",
   "metadata": {},
   "outputs": [],
   "source": []
  }
 ],
 "metadata": {
  "kernelspec": {
   "display_name": "Python 3 (ipykernel)",
   "language": "python",
   "name": "python3"
  },
  "language_info": {
   "codemirror_mode": {
    "name": "ipython",
    "version": 3
   },
   "file_extension": ".py",
   "mimetype": "text/x-python",
   "name": "python",
   "nbconvert_exporter": "python",
   "pygments_lexer": "ipython3",
   "version": "3.9.7"
  }
 },
 "nbformat": 4,
 "nbformat_minor": 5
}
