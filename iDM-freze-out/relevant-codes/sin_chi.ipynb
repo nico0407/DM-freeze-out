{
 "cells": [
  {
   "cell_type": "code",
   "execution_count": 1,
   "id": "b7d03922",
   "metadata": {},
   "outputs": [],
   "source": [
    "import numpy as np\n",
    "import pandas as pd\n",
    "import matplotlib.pyplot as plt"
   ]
  },
  {
   "cell_type": "code",
   "execution_count": 2,
   "id": "eaee11f9",
   "metadata": {},
   "outputs": [],
   "source": [
    "y=1E-5\n",
    "alphaD=0.1\n",
    "theta_W=29"
   ]
  },
  {
   "cell_type": "markdown",
   "id": "e9de4c76",
   "metadata": {},
   "source": [
    "## Gordan's y: $y= \\epsilon^2 \\alpha_D \\Big( \\frac{m_1}{m_X} \\Big)^4$ therefore:\n",
    "### $\\epsilon= \\sqrt{\\frac{y}{\\alpha_D (1/3)^4}}$ but in our model $\\epsilon= \\sin(\\chi) \\cos(\\theta_W) \\sim \\cos(\\theta_W) \\chi$. Therefore $\\Longrightarrow \\sin(\\chi)= \\frac{\\epsilon}{\\cos(\\theta_W)}$"
   ]
  },
  {
   "cell_type": "code",
   "execution_count": 3,
   "id": "c19f1af9",
   "metadata": {},
   "outputs": [
    {
     "data": {
      "text/plain": [
       "0.09000000000000001"
      ]
     },
     "execution_count": 3,
     "metadata": {},
     "output_type": "execute_result"
    }
   ],
   "source": [
    "epsilon= np.sqrt((y)/(alphaD*((1/3)**4)))\n",
    "epsilon"
   ]
  },
  {
   "cell_type": "code",
   "execution_count": null,
   "id": "ff93afea",
   "metadata": {},
   "outputs": [],
   "source": []
  },
  {
   "cell_type": "markdown",
   "id": "f7f2eaa2",
   "metadata": {},
   "source": [
    "### step to do to run micromega more times and create a scan of the paramethers space:\n",
    "#### Go ro micromega folder and type make\n",
    "#### Go to dark photon folder and type make main=main.c\n",
    "#### type then sh main.sh\n",
    "#### It will print a series of values in a output file.\n",
    "\n",
    "### data_in has the values of the paramether space\n",
    "### data_out prints the same values with the associated Omega"
   ]
  },
  {
   "cell_type": "code",
   "execution_count": 19,
   "id": "4f656ed2",
   "metadata": {},
   "outputs": [],
   "source": [
    "m1 = 0.050                                #GeV DM Mass\n",
    "delta=0.3*m1\n",
    "m2=m1+delta\n",
    "\n",
    "mzprime=3*m1                                  #Mass of the dark photon in GeV    150 MeV\n",
    "Mp = 1.22e19   \n",
    "m=0.000501                                 # I choose the electron mass in Gev\n",
    "mf=0.000501 \n",
    "mmu=0.1057                                 # mass of the muon in GeV\n",
    "\n",
    "\n",
    "s0= m1**2 + m2**2 + 2*m1*m2\n",
    "s0_SCAT= m1**2 + mf**2 + 2*m1*mf\n",
    "\n",
    "\n",
    "\n",
    "epsilon=1E-3               # Has inside some factors as indicated in the computation papers     1E-4\n",
    "alpha_dark=1E-1               # what values?       (1E-3    -   1E-1)  \n",
    "alpha_em=1/137\n",
    "\n",
    "\n",
    "theta_W= (29/180)*np.pi     # 29\n",
    "mass_Z=91.1876   # GeV\n",
    "g_W=0.641\n",
    "chi=epsilon/np.cos(theta_W)\n",
    "\n",
    "mu_squared=(mzprime**2)/(mass_Z**2)\n",
    "\n",
    "tan_2beta= (np.sin(theta_W)*np.sin(chi)*np.cos(chi))/((np.cos(chi)**2)-(np.sin(chi)**2)*(np.sin(theta_W)**2)-(mu_squared)) \n",
    "beta=0.5*np.arctan(tan_2beta)\n",
    "d_V_l= ((g_W)/(2*np.cos(theta_W)))*((3/2)*np.cos(beta)*np.sin(theta_W)*np.tan(chi)-np.sin(beta)*(2*(np.sin(theta_W)**2)-(1/2)))"
   ]
  },
  {
   "cell_type": "code",
   "execution_count": 20,
   "id": "95a0a4e6",
   "metadata": {},
   "outputs": [
    {
     "data": {
      "text/plain": [
       "1.0000006152220209"
      ]
     },
     "execution_count": 20,
     "metadata": {},
     "output_type": "execute_result"
    }
   ],
   "source": [
    "((np.cos(beta))/(np.cos(chi)))"
   ]
  },
  {
   "cell_type": "code",
   "execution_count": 21,
   "id": "1b910c56",
   "metadata": {},
   "outputs": [
    {
     "data": {
      "text/plain": [
       "1.0000012304444204"
      ]
     },
     "execution_count": 21,
     "metadata": {},
     "output_type": "execute_result"
    }
   ],
   "source": [
    "((np.cos(beta)**2)/(np.cos(chi)**2))"
   ]
  },
  {
   "cell_type": "code",
   "execution_count": 22,
   "id": "972b6d8a",
   "metadata": {},
   "outputs": [
    {
     "data": {
      "text/plain": [
       "0.0002771556308328054"
      ]
     },
     "execution_count": 22,
     "metadata": {},
     "output_type": "execute_result"
    }
   ],
   "source": [
    "((np.sin(beta))/(np.cos(chi)))"
   ]
  },
  {
   "cell_type": "code",
   "execution_count": 23,
   "id": "f39fa2ec",
   "metadata": {},
   "outputs": [
    {
     "data": {
      "text/plain": [
       "7.681524370233031e-08"
      ]
     },
     "execution_count": 23,
     "metadata": {},
     "output_type": "execute_result"
    }
   ],
   "source": [
    "((np.sin(beta)**2)/(np.cos(chi))**2)"
   ]
  },
  {
   "cell_type": "code",
   "execution_count": 24,
   "id": "860e7f50",
   "metadata": {},
   "outputs": [],
   "source": [
    "vevfi=0.5\n",
    "vevh=246\n",
    "mfi=1\n",
    "mhiggs=125\n",
    "lambdafihiggs=1E-6"
   ]
  },
  {
   "cell_type": "code",
   "execution_count": 25,
   "id": "ad5e32cb",
   "metadata": {},
   "outputs": [
    {
     "data": {
      "text/plain": [
       "7.872503840245774e-09"
      ]
     },
     "execution_count": 25,
     "metadata": {},
     "output_type": "execute_result"
    }
   ],
   "source": [
    "tan2thetascalar= (lambdafihiggs*vevh*vevfi)/((mhiggs)**2-(mfi)**2)\n",
    "tan2thetascalar"
   ]
  },
  {
   "cell_type": "code",
   "execution_count": 26,
   "id": "77679b31",
   "metadata": {},
   "outputs": [
    {
     "data": {
      "text/plain": [
       "3.936251920122887e-09"
      ]
     },
     "execution_count": 26,
     "metadata": {},
     "output_type": "execute_result"
    }
   ],
   "source": [
    "theta_scalar=0.5*np.arctan(tan2thetascalar)\n",
    "theta_scalar"
   ]
  },
  {
   "cell_type": "code",
   "execution_count": 27,
   "id": "493c8377",
   "metadata": {},
   "outputs": [
    {
     "name": "stdout",
     "output_type": "stream",
     "text": [
      "3.936251920122887e-09\n",
      "1.0\n"
     ]
    }
   ],
   "source": [
    "print(np.sin(theta_scalar))\n",
    "print(np.cos(theta_scalar))"
   ]
  },
  {
   "cell_type": "code",
   "execution_count": 32,
   "id": "bc368c3b",
   "metadata": {},
   "outputs": [
    {
     "name": "stdout",
     "output_type": "stream",
     "text": [
      "0.0003077244409212016\n",
      "0.001\n",
      "0.00114335406787332\n",
      "0.8746197071393957\n"
     ]
    }
   ],
   "source": [
    "print(d_V_l)\n",
    "print(epsilon)\n",
    "print(chi)\n",
    "print(np.cos(theta_W))"
   ]
  },
  {
   "cell_type": "code",
   "execution_count": 30,
   "id": "a825ab92",
   "metadata": {},
   "outputs": [
    {
     "name": "stdout",
     "output_type": "stream",
     "text": [
      "0.8746197071393957\n",
      "0.48480962024633706\n",
      "-0.7480575296890004\n",
      "0.000277155453224084\n"
     ]
    }
   ],
   "source": [
    "print(np.cos(theta_W))\n",
    "print(np.sin(theta_W))\n",
    "print(np.cos(29))\n",
    "print(beta)"
   ]
  },
  {
   "cell_type": "code",
   "execution_count": null,
   "id": "f461e01b",
   "metadata": {},
   "outputs": [],
   "source": []
  },
  {
   "cell_type": "code",
   "execution_count": 6,
   "id": "6316ae5c",
   "metadata": {},
   "outputs": [],
   "source": [
    "mass1, mass2, mass_zeta, epsilon_dark, Omega = np.loadtxt('data_out_12', delimiter=' ', unpack=True)"
   ]
  },
  {
   "cell_type": "code",
   "execution_count": 10,
   "id": "e9fdda03",
   "metadata": {},
   "outputs": [
    {
     "data": {
      "image/png": "[encoded data removed]",
      "text/plain": [
       "<Figure size 640x480 with 1 Axes>"
      ]
     },
     "metadata": {},
     "output_type": "display_data"
    }
   ],
   "source": [
    "plt.plot(mass1, epsilon_dark, label='Relic density',color = \"black\")\n",
    "plt.title(r'Thermal iDM,  $\\delta= 0.3m_1$,  $m_{Z^i}=3m_1$,  $\\alpha_D=0.1$ ')\n",
    "plt.xlabel('$m_1$ [GeV]')\n",
    "plt.ylabel('$\\epsilon_D$')\n",
    "plt.xscale('log')\n",
    "plt.yscale('log')\n",
    "plt.legend()\n",
    "plt.grid(which='major')\n",
    "plt.grid(which='minor', axis='y',linestyle='--')\n",
    "plt.show()"
   ]
  },
  {
   "cell_type": "code",
   "execution_count": 11,
   "id": "27ef0864",
   "metadata": {},
   "outputs": [],
   "source": [
    "why=(epsilon_dark**2)*0.1*((1/3)**4)"
   ]
  },
  {
   "cell_type": "code",
   "execution_count": 12,
   "id": "33d2fabe",
   "metadata": {},
   "outputs": [
    {
     "data": {
      "image/png": "[encoded data removed]",
      "text/plain": [
       "<Figure size 640x480 with 1 Axes>"
      ]
     },
     "metadata": {},
     "output_type": "display_data"
    }
   ],
   "source": [
    "plt.plot(mass1, why, label='Relic density',color = \"black\")\n",
    "plt.title(r'Thermal iDM,  $\\delta= 0.3m_1$,  $m_{Z^i}=3m_1$,  $\\alpha_D=0.1$ ')\n",
    "plt.xlabel('$m_1$ [GeV]')\n",
    "plt.ylabel(r'$y=\\epsilon_D^2 \\ \\alpha_D \\  (\\frac{m_1}{m_{Z^i}})^4 $')\n",
    "plt.xscale('log')\n",
    "plt.yscale('log')\n",
    "plt.legend()\n",
    "plt.grid(which='major')\n",
    "plt.grid(which='minor', axis='y',linestyle='--')\n",
    "plt.show()"
   ]
  },
  {
   "cell_type": "code",
   "execution_count": null,
   "id": "669dda57",
   "metadata": {},
   "outputs": [],
   "source": []
  },
  {
   "cell_type": "code",
   "execution_count": null,
   "id": "a8ef32c6",
   "metadata": {},
   "outputs": [],
   "source": []
  }
 ],
 "metadata": {
  "kernelspec": {
   "display_name": "Python 3 (ipykernel)",
   "language": "python",
   "name": "python3"
  },
  "language_info": {
   "codemirror_mode": {
    "name": "ipython",
    "version": 3
   },
   "file_extension": ".py",
   "mimetype": "text/x-python",
   "name": "python",
   "nbconvert_exporter": "python",
   "pygments_lexer": "ipython3",
   "version": "3.9.7"
  }
 },
 "nbformat": 4,
 "nbformat_minor": 5
}
