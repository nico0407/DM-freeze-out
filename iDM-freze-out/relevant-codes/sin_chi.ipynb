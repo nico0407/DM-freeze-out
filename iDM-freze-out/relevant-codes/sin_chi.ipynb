{
 "cells": [
  {
   "cell_type": "code",
   "execution_count": 1,
   "id": "b7d03922",
   "metadata": {},
   "outputs": [],
   "source": [
    "import numpy as np"
   ]
  },
  {
   "cell_type": "code",
   "execution_count": 33,
   "id": "eaee11f9",
   "metadata": {},
   "outputs": [],
   "source": [
    "y=1E-5\n",
    "alphaD=0.1\n",
    "theta_W=29"
   ]
  },
  {
   "cell_type": "markdown",
   "id": "e9de4c76",
   "metadata": {},
   "source": [
    "## Gordan's y: $y= \\epsilon^2 \\alpha_D \\Big( \\frac{m_1}{m_X} \\Big)^4$ therefore:\n",
    "### $\\epsilon= \\sqrt{\\frac{y}{\\alpha_D (1/3)^4}}$ but in our model $\\epsilon= \\sin(\\chi) \\cos(\\theta_W) \\sim \\cos(\\theta_W) \\chi$. Therefore $\\Longrightarrow \\sin(\\chi)= \\frac{\\epsilon}{\\cos(\\theta_W)}$"
   ]
  },
  {
   "cell_type": "code",
   "execution_count": 34,
   "id": "c19f1af9",
   "metadata": {},
   "outputs": [
    {
     "data": {
      "text/plain": [
       "0.1203116022873493"
      ]
     },
     "execution_count": 34,
     "metadata": {},
     "output_type": "execute_result"
    }
   ],
   "source": [
    "epsilon= np.sqrt((y)/(alphaD*((1/3)**4)))\n",
    "sin_chi=epsilon/(abs(np.cos(theta_W)))\n",
    "sin_chi"
   ]
  },
  {
   "cell_type": "markdown",
   "id": "f7f2eaa2",
   "metadata": {},
   "source": [
    "### step to do to run micromega more times and create a scan of the paramethers space:\n",
    "#### Go ro micromega folder and type make\n",
    "#### Go to dark photon folder and type make main=main.c\n",
    "#### type then sh main.sh\n",
    "#### It will print a series of values in a output file.\n",
    "\n",
    "### data_in has the values of the paramether space\n",
    "### data_out prints the same values with the associated Omega"
   ]
  },
  {
   "cell_type": "code",
   "execution_count": null,
   "id": "4f656ed2",
   "metadata": {},
   "outputs": [],
   "source": []
  },
  {
   "cell_type": "code",
   "execution_count": null,
   "id": "1b910c56",
   "metadata": {},
   "outputs": [],
   "source": []
  }
 ],
 "metadata": {
  "kernelspec": {
   "display_name": "Python 3 (ipykernel)",
   "language": "python",
   "name": "python3"
  },
  "language_info": {
   "codemirror_mode": {
    "name": "ipython",
    "version": 3
   },
   "file_extension": ".py",
   "mimetype": "text/x-python",
   "name": "python",
   "nbconvert_exporter": "python",
   "pygments_lexer": "ipython3",
   "version": "3.9.7"
  }
 },
 "nbformat": 4,
 "nbformat_minor": 5
}
