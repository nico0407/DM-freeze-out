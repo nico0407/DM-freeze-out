{
 "cells": [
  {
   "cell_type": "code",
   "execution_count": 1,
   "id": "b7d03922",
   "metadata": {},
   "outputs": [],
   "source": [
    "import numpy as np"
   ]
  },
  {
   "cell_type": "code",
   "execution_count": 2,
   "id": "eaee11f9",
   "metadata": {},
   "outputs": [],
   "source": [
    "y=1E-5\n",
    "alphaD=0.1\n",
    "theta_W=29"
   ]
  },
  {
   "cell_type": "markdown",
   "id": "e9de4c76",
   "metadata": {},
   "source": [
    "## Gordan's y: $y= \\epsilon^2 \\alpha_D \\Big( \\frac{m_1}{m_X} \\Big)^4$ therefore:\n",
    "### $\\epsilon= \\sqrt{\\frac{y}{\\alpha_D (1/3)^4}}$ but in our model $\\epsilon= \\sin(\\chi) \\cos(\\theta_W) \\sim \\cos(\\theta_W) \\chi$. Therefore $\\Longrightarrow \\sin(\\chi)= \\frac{\\epsilon}{\\cos(\\theta_W)}$"
   ]
  },
  {
   "cell_type": "code",
   "execution_count": 3,
   "id": "c19f1af9",
   "metadata": {},
   "outputs": [
    {
     "data": {
      "text/plain": [
       "0.1203116022873493"
      ]
     },
     "execution_count": 3,
     "metadata": {},
     "output_type": "execute_result"
    }
   ],
   "source": [
    "epsilon= np.sqrt((y)/(alphaD*((1/3)**4)))\n",
    "sin_chi=epsilon/(abs(np.cos(theta_W)))\n",
    "sin_chi"
   ]
  },
  {
   "cell_type": "markdown",
   "id": "f7f2eaa2",
   "metadata": {},
   "source": [
    "### step to do to run micromega more times and create a scan of the paramethers space:\n",
    "#### Go ro micromega folder and type make\n",
    "#### Go to dark photon folder and type make main=main.c\n",
    "#### type then sh main.sh\n",
    "#### It will print a series of values in a output file.\n",
    "\n",
    "### data_in has the values of the paramether space\n",
    "### data_out prints the same values with the associated Omega"
   ]
  },
  {
   "cell_type": "code",
   "execution_count": 5,
   "id": "4f656ed2",
   "metadata": {},
   "outputs": [],
   "source": [
    "m1 = 0.050                                #GeV DM Mass\n",
    "delta=0.3*m1\n",
    "m2=m1+delta\n",
    "\n",
    "mzprime=3*m1                                  #Mass of the dark photon in GeV    150 MeV\n",
    "Mp = 1.22e19   \n",
    "m=0.000501                                 # I choose the electron mass in Gev\n",
    "mf=0.000501 \n",
    "mmu=0.1057                                 # mass of the muon in GeV\n",
    "\n",
    "\n",
    "s0= m1**2 + m2**2 + 2*m1*m2\n",
    "s0_SCAT= m1**2 + mf**2 + 2*m1*mf\n",
    "\n",
    "\n",
    "\n",
    "epsilon=1E-3               # Has inside some factors as indicated in the computation papers     1E-4\n",
    "alpha_dark=1E-1               # what values?       (1E-3    -   1E-1)  \n",
    "alpha_em=1/137\n",
    "\n",
    "\n",
    "theta_W=29\n",
    "mass_Z=91.1876   # GeV\n",
    "g_W=0.641\n",
    "chi=epsilon/np.cos(theta_W)\n",
    "\n",
    "mu_squared=(mzprime**2)/(mass_Z**2)\n",
    "\n",
    "tan_2beta= (np.sin(theta_W)*np.sin(chi)*np.cos(chi))/((np.cos(chi)**2)-(np.sin(chi)**2)*(np.sin(theta_W)**2)-(mu_squared)) \n",
    "beta=0.5*np.arctan(tan_2beta)\n",
    "d_V_l= ((g_W)/(2*np.cos(theta_W)))*((3/2)*np.cos(beta)*np.sin(theta_W)*np.tan(chi)-np.sin(beta)*(2*(np.sin(theta_W)**2)-(1/2)))"
   ]
  },
  {
   "cell_type": "code",
   "execution_count": 7,
   "id": "1b910c56",
   "metadata": {},
   "outputs": [
    {
     "data": {
      "text/plain": [
       "1.0000015902671036"
      ]
     },
     "execution_count": 7,
     "metadata": {},
     "output_type": "execute_result"
    }
   ],
   "source": [
    "((np.cos(beta)**2)/(np.cos(chi)**2))"
   ]
  }
 ],
 "metadata": {
  "kernelspec": {
   "display_name": "Python 3 (ipykernel)",
   "language": "python",
   "name": "python3"
  },
  "language_info": {
   "codemirror_mode": {
    "name": "ipython",
    "version": 3
   },
   "file_extension": ".py",
   "mimetype": "text/x-python",
   "name": "python",
   "nbconvert_exporter": "python",
   "pygments_lexer": "ipython3",
   "version": "3.9.7"
  }
 },
 "nbformat": 4,
 "nbformat_minor": 5
}
