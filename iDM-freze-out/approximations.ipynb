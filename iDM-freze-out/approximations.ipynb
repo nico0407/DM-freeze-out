{
 "cells": [
  {
   "cell_type": "code",
   "execution_count": 56,
   "id": "ff36d4a2",
   "metadata": {},
   "outputs": [],
   "source": [
    "import matplotlib.pyplot as plt\n",
    "import csv\n",
    "import numpy as np\n",
    "from scipy import optimize\n",
    "import pandas as pd\n",
    "\n",
    "from scipy import integrate\n",
    "from scipy import special"
   ]
  },
  {
   "cell_type": "code",
   "execution_count": 57,
   "id": "6db485bb",
   "metadata": {},
   "outputs": [],
   "source": [
    "# Parameters\n",
    "\n",
    "m1 = 0.050      # 10                          #GeV DM Mass\n",
    "delta= 0.3*m1      #0.2*m1\n",
    "m2=m1+delta\n",
    "\n",
    "mzprime=3*m1                                  #Mass of the dark photon in GeV    150 MeV\n",
    "Mp = 1.22e19   \n",
    "m=0.000501                                 # I choose the electron mass in Gev\n",
    "mmu=0.1057                                 # mass of the muon in GeV\n",
    "\n",
    "\n",
    "s0= m1**2 + m2**2 + 2*m1*m2\n",
    "\n",
    "\n",
    "epsilon=1E-3               # Has inside some factors as indicated in the computation papers     1E-4\n",
    "alpha_dark=1E-1               # what values?       (1E-3    -   1E-1)  \n",
    "alpha_em=1/137\n",
    "\n",
    "\n"
   ]
  },
  {
   "cell_type": "code",
   "execution_count": 58,
   "id": "7b588542",
   "metadata": {},
   "outputs": [
    {
     "data": {
      "text/plain": [
       "1.4101234699357789e-06"
      ]
     },
     "execution_count": 58,
     "metadata": {},
     "output_type": "execute_result"
    }
   ],
   "source": [
    "coannihilation= (4*np.pi*(epsilon**2)*alpha_dark*alpha_em*((m1+m2)**2))/(((m1+m2)**2 - (mzprime**2))**2)\n",
    "coannihilation"
   ]
  },
  {
   "cell_type": "code",
   "execution_count": 59,
   "id": "c90012ed",
   "metadata": {},
   "outputs": [],
   "source": [
    "T=np.linspace(10,0.1,1000)   # Temperature in MeV "
   ]
  },
  {
   "cell_type": "code",
   "execution_count": 60,
   "id": "2d753881",
   "metadata": {},
   "outputs": [],
   "source": [
    "def scattering(T):\n",
    "    return (16*np.pi*(epsilon)**2)*alpha_dark*alpha_em*(T**2)/mzprime**4"
   ]
  },
  {
   "cell_type": "code",
   "execution_count": 74,
   "id": "5bc1b429",
   "metadata": {},
   "outputs": [
    {
     "data": {
      "text/plain": [
       "5.560003416264709e-10"
      ]
     },
     "execution_count": 74,
     "metadata": {},
     "output_type": "execute_result"
    }
   ],
   "source": [
    "scattering(Tfo2)"
   ]
  },
  {
   "cell_type": "code",
   "execution_count": 61,
   "id": "094ef317",
   "metadata": {},
   "outputs": [
    {
     "data": {
      "text/plain": [
       "[<matplotlib.lines.Line2D at 0x125888370>]"
      ]
     },
     "execution_count": 61,
     "metadata": {},
     "output_type": "execute_result"
    },
    {
     "data": {
      "image/png": "[encoded data removed]",
      "text/plain": [
       "<Figure size 640x480 with 1 Axes>"
      ]
     },
     "metadata": {},
     "output_type": "display_data"
    }
   ],
   "source": [
    "plt.plot(T,scattering(T))"
   ]
  },
  {
   "cell_type": "code",
   "execution_count": 62,
   "id": "199fda81",
   "metadata": {},
   "outputs": [
    {
     "data": {
      "text/plain": [
       "9.293719304636218e-17"
      ]
     },
     "execution_count": 62,
     "metadata": {},
     "output_type": "execute_result"
    }
   ],
   "source": [
    "decay=(4*(epsilon**2)*alpha_dark*alpha_em*(delta**5))/(15*np.pi*(mzprime**4))\n",
    "decay"
   ]
  },
  {
   "cell_type": "code",
   "execution_count": null,
   "id": "2c5336f7",
   "metadata": {},
   "outputs": [],
   "source": []
  },
  {
   "cell_type": "code",
   "execution_count": null,
   "id": "2a313490",
   "metadata": {},
   "outputs": [],
   "source": []
  },
  {
   "cell_type": "markdown",
   "id": "fcabf256",
   "metadata": {},
   "source": [
    "# Using those approximations now I am going to compute the thermal coannihilation cross section times velocity"
   ]
  },
  {
   "cell_type": "code",
   "execution_count": 63,
   "id": "b672bca1",
   "metadata": {},
   "outputs": [
    {
     "data": {
      "text/plain": [
       "1.833030277982336"
      ]
     },
     "execution_count": 63,
     "metadata": {},
     "output_type": "execute_result"
    }
   ],
   "source": [
    "(3.36/np.sqrt(3.36))"
   ]
  },
  {
   "cell_type": "code",
   "execution_count": 64,
   "id": "de2a42fd",
   "metadata": {},
   "outputs": [],
   "source": [
    "def xf1(coannihilation):\n",
    "    return np.log(0.038*(3.36/np.sqrt(3.36))*Mp*m1*coannihilation)- (0.5)*np.log(np.log(0.038*(3.36/np.sqrt(3.36))*Mp*m1*coannihilation))\n",
    "\n",
    "def xf2(coannihilation):\n",
    "    return np.log(0.038*(3.36/np.sqrt(3.36))*Mp*m2*coannihilation)- (0.5)*np.log(np.log(0.038*(3.36/np.sqrt(3.36))*Mp*m2*coannihilation))"
   ]
  },
  {
   "cell_type": "code",
   "execution_count": 65,
   "id": "4dd56abb",
   "metadata": {},
   "outputs": [
    {
     "name": "stdout",
     "output_type": "stream",
     "text": [
      "23.210455027770372\n",
      "23.467560891873568\n",
      "0.0021542016276792945\n",
      "0.0027697808178483705\n",
      "0.0024619912227638327\n"
     ]
    }
   ],
   "source": [
    "print(xf1(coannihilation))\n",
    "print(xf2(coannihilation))\n",
    "\n",
    "Tfo1=m1/xf1(coannihilation)\n",
    "Tfo2=m2/xf2(coannihilation)\n",
    "\n",
    "print(Tfo1)\n",
    "print(Tfo2)\n",
    "print(((Tfo1+Tfo2)/2))\n",
    "\n",
    "# WHICH TEMPERATURE DO I NEED TO CHOOSE?!?!?"
   ]
  },
  {
   "cell_type": "code",
   "execution_count": 66,
   "id": "ca885547",
   "metadata": {},
   "outputs": [
    {
     "data": {
      "text/plain": [
       "1.4902743439025128e-32"
      ]
     },
     "execution_count": 66,
     "metadata": {},
     "output_type": "execute_result"
    }
   ],
   "source": [
    "NUMERATOR=integrate.quad(lambda s_tilda: coannihilation*(s_tilda-s0)*np.sqrt(s_tilda)*special.kv(1,np.sqrt(s_tilda)/(Tfo2)), s0, np.inf )[0]    \n",
    "\n",
    "NUMERATOR"
   ]
  },
  {
   "cell_type": "code",
   "execution_count": 67,
   "id": "04e811aa",
   "metadata": {},
   "outputs": [
    {
     "data": {
      "text/plain": [
       "5.034066621967543e+25"
      ]
     },
     "execution_count": 67,
     "metadata": {},
     "output_type": "execute_result"
    }
   ],
   "source": [
    "DENOMINATOR= 1/(8* m1**2 * m2**2  *(Tfo2) *(special.kn(2,m1/Tfo2)*(special.kn(2,m2/Tfo2))))\n",
    "\n",
    "DENOMINATOR"
   ]
  },
  {
   "cell_type": "code",
   "execution_count": 68,
   "id": "a5d94060",
   "metadata": {},
   "outputs": [
    {
     "data": {
      "text/plain": [
       "7.502140332214219e-07"
      ]
     },
     "execution_count": 68,
     "metadata": {},
     "output_type": "execute_result"
    }
   ],
   "source": [
    "SIGMAVTERMAL=NUMERATOR*DENOMINATOR\n",
    "\n",
    "SIGMAVTERMAL"
   ]
  },
  {
   "cell_type": "code",
   "execution_count": 69,
   "id": "7ea651ad",
   "metadata": {},
   "outputs": [
    {
     "data": {
      "text/plain": [
       "8.754536386063565e-24"
      ]
     },
     "execution_count": 69,
     "metadata": {},
     "output_type": "execute_result"
    }
   ],
   "source": [
    "SIGMAVTERMAL*1.1669385*1E-17      # result in cm^3/s "
   ]
  },
  {
   "cell_type": "markdown",
   "id": "29e80369",
   "metadata": {},
   "source": [
    "### Close"
   ]
  },
  {
   "cell_type": "code",
   "execution_count": null,
   "id": "8282b364",
   "metadata": {},
   "outputs": [],
   "source": []
  },
  {
   "cell_type": "markdown",
   "id": "5af3874e",
   "metadata": {},
   "source": [
    "# Now is the decay time"
   ]
  },
  {
   "cell_type": "code",
   "execution_count": 70,
   "id": "42ff6562",
   "metadata": {},
   "outputs": [
    {
     "data": {
      "text/plain": [
       "9.821970724139237e-43"
      ]
     },
     "execution_count": 70,
     "metadata": {},
     "output_type": "execute_result"
    }
   ],
   "source": [
    "NUMERATOR_DECAY=integrate.quad(lambda s_tilda: decay*(s_tilda-s0)*np.sqrt(s_tilda)*special.kv(1,np.sqrt(s_tilda)/(Tfo2)), s0, np.inf )[0]    \n",
    "\n",
    "NUMERATOR_DECAY"
   ]
  },
  {
   "cell_type": "code",
   "execution_count": 71,
   "id": "e89e177c",
   "metadata": {},
   "outputs": [
    {
     "data": {
      "text/plain": [
       "5.034066621967543e+25"
      ]
     },
     "execution_count": 71,
     "metadata": {},
     "output_type": "execute_result"
    }
   ],
   "source": [
    "DENOMINATOR_DECAY= 1/(8* m1**2 * m2**2  *(Tfo2) *(special.kn(2,m1/Tfo2)*(special.kn(2,m2/Tfo2))))\n",
    "\n",
    "DENOMINATOR_DECAY"
   ]
  },
  {
   "cell_type": "code",
   "execution_count": 72,
   "id": "ff603d75",
   "metadata": {},
   "outputs": [
    {
     "data": {
      "text/plain": [
       "4.9444454984331714e-17"
      ]
     },
     "execution_count": 72,
     "metadata": {},
     "output_type": "execute_result"
    }
   ],
   "source": [
    "SIGMAVTERMAL_DECAY=NUMERATOR_DECAY*DENOMINATOR_DECAY\n",
    "\n",
    "SIGMAVTERMAL_DECAY"
   ]
  },
  {
   "cell_type": "code",
   "execution_count": 73,
   "id": "3fab28af",
   "metadata": {},
   "outputs": [
    {
     "data": {
      "text/plain": [
       "5.769863813273358e-34"
      ]
     },
     "execution_count": 73,
     "metadata": {},
     "output_type": "execute_result"
    }
   ],
   "source": [
    "SIGMAVTERMAL_DECAY*1.1669385*1E-17      # result in cm^3/s "
   ]
  },
  {
   "cell_type": "markdown",
   "id": "6d3367fa",
   "metadata": {},
   "source": [
    "## Problems:\n",
    "### -What masses do I need to use?\n",
    "### -What temperatures do I need to use?\n",
    "### -Why the approx of the decay is proportional to Delta?\n",
    "### -The denominator ever change?"
   ]
  },
  {
   "cell_type": "code",
   "execution_count": null,
   "id": "b2e2fdcd",
   "metadata": {},
   "outputs": [],
   "source": []
  },
  {
   "cell_type": "markdown",
   "id": "998b13e1",
   "metadata": {},
   "source": [
    "# Now is the scattering time\n",
    "## This cross section depends on the temperature. But is refered to $\\chi_2$ so maybe I have tp use the temperature pf freeze-out of $\\chi_2$"
   ]
  },
  {
   "cell_type": "code",
   "execution_count": 75,
   "id": "3d16bda4",
   "metadata": {},
   "outputs": [
    {
     "data": {
      "text/plain": [
       "5.876031865242966e-36"
      ]
     },
     "execution_count": 75,
     "metadata": {},
     "output_type": "execute_result"
    }
   ],
   "source": [
    "NUMERATOR_SCATTERING=integrate.quad(lambda s_tilda: scattering(Tfo2)*(s_tilda-s0)*np.sqrt(s_tilda)*special.kv(1,np.sqrt(s_tilda)/(Tfo2)), s0, np.inf )[0]    \n",
    "\n",
    "NUMERATOR_SCATTERING"
   ]
  },
  {
   "cell_type": "code",
   "execution_count": 76,
   "id": "102adf3c",
   "metadata": {},
   "outputs": [
    {
     "data": {
      "text/plain": [
       "5.034066621967543e+25"
      ]
     },
     "execution_count": 76,
     "metadata": {},
     "output_type": "execute_result"
    }
   ],
   "source": [
    "DENOMINATOR_SCATTERING= 1/(8* m1**2 * m2**2  *(Tfo2) *(special.kn(2,m1/Tfo2)*(special.kn(2,m2/Tfo2))))\n",
    "\n",
    "DENOMINATOR_SCATTERING"
   ]
  },
  {
   "cell_type": "code",
   "execution_count": 77,
   "id": "d4059005",
   "metadata": {},
   "outputs": [
    {
     "data": {
      "text/plain": [
       "2.95803358824373e-10"
      ]
     },
     "execution_count": 77,
     "metadata": {},
     "output_type": "execute_result"
    }
   ],
   "source": [
    "SIGMAVTERMAL_SCATTERING=NUMERATOR_SCATTERING*DENOMINATOR_SCATTERING\n",
    "\n",
    "SIGMAVTERMAL_SCATTERING"
   ]
  },
  {
   "cell_type": "code",
   "execution_count": 78,
   "id": "77e73099",
   "metadata": {},
   "outputs": [
    {
     "data": {
      "text/plain": [
       "3.451843278414756e-27"
      ]
     },
     "execution_count": 78,
     "metadata": {},
     "output_type": "execute_result"
    }
   ],
   "source": [
    "SIGMAVTERMAL_SCATTERING*1.1669385*1E-17      # result in cm^3/s "
   ]
  },
  {
   "cell_type": "code",
   "execution_count": null,
   "id": "6db2f147",
   "metadata": {},
   "outputs": [],
   "source": []
  }
 ],
 "metadata": {
  "kernelspec": {
   "display_name": "Python 3 (ipykernel)",
   "language": "python",
   "name": "python3"
  },
  "language_info": {
   "codemirror_mode": {
    "name": "ipython",
    "version": 3
   },
   "file_extension": ".py",
   "mimetype": "text/x-python",
   "name": "python",
   "nbconvert_exporter": "python",
   "pygments_lexer": "ipython3",
   "version": "3.9.7"
  }
 },
 "nbformat": 4,
 "nbformat_minor": 5
}
