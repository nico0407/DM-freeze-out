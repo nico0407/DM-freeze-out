{
 "cells": [
  {
   "cell_type": "code",
   "execution_count": 3,
   "id": "ff36d4a2",
   "metadata": {},
   "outputs": [],
   "source": [
    "import matplotlib.pyplot as plt\n",
    "import csv\n",
    "import numpy as np\n",
    "from scipy import optimize\n",
    "import pandas as pd\n",
    "\n",
    "from scipy import integrate\n",
    "from scipy import special"
   ]
  },
  {
   "cell_type": "code",
   "execution_count": 22,
   "id": "6db485bb",
   "metadata": {},
   "outputs": [],
   "source": [
    "# Parameters\n",
    "\n",
    "m1 = 0.050      # 10                          #GeV DM Mass\n",
    "delta= 0.3*m1      #0.2*m1\n",
    "m2=m1+delta\n",
    "\n",
    "mzprime=3*m1                                  #Mass of the dark photon in GeV    150 MeV\n",
    "Mp = 1.22e19   \n",
    "m=0.000501                                 # I choose the electron mass in Gev\n",
    "mmu=0.1057                                 # mass of the muon in GeV\n",
    "\n",
    "\n",
    "s0= m1**2 + m2**2 + 2*m1*m2\n",
    "\n",
    "\n",
    "epsilon=1E-3               # Has inside some factors as indicated in the computation papers     1E-4\n",
    "alpha_dark=1E-1               # what values?       (1E-3    -   1E-1)  \n",
    "alpha_em=1/137\n",
    "\n",
    "\n"
   ]
  },
  {
   "cell_type": "code",
   "execution_count": 23,
   "id": "7b588542",
   "metadata": {},
   "outputs": [
    {
     "data": {
      "text/plain": [
       "1.4101234699357789e-06"
      ]
     },
     "execution_count": 23,
     "metadata": {},
     "output_type": "execute_result"
    }
   ],
   "source": [
    "# PAY ATTENTION:\n",
    "# IT'S HIGHLY PROBABLE THAT THIS APPROXIMATION FOR THE CROSS SECTION\n",
    "# COULD BE CONSIDERED ALREADY THE THERMAL AVERAGE CROSS SECTION TIMES VELOCITY!!\n",
    "# IT'S THE FIRST ORDER OF EXPANSION OF THE CROSS SECTION, AND IS THE FIRST ORDER APPROXIMATION\n",
    "# CONSIDERED BY THE THREE EXEPTION PAPER!!!\n",
    "\n",
    "\n",
    "coannihilation= (4*np.pi*(epsilon**2)*alpha_dark*alpha_em*((m1+m2)**2))/(((m1+m2)**2 - (mzprime**2))**2)\n",
    "coannihilation"
   ]
  },
  {
   "cell_type": "code",
   "execution_count": 24,
   "id": "c90012ed",
   "metadata": {},
   "outputs": [],
   "source": [
    "T=np.linspace(10,0.1,1000)   # Temperature in MeV "
   ]
  },
  {
   "cell_type": "code",
   "execution_count": 25,
   "id": "2d753881",
   "metadata": {},
   "outputs": [],
   "source": [
    "def scattering(T):\n",
    "    return (16*np.pi*(epsilon)**2)*alpha_dark*alpha_em*(T**2)/mzprime**4"
   ]
  },
  {
   "cell_type": "code",
   "execution_count": 26,
   "id": "9b1bfeb2",
   "metadata": {},
   "outputs": [
    {
     "data": {
      "text/plain": [
       "7.247433714688533e-05"
      ]
     },
     "execution_count": 26,
     "metadata": {},
     "output_type": "execute_result"
    }
   ],
   "source": [
    "scattering=(16*np.pi*(epsilon)**2)*alpha_dark*alpha_em/mzprime**4\n",
    "scattering"
   ]
  },
  {
   "cell_type": "code",
   "execution_count": 27,
   "id": "5bc1b429",
   "metadata": {},
   "outputs": [
    {
     "ename": "TypeError",
     "evalue": "'float' object is not callable",
     "output_type": "error",
     "traceback": [
      "\u001b[0;31m---------------------------------------------------------------------------\u001b[0m",
      "\u001b[0;31mTypeError\u001b[0m                                 Traceback (most recent call last)",
      "Cell \u001b[0;32mIn [27], line 1\u001b[0m\n\u001b[0;32m----> 1\u001b[0m \u001b[43mscattering\u001b[49m\u001b[43m(\u001b[49m\u001b[43mTfo2\u001b[49m\u001b[43m)\u001b[49m\n",
      "\u001b[0;31mTypeError\u001b[0m: 'float' object is not callable"
     ]
    }
   ],
   "source": [
    "scattering(Tfo2)"
   ]
  },
  {
   "cell_type": "code",
   "execution_count": 28,
   "id": "094ef317",
   "metadata": {},
   "outputs": [
    {
     "ename": "TypeError",
     "evalue": "'float' object is not callable",
     "output_type": "error",
     "traceback": [
      "\u001b[0;31m---------------------------------------------------------------------------\u001b[0m",
      "\u001b[0;31mTypeError\u001b[0m                                 Traceback (most recent call last)",
      "Cell \u001b[0;32mIn [28], line 1\u001b[0m\n\u001b[0;32m----> 1\u001b[0m plt\u001b[38;5;241m.\u001b[39mplot(T,\u001b[43mscattering\u001b[49m\u001b[43m(\u001b[49m\u001b[43mT\u001b[49m\u001b[43m)\u001b[49m)\n",
      "\u001b[0;31mTypeError\u001b[0m: 'float' object is not callable"
     ]
    }
   ],
   "source": [
    "plt.plot(T,scattering(T))"
   ]
  },
  {
   "cell_type": "code",
   "execution_count": 29,
   "id": "199fda81",
   "metadata": {},
   "outputs": [
    {
     "data": {
      "text/plain": [
       "9.293719304636218e-17"
      ]
     },
     "execution_count": 29,
     "metadata": {},
     "output_type": "execute_result"
    }
   ],
   "source": [
    "decay=(4*(epsilon**2)*alpha_dark*alpha_em*(delta**5))/(15*np.pi*(mzprime**4))\n",
    "decay"
   ]
  },
  {
   "cell_type": "markdown",
   "id": "007d972e",
   "metadata": {},
   "source": [
    "# Probably there is not necessare to integrate and get the termal average, because the first approximations still works as thermal averages"
   ]
  },
  {
   "cell_type": "code",
   "execution_count": null,
   "id": "2a313490",
   "metadata": {},
   "outputs": [],
   "source": []
  },
  {
   "cell_type": "markdown",
   "id": "fcabf256",
   "metadata": {},
   "source": [
    "# Using those approximations now I am going to compute the thermal coannihilation cross section times velocity"
   ]
  },
  {
   "cell_type": "code",
   "execution_count": 30,
   "id": "b672bca1",
   "metadata": {},
   "outputs": [
    {
     "data": {
      "text/plain": [
       "1.833030277982336"
      ]
     },
     "execution_count": 30,
     "metadata": {},
     "output_type": "execute_result"
    }
   ],
   "source": [
    "(3.36/np.sqrt(3.36))"
   ]
  },
  {
   "cell_type": "code",
   "execution_count": 31,
   "id": "de2a42fd",
   "metadata": {},
   "outputs": [],
   "source": [
    "def xf1(coannihilation):\n",
    "    return np.log(0.038*(3.36/np.sqrt(3.36))*Mp*m1*coannihilation)- (0.5)*np.log(np.log(0.038*(3.36/np.sqrt(3.36))*Mp*m1*coannihilation))\n",
    "\n",
    "def xf2(coannihilation):\n",
    "    return np.log(0.038*(3.36/np.sqrt(3.36))*Mp*m2*coannihilation)- (0.5)*np.log(np.log(0.038*(3.36/np.sqrt(3.36))*Mp*m2*coannihilation))"
   ]
  },
  {
   "cell_type": "code",
   "execution_count": 32,
   "id": "4dd56abb",
   "metadata": {},
   "outputs": [
    {
     "name": "stdout",
     "output_type": "stream",
     "text": [
      "23.210455027770372\n",
      "23.467560891873568\n",
      "0.0021542016276792945\n",
      "0.0027697808178483705\n",
      "0.0024619912227638327\n"
     ]
    }
   ],
   "source": [
    "print(xf1(coannihilation))\n",
    "print(xf2(coannihilation))\n",
    "\n",
    "Tfo1=m1/xf1(coannihilation)\n",
    "Tfo2=m2/xf2(coannihilation)\n",
    "\n",
    "print(Tfo1)\n",
    "print(Tfo2)\n",
    "print(((Tfo1+Tfo2)/2))\n",
    "\n",
    "# WHICH TEMPERATURE DO I NEED TO CHOOSE?!?!?"
   ]
  },
  {
   "cell_type": "code",
   "execution_count": 33,
   "id": "ca885547",
   "metadata": {},
   "outputs": [
    {
     "data": {
      "text/plain": [
       "1.4902743439025128e-32"
      ]
     },
     "execution_count": 33,
     "metadata": {},
     "output_type": "execute_result"
    }
   ],
   "source": [
    "NUMERATOR=integrate.quad(lambda s_tilda: coannihilation*(s_tilda-s0)*np.sqrt(s_tilda)*special.kv(1,np.sqrt(s_tilda)/(Tfo2)), s0, np.inf )[0]    \n",
    "\n",
    "NUMERATOR"
   ]
  },
  {
   "cell_type": "code",
   "execution_count": 34,
   "id": "04e811aa",
   "metadata": {},
   "outputs": [
    {
     "data": {
      "text/plain": [
       "5.034066621967543e+25"
      ]
     },
     "execution_count": 34,
     "metadata": {},
     "output_type": "execute_result"
    }
   ],
   "source": [
    "DENOMINATOR= 1/(8* m1**2 * m2**2  *(Tfo2) *(special.kn(2,m1/Tfo2)*(special.kn(2,m2/Tfo2))))\n",
    "\n",
    "DENOMINATOR"
   ]
  },
  {
   "cell_type": "code",
   "execution_count": 35,
   "id": "a5d94060",
   "metadata": {},
   "outputs": [
    {
     "data": {
      "text/plain": [
       "7.502140332214219e-07"
      ]
     },
     "execution_count": 35,
     "metadata": {},
     "output_type": "execute_result"
    }
   ],
   "source": [
    "SIGMAVTERMAL=NUMERATOR*DENOMINATOR\n",
    "\n",
    "SIGMAVTERMAL"
   ]
  },
  {
   "cell_type": "code",
   "execution_count": 36,
   "id": "7ea651ad",
   "metadata": {},
   "outputs": [
    {
     "data": {
      "text/plain": [
       "8.754536386063565e-24"
      ]
     },
     "execution_count": 36,
     "metadata": {},
     "output_type": "execute_result"
    }
   ],
   "source": [
    "SIGMAVTERMAL*1.1669385*1E-17      # result in cm^3/s "
   ]
  },
  {
   "cell_type": "markdown",
   "id": "29e80369",
   "metadata": {},
   "source": [
    "### Close"
   ]
  },
  {
   "cell_type": "code",
   "execution_count": null,
   "id": "8282b364",
   "metadata": {},
   "outputs": [],
   "source": []
  },
  {
   "cell_type": "markdown",
   "id": "5af3874e",
   "metadata": {},
   "source": [
    "# Now is the decay time"
   ]
  },
  {
   "cell_type": "code",
   "execution_count": 37,
   "id": "42ff6562",
   "metadata": {},
   "outputs": [
    {
     "data": {
      "text/plain": [
       "9.821970724139237e-43"
      ]
     },
     "execution_count": 37,
     "metadata": {},
     "output_type": "execute_result"
    }
   ],
   "source": [
    "NUMERATOR_DECAY=integrate.quad(lambda s_tilda: decay*(s_tilda-s0)*np.sqrt(s_tilda)*special.kv(1,np.sqrt(s_tilda)/(Tfo2)), s0, np.inf )[0]    \n",
    "\n",
    "NUMERATOR_DECAY"
   ]
  },
  {
   "cell_type": "code",
   "execution_count": 38,
   "id": "e89e177c",
   "metadata": {},
   "outputs": [
    {
     "data": {
      "text/plain": [
       "5.034066621967543e+25"
      ]
     },
     "execution_count": 38,
     "metadata": {},
     "output_type": "execute_result"
    }
   ],
   "source": [
    "DENOMINATOR_DECAY= 1/(8* m1**2 * m2**2  *(Tfo2) *(special.kn(2,m1/Tfo2)*(special.kn(2,m2/Tfo2))))\n",
    "\n",
    "DENOMINATOR_DECAY"
   ]
  },
  {
   "cell_type": "code",
   "execution_count": 39,
   "id": "ff603d75",
   "metadata": {},
   "outputs": [
    {
     "data": {
      "text/plain": [
       "4.9444454984331714e-17"
      ]
     },
     "execution_count": 39,
     "metadata": {},
     "output_type": "execute_result"
    }
   ],
   "source": [
    "SIGMAVTERMAL_DECAY=NUMERATOR_DECAY*DENOMINATOR_DECAY\n",
    "\n",
    "SIGMAVTERMAL_DECAY"
   ]
  },
  {
   "cell_type": "code",
   "execution_count": 40,
   "id": "3fab28af",
   "metadata": {},
   "outputs": [
    {
     "data": {
      "text/plain": [
       "5.769863813273358e-34"
      ]
     },
     "execution_count": 40,
     "metadata": {},
     "output_type": "execute_result"
    }
   ],
   "source": [
    "SIGMAVTERMAL_DECAY*1.1669385*1E-17      # result in cm^3/s "
   ]
  },
  {
   "cell_type": "markdown",
   "id": "6d3367fa",
   "metadata": {},
   "source": [
    "## Problems:\n",
    "### -What masses do I need to use?\n",
    "### -What temperatures do I need to use?\n",
    "### -Why the approx of the decay is proportional to Delta?\n",
    "### -The denominator ever change?"
   ]
  },
  {
   "cell_type": "code",
   "execution_count": null,
   "id": "b2e2fdcd",
   "metadata": {},
   "outputs": [],
   "source": []
  },
  {
   "cell_type": "markdown",
   "id": "998b13e1",
   "metadata": {},
   "source": [
    "# Now is the scattering time\n",
    "## This cross section depends on the temperature. But is refered to $\\chi_2$ so maybe I have tp use the temperature pf freeze-out of $\\chi_2$"
   ]
  },
  {
   "cell_type": "code",
   "execution_count": 25,
   "id": "3d16bda4",
   "metadata": {},
   "outputs": [
    {
     "data": {
      "text/plain": [
       "5.876031865242966e-36"
      ]
     },
     "execution_count": 25,
     "metadata": {},
     "output_type": "execute_result"
    }
   ],
   "source": [
    "NUMERATOR_SCATTERING=integrate.quad(lambda s_tilda: scattering(Tfo2)*(s_tilda-s0)*np.sqrt(s_tilda)*special.kv(1,np.sqrt(s_tilda)/(Tfo2)), s0, np.inf )[0]    \n",
    "\n",
    "NUMERATOR_SCATTERING"
   ]
  },
  {
   "cell_type": "code",
   "execution_count": 26,
   "id": "102adf3c",
   "metadata": {},
   "outputs": [
    {
     "data": {
      "text/plain": [
       "5.034066621967543e+25"
      ]
     },
     "execution_count": 26,
     "metadata": {},
     "output_type": "execute_result"
    }
   ],
   "source": [
    "DENOMINATOR_SCATTERING= 1/(8* m1**2 * m2**2  *(Tfo2) *(special.kn(2,m1/Tfo2)*(special.kn(2,m2/Tfo2))))\n",
    "\n",
    "DENOMINATOR_SCATTERING"
   ]
  },
  {
   "cell_type": "code",
   "execution_count": 27,
   "id": "d4059005",
   "metadata": {},
   "outputs": [
    {
     "data": {
      "text/plain": [
       "2.95803358824373e-10"
      ]
     },
     "execution_count": 27,
     "metadata": {},
     "output_type": "execute_result"
    }
   ],
   "source": [
    "SIGMAVTERMAL_SCATTERING=NUMERATOR_SCATTERING*DENOMINATOR_SCATTERING\n",
    "\n",
    "SIGMAVTERMAL_SCATTERING"
   ]
  },
  {
   "cell_type": "code",
   "execution_count": 28,
   "id": "77e73099",
   "metadata": {},
   "outputs": [
    {
     "data": {
      "text/plain": [
       "3.451843278414756e-27"
      ]
     },
     "execution_count": 28,
     "metadata": {},
     "output_type": "execute_result"
    }
   ],
   "source": [
    "SIGMAVTERMAL_SCATTERING*1.1669385*1E-17      # result in cm^3/s "
   ]
  },
  {
   "cell_type": "code",
   "execution_count": 29,
   "id": "6db2f147",
   "metadata": {},
   "outputs": [
    {
     "data": {
      "text/plain": [
       "2.95803358824373e-10"
      ]
     },
     "execution_count": 29,
     "metadata": {},
     "output_type": "execute_result"
    }
   ],
   "source": [
    "2.95803358824373e-10"
   ]
  }
 ],
 "metadata": {
  "kernelspec": {
   "display_name": "Python 3 (ipykernel)",
   "language": "python",
   "name": "python3"
  },
  "language_info": {
   "codemirror_mode": {
    "name": "ipython",
    "version": 3
   },
   "file_extension": ".py",
   "mimetype": "text/x-python",
   "name": "python",
   "nbconvert_exporter": "python",
   "pygments_lexer": "ipython3",
   "version": "3.9.7"
  }
 },
 "nbformat": 4,
 "nbformat_minor": 5
}
