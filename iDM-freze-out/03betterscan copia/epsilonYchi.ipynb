{
 "cells": [
  {
   "cell_type": "code",
   "execution_count": 1,
   "id": "99345948",
   "metadata": {},
   "outputs": [],
   "source": [
    "import numpy as np\n",
    "import pandas as pd\n",
    "import matplotlib.pyplot as plt"
   ]
  },
  {
   "cell_type": "code",
   "execution_count": 13,
   "id": "7b5f78ce",
   "metadata": {},
   "outputs": [],
   "source": [
    "m1variation=[]\n",
    "mS0=[]\n",
    "gX=[]\n",
    "epsilondark=[]\n",
    "lambdaphih=[]\n",
    "Ychi=[]\n",
    "m1=0.7"
   ]
  },
  {
   "cell_type": "code",
   "execution_count": 14,
   "id": "8ce8e322",
   "metadata": {},
   "outputs": [],
   "source": [
    "for i in range(50):\n",
    "    m1variation.append(m1+(0.04*i))\n",
    "    mS0.append(1)\n",
    "    gX.append(2.213)\n",
    "    epsilondark.append(0.001+i*0.0001)\n",
    "    #lambdaphih.append(0.00000045)\n",
    "    lambdaphih.append('{:.10f}'.format(0.00000045))\n",
    "    Ychi.append(0.005)"
   ]
  },
  {
   "cell_type": "code",
   "execution_count": 15,
   "id": "b9c67a9b",
   "metadata": {},
   "outputs": [],
   "source": [
    "m1step=np.array(m1variation)\n",
    "mS0step=np.array(mS0)\n",
    "gXstep=np.array(gX)\n",
    "epsilondarkstep=np.array(epsilondark)\n",
    "lambdaphihstep=np.array(lambdaphih)\n",
    "Ychistep=np.array(Ychi)"
   ]
  },
  {
   "cell_type": "code",
   "execution_count": 16,
   "id": "760475f2",
   "metadata": {},
   "outputs": [],
   "source": [
    "mX0=3*m1step\n",
    "m2=m1step + m1step*0.3"
   ]
  },
  {
   "cell_type": "code",
   "execution_count": 17,
   "id": "24f63c85",
   "metadata": {},
   "outputs": [],
   "source": [
    "# Open the file in write mode\n",
    "with open(\"database.txt\", \"w\") as file:\n",
    "    for i in range(50):\n",
    "        for j in range(50):\n",
    "            file.write(str(mX0[j]) + \" \" + str(m1step[j]) + \" \" + str(m2[j]) + \" \" + str(mS0step[i]) + \" \" + str(gXstep[i]) + \" \" + str(epsilondarkstep[i]) + \" \" + str(lambdaphihstep[i]) + \" \" + str(Ychistep[j]) + \"\\n\")\n",
    "        \n",
    "        "
   ]
  },
  {
   "cell_type": "code",
   "execution_count": null,
   "id": "2136e757",
   "metadata": {},
   "outputs": [],
   "source": []
  },
  {
   "cell_type": "code",
   "execution_count": null,
   "id": "5fd47159",
   "metadata": {},
   "outputs": [],
   "source": []
  },
  {
   "cell_type": "code",
   "execution_count": 2,
   "id": "b57261b6",
   "metadata": {},
   "outputs": [],
   "source": [
    "mass_zeta, mass1, mass2, massS0, massgX, massepsilondark, masslambdaphih, massYchi, Omega = np.loadtxt('data_out', delimiter=' ', unpack=True)\n"
   ]
  },
  {
   "cell_type": "code",
   "execution_count": 3,
   "id": "88c6b000",
   "metadata": {},
   "outputs": [],
   "source": [
    "numberindeces=[]"
   ]
  },
  {
   "cell_type": "code",
   "execution_count": 4,
   "id": "53a8b8c4",
   "metadata": {},
   "outputs": [
    {
     "data": {
      "text/plain": [
       "0.148003"
      ]
     },
     "execution_count": 4,
     "metadata": {},
     "output_type": "execute_result"
    }
   ],
   "source": [
    "Omega[3]"
   ]
  },
  {
   "cell_type": "code",
   "execution_count": 5,
   "id": "4adee4d1",
   "metadata": {},
   "outputs": [],
   "source": [
    "for i in range(2500):\n",
    "    if Omega[i]>0.11 and Omega[i] < 0.13:\n",
    "        numberindeces.append(i)"
   ]
  },
  {
   "cell_type": "code",
   "execution_count": 6,
   "id": "428223fe",
   "metadata": {},
   "outputs": [
    {
     "data": {
      "text/plain": [
       "[2,\n",
       " 52,\n",
       " 102,\n",
       " 152,\n",
       " 202,\n",
       " 252,\n",
       " 253,\n",
       " 303,\n",
       " 353,\n",
       " 403,\n",
       " 453,\n",
       " 454,\n",
       " 503,\n",
       " 504,\n",
       " 554,\n",
       " 604,\n",
       " 654,\n",
       " 655,\n",
       " 704,\n",
       " 705,\n",
       " 755,\n",
       " 805,\n",
       " 806,\n",
       " 855,\n",
       " 856,\n",
       " 906,\n",
       " 907,\n",
       " 956,\n",
       " 957,\n",
       " 1006,\n",
       " 1007,\n",
       " 1008,\n",
       " 1057,\n",
       " 1058,\n",
       " 1107,\n",
       " 1108,\n",
       " 1109,\n",
       " 1158,\n",
       " 1159,\n",
       " 1208,\n",
       " 1209,\n",
       " 1210,\n",
       " 1258,\n",
       " 1259,\n",
       " 1260,\n",
       " 1261,\n",
       " 1309,\n",
       " 1310,\n",
       " 1311,\n",
       " 1359,\n",
       " 1360,\n",
       " 1361,\n",
       " 1362,\n",
       " 1410,\n",
       " 1411,\n",
       " 1412,\n",
       " 1461,\n",
       " 1462,\n",
       " 1463,\n",
       " 1511,\n",
       " 1512,\n",
       " 1513,\n",
       " 1514,\n",
       " 1562,\n",
       " 1563,\n",
       " 1564,\n",
       " 1612,\n",
       " 1613,\n",
       " 1614,\n",
       " 1615,\n",
       " 1663,\n",
       " 1664,\n",
       " 1665,\n",
       " 1713,\n",
       " 1714,\n",
       " 1715,\n",
       " 1716,\n",
       " 1764,\n",
       " 1765,\n",
       " 1766,\n",
       " 1767,\n",
       " 1815,\n",
       " 1816,\n",
       " 1817,\n",
       " 1865,\n",
       " 1866,\n",
       " 1867,\n",
       " 1868,\n",
       " 1916,\n",
       " 1917,\n",
       " 1918,\n",
       " 1966,\n",
       " 1967,\n",
       " 1968,\n",
       " 1969,\n",
       " 2017,\n",
       " 2018,\n",
       " 2019,\n",
       " 2020,\n",
       " 2067,\n",
       " 2068,\n",
       " 2069,\n",
       " 2070,\n",
       " 2118,\n",
       " 2119,\n",
       " 2120,\n",
       " 2121,\n",
       " 2168,\n",
       " 2169,\n",
       " 2170,\n",
       " 2171,\n",
       " 2172,\n",
       " 2219,\n",
       " 2220,\n",
       " 2221,\n",
       " 2222,\n",
       " 2270,\n",
       " 2271,\n",
       " 2272,\n",
       " 2273,\n",
       " 2320,\n",
       " 2321,\n",
       " 2322,\n",
       " 2323,\n",
       " 2371,\n",
       " 2372,\n",
       " 2373,\n",
       " 2374,\n",
       " 2421,\n",
       " 2422,\n",
       " 2423,\n",
       " 2424,\n",
       " 2425,\n",
       " 2472,\n",
       " 2473,\n",
       " 2474,\n",
       " 2475]"
      ]
     },
     "execution_count": 6,
     "metadata": {},
     "output_type": "execute_result"
    }
   ],
   "source": [
    "numberindeces"
   ]
  },
  {
   "cell_type": "code",
   "execution_count": 7,
   "id": "46a451fb",
   "metadata": {},
   "outputs": [
    {
     "data": {
      "text/plain": [
       "array([0.7 , 0.74, 0.78, ..., 2.58, 2.62, 2.66])"
      ]
     },
     "execution_count": 7,
     "metadata": {},
     "output_type": "execute_result"
    }
   ],
   "source": [
    "mass1"
   ]
  },
  {
   "cell_type": "code",
   "execution_count": 8,
   "id": "010be082",
   "metadata": {},
   "outputs": [],
   "source": [
    "x=[]\n",
    "y=[]\n",
    "for i in range(len(numberindeces)):\n",
    "    x.append(mass1[numberindeces[i]])\n",
    "    y.append(massepsilondark[numberindeces[i]])"
   ]
  },
  {
   "cell_type": "code",
   "execution_count": 9,
   "id": "3f10f187",
   "metadata": {},
   "outputs": [],
   "source": [
    "x.sort()\n",
    "y.sort()"
   ]
  },
  {
   "cell_type": "code",
   "execution_count": 10,
   "id": "cf9e9762",
   "metadata": {},
   "outputs": [
    {
     "data": {
      "text/plain": [
       "[0.7799999999999999,\n",
       " 0.7799999999999999,\n",
       " 0.7799999999999999,\n",
       " 0.7799999999999999,\n",
       " 0.7799999999999999,\n",
       " 0.7799999999999999,\n",
       " 0.82,\n",
       " 0.82,\n",
       " 0.82,\n",
       " 0.82,\n",
       " 0.82,\n",
       " 0.82,\n",
       " 0.86,\n",
       " 0.86,\n",
       " 0.86,\n",
       " 0.86,\n",
       " 0.86,\n",
       " 0.86,\n",
       " 0.8999999999999999,\n",
       " 0.8999999999999999,\n",
       " 0.8999999999999999,\n",
       " 0.8999999999999999,\n",
       " 0.8999999999999999,\n",
       " 0.94,\n",
       " 0.94,\n",
       " 0.94,\n",
       " 0.94,\n",
       " 0.94,\n",
       " 0.98,\n",
       " 0.98,\n",
       " 0.98,\n",
       " 0.98,\n",
       " 0.98,\n",
       " 1.02,\n",
       " 1.02,\n",
       " 1.02,\n",
       " 1.02,\n",
       " 1.02,\n",
       " 1.02,\n",
       " 1.06,\n",
       " 1.06,\n",
       " 1.06,\n",
       " 1.06,\n",
       " 1.06,\n",
       " 1.06,\n",
       " 1.1,\n",
       " 1.1,\n",
       " 1.1,\n",
       " 1.1,\n",
       " 1.1,\n",
       " 1.14,\n",
       " 1.14,\n",
       " 1.14,\n",
       " 1.14,\n",
       " 1.14,\n",
       " 1.14,\n",
       " 1.18,\n",
       " 1.18,\n",
       " 1.18,\n",
       " 1.18,\n",
       " 1.18,\n",
       " 1.18,\n",
       " 1.22,\n",
       " 1.22,\n",
       " 1.22,\n",
       " 1.22,\n",
       " 1.22,\n",
       " 1.22,\n",
       " 1.26,\n",
       " 1.26,\n",
       " 1.26,\n",
       " 1.26,\n",
       " 1.26,\n",
       " 1.26,\n",
       " 1.2999999999999998,\n",
       " 1.2999999999999998,\n",
       " 1.2999999999999998,\n",
       " 1.2999999999999998,\n",
       " 1.2999999999999998,\n",
       " 1.2999999999999998,\n",
       " 1.3399999999999999,\n",
       " 1.3399999999999999,\n",
       " 1.3399999999999999,\n",
       " 1.3399999999999999,\n",
       " 1.3399999999999999,\n",
       " 1.3399999999999999,\n",
       " 1.38,\n",
       " 1.38,\n",
       " 1.38,\n",
       " 1.38,\n",
       " 1.38,\n",
       " 1.38,\n",
       " 1.38,\n",
       " 1.42,\n",
       " 1.42,\n",
       " 1.42,\n",
       " 1.42,\n",
       " 1.42,\n",
       " 1.42,\n",
       " 1.42,\n",
       " 1.46,\n",
       " 1.46,\n",
       " 1.46,\n",
       " 1.46,\n",
       " 1.46,\n",
       " 1.46,\n",
       " 1.5,\n",
       " 1.5,\n",
       " 1.5,\n",
       " 1.5,\n",
       " 1.5,\n",
       " 1.5,\n",
       " 1.5,\n",
       " 1.54,\n",
       " 1.54,\n",
       " 1.54,\n",
       " 1.54,\n",
       " 1.54,\n",
       " 1.54,\n",
       " 1.54,\n",
       " 1.58,\n",
       " 1.58,\n",
       " 1.58,\n",
       " 1.58,\n",
       " 1.58,\n",
       " 1.58,\n",
       " 1.58,\n",
       " 1.62,\n",
       " 1.62,\n",
       " 1.62,\n",
       " 1.62,\n",
       " 1.62,\n",
       " 1.66,\n",
       " 1.66,\n",
       " 1.66,\n",
       " 1.7,\n",
       " 1.7]"
      ]
     },
     "execution_count": 10,
     "metadata": {},
     "output_type": "execute_result"
    }
   ],
   "source": [
    "x"
   ]
  },
  {
   "cell_type": "code",
   "execution_count": 11,
   "id": "6fd7c099",
   "metadata": {},
   "outputs": [
    {
     "data": {
      "image/png": "[encoded data removed]",
      "text/plain": [
       "<Figure size 640x480 with 1 Axes>"
      ]
     },
     "metadata": {},
     "output_type": "display_data"
    }
   ],
   "source": [
    "plt.scatter(x, y, label='Relic density',color = \"black\")\n",
    "plt.title(r'Thermal iDM,  $\\delta= 0.3m_1$,  $m_{Z^i}=3m_1$,  $\\alpha_D=0.39$,  $Y_\\chi=0.005$,  $m_\\phi=1$ GeV')\n",
    "plt.xlabel('$m_1$')\n",
    "plt.ylabel('$\\epsilon_D$')\n",
    "plt.xscale('log')\n",
    "plt.yscale('log')\n",
    "plt.legend()\n",
    "plt.grid(which='major')\n",
    "plt.grid(which='minor', axis='y',linestyle='--')\n",
    "plt.show()"
   ]
  },
  {
   "cell_type": "code",
   "execution_count": null,
   "id": "e177fccc",
   "metadata": {},
   "outputs": [],
   "source": []
  }
 ],
 "metadata": {
  "kernelspec": {
   "display_name": "Python 3 (ipykernel)",
   "language": "python",
   "name": "python3"
  },
  "language_info": {
   "codemirror_mode": {
    "name": "ipython",
    "version": 3
   },
   "file_extension": ".py",
   "mimetype": "text/x-python",
   "name": "python",
   "nbconvert_exporter": "python",
   "pygments_lexer": "ipython3",
   "version": "3.9.7"
  }
 },
 "nbformat": 4,
 "nbformat_minor": 5
}
