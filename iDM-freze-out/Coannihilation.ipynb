{
 "cells": [
  {
   "cell_type": "code",
   "execution_count": 1,
   "id": "88961547",
   "metadata": {},
   "outputs": [],
   "source": [
    "import matplotlib.pyplot as plt\n",
    "import csv\n",
    "import numpy as np\n",
    "from scipy import optimize\n",
    "import pandas as pd"
   ]
  },
  {
   "cell_type": "code",
   "execution_count": 2,
   "id": "e098ae38",
   "metadata": {},
   "outputs": [],
   "source": [
    "# Parameters\n",
    "\n",
    "m1 = 0.050                                #GeV DM Mass\n",
    "delta=0.3*m1\n",
    "m2=m1+delta\n",
    "mzprime=1\n",
    "Mp = 1.22e19   \n",
    "m=1\n",
    "\n",
    "epsilon=1        # Has inside some factors as indicated in the computation papers\n",
    "alpha_dark=1\n",
    "alpha_em=1\n",
    "\n",
    "pfin_pinit= np.sqrt(((s-2*m**2)**2)-4*(m**4)/((s-(m1**2)-(m2**2))**2)-4*(m1**2)*(m2**2))   # ratio pfinal over p initial\n",
    "p_fin=np.sqrt((((s-2*m**2)**2)-4*(m**4))/4*s)        # p final\n",
    "p_init=np.sqrt((((s-(m1**2)-(m2**2))**2)-4*(m1**2)*(m2**2))/4*s)      # p initial\n",
    "\n",
    "E1= np.sqrt(m1**2 + p_init**2)\n",
    "E1= np.sqrt(m2**2 + p_init**2)"
   ]
  },
  {
   "cell_type": "markdown",
   "id": "62915163",
   "metadata": {},
   "source": [
    "$$\\sigma= \\frac{16 \\pi \\epsilon \\alpha_D \\alpha}{s(s-m_{Z'}^2)^2} \\frac{|p_{final}|}{|p_{initial}|}\\Big( \\frac{sE_1E_2}{2}+ \\frac{2}{3} p_{final}^2 p_{initial}^2 + \\frac{m^2(s-m_1^2-m_2^2)}{2}+ \\frac{m_1m_2(s-2m^2)}{2}+ 2m^2 m_1 m_2 \\Big)$$"
   ]
  },
  {
   "cell_type": "code",
   "execution_count": null,
   "id": "3ec3f26e",
   "metadata": {},
   "outputs": [],
   "source": [
    "# THIS IS THE WHOLE FORMULA FOR THE COANNIHILATION CROSS SECTION\n",
    "\n",
    "#IT'S WITH THE CONSIDERATION OF DIFFERENT MASSES m1 AND m2 AS IN THA iDM CASE.\n",
    "#THE FORMULA SHOULD BE CORRECT\n",
    "\n",
    "#IF CONSIDERING m1=m1 AS GORDAN'S CASE WE END UP WITH THE SAME FORMULA A PART FROM:\n",
    "  # AN OVERRALL FACTOR 2 MULTIPLYING THE ALL FORMULA (MAYBE BECAUSE I HAVEN'T AVERAGED OVER THE INITIAL STATES?)\n",
    "  # A FACTOR 2 MULTUPLYING THE LAST MASS TERM \n",
    "\n",
    "# I NEED TO AVERAGE OVER THE INITIAL STATES BUT WHAT IS THE VALUE?\n",
    "# I NEED TO SUM OVER THE FINAL STATES BUT WHAT IS THE VALUE? HOW MANY FINAL STATES? ALL THE FERMIONS????????\n",
    "\n",
    "sigma=((16*np.pi*epsilon*alpha_dark*alpha_em)/((s-mzprime**2)**2))*(pfin_pinit/s)*((s*E1*E2/2)+(2*(p_init**2)*(p_fin**2)/3)+((m**2)*(s-(m1**2)-(m2**2))/2)+((m1*m2)*(s-2*(m**2))/2)+((m**2)*m1*m2*2))         \n",
    "\n"
   ]
  },
  {
   "cell_type": "code",
   "execution_count": null,
   "id": "c3f413ea",
   "metadata": {},
   "outputs": [],
   "source": []
  },
  {
   "cell_type": "code",
   "execution_count": null,
   "id": "ba351586",
   "metadata": {},
   "outputs": [],
   "source": []
  },
  {
   "cell_type": "code",
   "execution_count": null,
   "id": "31b36cc0",
   "metadata": {},
   "outputs": [],
   "source": []
  },
  {
   "cell_type": "code",
   "execution_count": null,
   "id": "d8216518",
   "metadata": {},
   "outputs": [],
   "source": []
  },
  {
   "cell_type": "code",
   "execution_count": null,
   "id": "2052ab97",
   "metadata": {},
   "outputs": [],
   "source": []
  }
 ],
 "metadata": {
  "kernelspec": {
   "display_name": "Python 3 (ipykernel)",
   "language": "python",
   "name": "python3"
  },
  "language_info": {
   "codemirror_mode": {
    "name": "ipython",
    "version": 3
   },
   "file_extension": ".py",
   "mimetype": "text/x-python",
   "name": "python",
   "nbconvert_exporter": "python",
   "pygments_lexer": "ipython3",
   "version": "3.9.7"
  }
 },
 "nbformat": 4,
 "nbformat_minor": 5
}
