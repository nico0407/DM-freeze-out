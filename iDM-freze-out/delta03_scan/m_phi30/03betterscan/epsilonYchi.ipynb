{
 "cells": [
  {
   "cell_type": "code",
   "execution_count": 22,
   "id": "99345948",
   "metadata": {},
   "outputs": [],
   "source": [
    "import numpy as np\n",
    "import pandas as pd\n",
    "import matplotlib.pyplot as plt"
   ]
  },
  {
   "cell_type": "code",
   "execution_count": 23,
   "id": "7b5f78ce",
   "metadata": {},
   "outputs": [],
   "source": [
    "m1variation=[]\n",
    "mS0=[]\n",
    "gX=[]\n",
    "epsilondark=[]\n",
    "lambdaphih=[]\n",
    "Ychi=[]\n",
    "m1=0.05"
   ]
  },
  {
   "cell_type": "code",
   "execution_count": 24,
   "id": "8ce8e322",
   "metadata": {},
   "outputs": [],
   "source": [
    "for i in range(100):\n",
    "    m1variation.append(m1+(0.07*i))\n",
    "    mS0.append(30)\n",
    "    gX.append(2.213)\n",
    "    epsilondark.append(0.0001+i*0.0001)\n",
    "    #lambdaphih.append(0.00000045)\n",
    "    lambdaphih.append('{:.10f}'.format(0.00000045))\n",
    "    Ychi.append(0.005)"
   ]
  },
  {
   "cell_type": "code",
   "execution_count": 25,
   "id": "b9c67a9b",
   "metadata": {},
   "outputs": [],
   "source": [
    "m1step=np.array(m1variation)\n",
    "mS0step=np.array(mS0)\n",
    "gXstep=np.array(gX)\n",
    "epsilondarkstep=np.array(epsilondark)\n",
    "lambdaphihstep=np.array(lambdaphih)\n",
    "Ychistep=np.array(Ychi)"
   ]
  },
  {
   "cell_type": "code",
   "execution_count": 26,
   "id": "760475f2",
   "metadata": {},
   "outputs": [],
   "source": [
    "mX0=3*m1step\n",
    "m2=m1step + m1step*0.3"
   ]
  },
  {
   "cell_type": "code",
   "execution_count": 27,
   "id": "24f63c85",
   "metadata": {},
   "outputs": [],
   "source": [
    "# Open the file in write mode\n",
    "with open(\"database.txt\", \"w\") as file:\n",
    "    for i in range(100):\n",
    "        for j in range(100):\n",
    "            file.write(str(mX0[j]) + \" \" + str(m1step[j]) + \" \" + str(m2[j]) + \" \" + str(mS0step[i]) + \" \" + str(gXstep[i]) + \" \" + str(epsilondarkstep[i]) + \" \" + str(lambdaphihstep[i]) + \" \" + str(Ychistep[i]) + \"\\n\")\n",
    "        \n",
    "        "
   ]
  },
  {
   "cell_type": "code",
   "execution_count": null,
   "id": "2136e757",
   "metadata": {},
   "outputs": [],
   "source": []
  },
  {
   "cell_type": "code",
   "execution_count": null,
   "id": "5fd47159",
   "metadata": {},
   "outputs": [],
   "source": []
  },
  {
   "cell_type": "code",
   "execution_count": 67,
   "id": "b57261b6",
   "metadata": {},
   "outputs": [],
   "source": [
    "mass_zeta, mass1, mass2, massS0, massgX, massepsilondark, masslambdaphih, massYchi, Omega = np.loadtxt('data_out', delimiter=' ', unpack=True)\n"
   ]
  },
  {
   "cell_type": "code",
   "execution_count": 68,
   "id": "8854f414",
   "metadata": {},
   "outputs": [
    {
     "data": {
      "text/plain": [
       "array([0.0001, 0.0001, 0.0001, ..., 0.01  , 0.01  , 0.01  ])"
      ]
     },
     "execution_count": 68,
     "metadata": {},
     "output_type": "execute_result"
    }
   ],
   "source": [
    "massepsilondark"
   ]
  },
  {
   "cell_type": "code",
   "execution_count": 69,
   "id": "88c6b000",
   "metadata": {},
   "outputs": [],
   "source": [
    "numberindeces=[]"
   ]
  },
  {
   "cell_type": "code",
   "execution_count": 70,
   "id": "b3c8e1da",
   "metadata": {},
   "outputs": [
    {
     "data": {
      "text/plain": [
       "0.0001"
      ]
     },
     "execution_count": 70,
     "metadata": {},
     "output_type": "execute_result"
    }
   ],
   "source": [
    "massepsilondark[10]"
   ]
  },
  {
   "cell_type": "code",
   "execution_count": 71,
   "id": "53a8b8c4",
   "metadata": {},
   "outputs": [
    {
     "data": {
      "text/plain": [
       "2.880634"
      ]
     },
     "execution_count": 71,
     "metadata": {},
     "output_type": "execute_result"
    }
   ],
   "source": [
    "Omega[3]"
   ]
  },
  {
   "cell_type": "code",
   "execution_count": 72,
   "id": "4adee4d1",
   "metadata": {},
   "outputs": [],
   "source": [
    "for i in range(10000):\n",
    "    if Omega[i]>0.115 and Omega[i] < 0.125:\n",
    "        numberindeces.append(i)"
   ]
  },
  {
   "cell_type": "code",
   "execution_count": 73,
   "id": "428223fe",
   "metadata": {},
   "outputs": [
    {
     "data": {
      "text/plain": [
       "[301,\n",
       " 602,\n",
       " 903,\n",
       " 1204,\n",
       " 1505,\n",
       " 1806,\n",
       " 2107,\n",
       " 2207,\n",
       " 2408,\n",
       " 2508,\n",
       " 2609,\n",
       " 2709,\n",
       " 2910,\n",
       " 3010,\n",
       " 3111,\n",
       " 3211,\n",
       " 3412,\n",
       " 3512,\n",
       " 3613,\n",
       " 3713,\n",
       " 3813,\n",
       " 3914,\n",
       " 4014,\n",
       " 4115,\n",
       " 4215,\n",
       " 4316,\n",
       " 4416,\n",
       " 4517,\n",
       " 4617,\n",
       " 4717,\n",
       " 4818,\n",
       " 4918,\n",
       " 5018,\n",
       " 5019,\n",
       " 5119,\n",
       " 5219,\n",
       " 5320,\n",
       " 5420,\n",
       " 5520,\n",
       " 5621,\n",
       " 5721,\n",
       " 5821,\n",
       " 5822,\n",
       " 5922,\n",
       " 6022,\n",
       " 6122,\n",
       " 6123,\n",
       " 6223,\n",
       " 6323,\n",
       " 6423,\n",
       " 6424,\n",
       " 6524,\n",
       " 6624,\n",
       " 6625,\n",
       " 6724,\n",
       " 6725,\n",
       " 6825,\n",
       " 6925,\n",
       " 6926,\n",
       " 7025,\n",
       " 7026,\n",
       " 7126,\n",
       " 7226,\n",
       " 7227,\n",
       " 7327,\n",
       " 7427,\n",
       " 7527,\n",
       " 7528,\n",
       " 7628,\n",
       " 7728,\n",
       " 7729,\n",
       " 7828,\n",
       " 7829,\n",
       " 7929,\n",
       " 8029,\n",
       " 8030,\n",
       " 8129,\n",
       " 8130,\n",
       " 8230,\n",
       " 8330,\n",
       " 8331,\n",
       " 8430,\n",
       " 8431,\n",
       " 8433,\n",
       " 8531,\n",
       " 8532,\n",
       " 8533,\n",
       " 8534,\n",
       " 8631,\n",
       " 8632,\n",
       " 8633,\n",
       " 8634,\n",
       " 8635,\n",
       " 8731,\n",
       " 8732,\n",
       " 8733,\n",
       " 8734,\n",
       " 8735,\n",
       " 8736,\n",
       " 8832,\n",
       " 8833,\n",
       " 8834,\n",
       " 8835,\n",
       " 8836,\n",
       " 8837,\n",
       " 8838,\n",
       " 8932,\n",
       " 8934,\n",
       " 8935,\n",
       " 8936,\n",
       " 8937,\n",
       " 8938,\n",
       " 8939,\n",
       " 8940,\n",
       " 8941,\n",
       " 8942,\n",
       " 8946,\n",
       " 8947,\n",
       " 8948,\n",
       " 8949,\n",
       " 8950,\n",
       " 8951,\n",
       " 8952,\n",
       " 8953,\n",
       " 9034,\n",
       " 9035,\n",
       " 9036,\n",
       " 9037,\n",
       " 9038,\n",
       " 9039,\n",
       " 9040,\n",
       " 9041,\n",
       " 9042,\n",
       " 9043,\n",
       " 9044,\n",
       " 9045,\n",
       " 9046,\n",
       " 9047,\n",
       " 9048,\n",
       " 9049,\n",
       " 9050,\n",
       " 9051,\n",
       " 9052,\n",
       " 9053,\n",
       " 9054,\n",
       " 9055,\n",
       " 9135,\n",
       " 9136,\n",
       " 9137,\n",
       " 9138,\n",
       " 9139,\n",
       " 9140,\n",
       " 9141,\n",
       " 9142,\n",
       " 9143,\n",
       " 9144,\n",
       " 9145,\n",
       " 9146,\n",
       " 9147,\n",
       " 9148,\n",
       " 9149,\n",
       " 9150,\n",
       " 9151,\n",
       " 9152,\n",
       " 9153,\n",
       " 9154,\n",
       " 9155,\n",
       " 9156,\n",
       " 9157,\n",
       " 9158,\n",
       " 9237,\n",
       " 9238,\n",
       " 9239,\n",
       " 9240,\n",
       " 9241,\n",
       " 9242,\n",
       " 9243,\n",
       " 9244,\n",
       " 9245,\n",
       " 9246,\n",
       " 9247,\n",
       " 9248,\n",
       " 9249,\n",
       " 9250,\n",
       " 9251,\n",
       " 9252,\n",
       " 9253,\n",
       " 9254,\n",
       " 9255,\n",
       " 9256,\n",
       " 9257,\n",
       " 9258,\n",
       " 9259,\n",
       " 9338,\n",
       " 9339,\n",
       " 9340,\n",
       " 9341,\n",
       " 9342,\n",
       " 9343,\n",
       " 9344,\n",
       " 9345,\n",
       " 9346,\n",
       " 9347,\n",
       " 9348,\n",
       " 9349,\n",
       " 9350,\n",
       " 9351,\n",
       " 9352,\n",
       " 9353,\n",
       " 9354,\n",
       " 9355,\n",
       " 9356,\n",
       " 9357,\n",
       " 9358,\n",
       " 9359,\n",
       " 9360,\n",
       " 9361,\n",
       " 9440,\n",
       " 9441,\n",
       " 9442,\n",
       " 9443,\n",
       " 9444,\n",
       " 9445,\n",
       " 9446,\n",
       " 9447,\n",
       " 9448,\n",
       " 9449,\n",
       " 9451,\n",
       " 9452,\n",
       " 9453,\n",
       " 9454,\n",
       " 9455,\n",
       " 9456,\n",
       " 9457,\n",
       " 9458,\n",
       " 9459,\n",
       " 9460,\n",
       " 9461,\n",
       " 9462,\n",
       " 9554,\n",
       " 9555,\n",
       " 9556,\n",
       " 9557,\n",
       " 9558,\n",
       " 9559,\n",
       " 9560,\n",
       " 9561,\n",
       " 9562,\n",
       " 9563,\n",
       " 9656,\n",
       " 9657,\n",
       " 9658,\n",
       " 9659,\n",
       " 9660,\n",
       " 9661,\n",
       " 9662,\n",
       " 9663,\n",
       " 9664,\n",
       " 9759,\n",
       " 9760,\n",
       " 9761,\n",
       " 9762,\n",
       " 9763,\n",
       " 9764,\n",
       " 9765,\n",
       " 9861,\n",
       " 9862,\n",
       " 9863,\n",
       " 9864,\n",
       " 9865,\n",
       " 9866,\n",
       " 9962,\n",
       " 9963,\n",
       " 9964,\n",
       " 9965,\n",
       " 9966,\n",
       " 9967]"
      ]
     },
     "execution_count": 73,
     "metadata": {},
     "output_type": "execute_result"
    }
   ],
   "source": [
    "numberindeces"
   ]
  },
  {
   "cell_type": "code",
   "execution_count": 74,
   "id": "25fdf581",
   "metadata": {},
   "outputs": [
    {
     "name": "stdout",
     "output_type": "stream",
     "text": [
      "[301, 602, 903, 1204, 1505, 1806, 2107, 2207, 2408, 2508, 2609, 2709, 2910, 3010, 3111, 3211, 3412, 3512, 3613, 3713, 3813, 3914, 4014, 4115, 4215, 4316, 4416, 4517, 4617, 4717, 4818, 4918, 5018, 5019, 5119, 5219, 5320, 5420, 5520, 5621, 5721, 5821, 5822, 5922, 6022, 6122, 6123, 6223, 6323, 6423, 6424, 6524, 6624, 6625, 6724, 6725, 6825, 6925, 6926, 7025, 7026, 7126, 7226, 7227, 7327, 7427, 7527, 7528, 7628, 7728, 7729, 7828, 7829, 7929, 8029, 8030, 8129, 8130, 8230, 8330, 8331, 8430, 8431, 8433, 8531, 8532, 8533, 8534, 8631, 8632, 8633, 8634, 8635, 8731, 8732, 8733, 8734, 8735, 8736, 8832, 8833, 8834, 8835, 8836, 8837, 8838, 8932, 8934, 8935, 8936, 8937, 8938, 8939, 8940, 8941, 8942, 8946, 8947, 8948, 8949, 8950, 8951, 8952, 8953, 9034, 9035, 9036, 9037, 9038, 9039, 9040, 9041, 9042, 9043, 9044, 9045, 9046, 9047, 9048, 9049, 9050, 9051, 9052, 9053, 9054, 9055, 9135, 9136, 9137, 9138, 9139, 9140, 9141, 9142, 9143, 9144, 9145, 9146, 9147, 9148, 9149, 9150, 9151, 9152, 9153, 9154, 9155, 9156, 9157, 9158, 9237, 9238, 9239, 9240, 9241, 9242, 9243, 9244, 9245, 9246, 9247, 9248, 9249, 9250, 9251, 9252, 9253, 9254, 9255, 9256, 9257, 9258, 9259, 9338, 9339, 9340, 9341, 9342, 9343, 9344, 9345, 9346, 9347, 9348, 9349, 9350, 9351, 9352, 9353, 9354, 9355, 9356, 9357, 9358, 9359, 9360, 9361, 9440, 9441, 9442, 9443, 9444, 9445, 9446, 9447, 9448, 9449, 9451, 9452, 9453, 9454, 9455, 9456, 9457, 9458, 9459, 9460, 9461, 9462, 9554, 9555, 9556, 9557, 9558, 9559, 9560, 9561, 9562, 9563, 9656, 9657, 9658, 9659, 9660, 9661, 9662, 9663, 9664, 9759, 9760, 9761, 9762, 9763, 9764, 9765, 9861, 9862, 9863, 9864, 9865, 9866, 9962, 9963, 9964, 9965, 9966, 9967]\n"
     ]
    }
   ],
   "source": [
    "print(numberindeces)"
   ]
  },
  {
   "cell_type": "code",
   "execution_count": 75,
   "id": "c90f30e0",
   "metadata": {},
   "outputs": [
    {
     "data": {
      "text/plain": [
       "array([0.05, 0.12, 0.19, ..., 6.84, 6.91, 6.98])"
      ]
     },
     "execution_count": 75,
     "metadata": {},
     "output_type": "execute_result"
    }
   ],
   "source": [
    "mass1"
   ]
  },
  {
   "cell_type": "code",
   "execution_count": 76,
   "id": "010be082",
   "metadata": {},
   "outputs": [],
   "source": [
    "x=[]\n",
    "y=[]\n",
    "for i in range(len(numberindeces)):\n",
    "    x.append(mass1[numberindeces[i]])\n",
    "    y.append(massepsilondark[numberindeces[i]])"
   ]
  },
  {
   "cell_type": "code",
   "execution_count": 77,
   "id": "3f10f187",
   "metadata": {},
   "outputs": [],
   "source": [
    "x.sort()\n",
    "y.sort()"
   ]
  },
  {
   "cell_type": "code",
   "execution_count": 78,
   "id": "cf9e9762",
   "metadata": {},
   "outputs": [
    {
     "name": "stdout",
     "output_type": "stream",
     "text": [
      "[0.12000000000000001, 0.19, 0.26, 0.33, 0.4, 0.47000000000000003, 0.54, 0.54, 0.6100000000000001, 0.6100000000000001, 0.6800000000000002, 0.6800000000000002, 0.7500000000000001, 0.7500000000000001, 0.8200000000000001, 0.8200000000000001, 0.8900000000000001, 0.8900000000000001, 0.9600000000000002, 0.9600000000000002, 0.9600000000000002, 1.03, 1.03, 1.1, 1.1, 1.1700000000000002, 1.1700000000000002, 1.2400000000000002, 1.2400000000000002, 1.2400000000000002, 1.3100000000000003, 1.3100000000000003, 1.3100000000000003, 1.3800000000000001, 1.3800000000000001, 1.3800000000000001, 1.4500000000000002, 1.4500000000000002, 1.4500000000000002, 1.5200000000000002, 1.5200000000000002, 1.5200000000000002, 1.59, 1.59, 1.59, 1.59, 1.6600000000000001, 1.6600000000000001, 1.6600000000000001, 1.6600000000000001, 1.7300000000000002, 1.7300000000000002, 1.7300000000000002, 1.7300000000000002, 1.8000000000000003, 1.8000000000000003, 1.8000000000000003, 1.8000000000000003, 1.8000000000000003, 1.8700000000000003, 1.8700000000000003, 1.8700000000000003, 1.8700000000000003, 1.9400000000000002, 1.9400000000000002, 1.9400000000000002, 1.9400000000000002, 2.0100000000000002, 2.0100000000000002, 2.0100000000000002, 2.0100000000000002, 2.08, 2.08, 2.08, 2.08, 2.08, 2.15, 2.15, 2.15, 2.15, 2.15, 2.22, 2.22, 2.22, 2.22, 2.22, 2.29, 2.29, 2.29, 2.29, 2.29, 2.36, 2.36, 2.36, 2.36, 2.36, 2.43, 2.43, 2.43, 2.43, 2.43, 2.43, 2.5, 2.5, 2.5, 2.5, 2.5, 2.5, 2.5700000000000003, 2.5700000000000003, 2.5700000000000003, 2.5700000000000003, 2.5700000000000003, 2.64, 2.64, 2.64, 2.64, 2.64, 2.71, 2.71, 2.71, 2.71, 2.71, 2.71, 2.7800000000000002, 2.7800000000000002, 2.7800000000000002, 2.7800000000000002, 2.7800000000000002, 2.85, 2.85, 2.85, 2.85, 2.85, 2.85, 2.92, 2.92, 2.92, 2.92, 2.92, 2.92, 2.99, 2.99, 2.99, 2.99, 2.99, 2.99, 3.06, 3.06, 3.06, 3.06, 3.06, 3.13, 3.13, 3.13, 3.13, 3.13, 3.2, 3.2, 3.2, 3.2, 3.2, 3.27, 3.27, 3.27, 3.27, 3.27, 3.27, 3.3400000000000003, 3.3400000000000003, 3.3400000000000003, 3.3400000000000003, 3.3400000000000003, 3.3400000000000003, 3.41, 3.41, 3.41, 3.41, 3.41, 3.41, 3.48, 3.48, 3.48, 3.48, 3.48, 3.48, 3.5500000000000003, 3.5500000000000003, 3.5500000000000003, 3.5500000000000003, 3.5500000000000003, 3.62, 3.62, 3.62, 3.62, 3.62, 3.62, 3.6900000000000004, 3.6900000000000004, 3.6900000000000004, 3.6900000000000004, 3.6900000000000004, 3.6900000000000004, 3.7600000000000002, 3.7600000000000002, 3.7600000000000002, 3.7600000000000002, 3.7600000000000002, 3.7600000000000002, 3.83, 3.83, 3.83, 3.83, 3.83, 3.83, 3.9000000000000004, 3.9000000000000004, 3.9000000000000004, 3.9000000000000004, 3.9000000000000004, 3.9000000000000004, 3.97, 3.97, 3.97, 3.97, 3.97, 3.97, 4.04, 4.04, 4.04, 4.04, 4.04, 4.04, 4.11, 4.11, 4.11, 4.11, 4.11, 4.11, 4.180000000000001, 4.180000000000001, 4.180000000000001, 4.180000000000001, 4.180000000000001, 4.180000000000001, 4.25, 4.25, 4.25, 4.25, 4.25, 4.32, 4.32, 4.32, 4.32, 4.32, 4.32, 4.390000000000001, 4.390000000000001, 4.390000000000001, 4.390000000000001, 4.390000000000001, 4.390000000000001, 4.46, 4.46, 4.46, 4.46, 4.46, 4.53, 4.53, 4.53, 4.53, 4.6000000000000005, 4.6000000000000005, 4.6000000000000005, 4.67, 4.67, 4.74]\n"
     ]
    }
   ],
   "source": [
    "print(x)"
   ]
  },
  {
   "cell_type": "code",
   "execution_count": 79,
   "id": "6fd7c099",
   "metadata": {},
   "outputs": [
    {
     "data": {
      "image/png": "[encoded data removed]",
      "text/plain": [
       "<Figure size 640x480 with 1 Axes>"
      ]
     },
     "metadata": {},
     "output_type": "display_data"
    }
   ],
   "source": [
    "plt.scatter(x, y, label='Relic density',color = \"black\")\n",
    "plt.title(r'Thermal iDM,  $\\delta= 0.3m_1$,  $m_{Z^i}=3m_1$,  $\\alpha_D=0.39$,  $Y_\\chi=0.005$,  $m_\\phi=30$ GeV')\n",
    "plt.xlabel('$m_1$')\n",
    "plt.ylabel('$\\epsilon_D$')\n",
    "plt.xscale('log')\n",
    "plt.yscale('log')\n",
    "plt.legend()\n",
    "plt.grid(which='major')\n",
    "plt.grid(which='minor', axis='y',linestyle='--')\n",
    "plt.show()"
   ]
  },
  {
   "cell_type": "code",
   "execution_count": 88,
   "id": "e177fccc",
   "metadata": {},
   "outputs": [],
   "source": [
    "import numpy as np\n",
    "from scipy.optimize import curve_fit\n",
    "import matplotlib.pyplot as plt\n",
    "\n",
    "# Define a function to fit the data\n",
    "def func(xdata, a, b, c, d):\n",
    "    return a + b*xdata + c*xdata**2 + d*xdata**3"
   ]
  },
  {
   "cell_type": "code",
   "execution_count": 89,
   "id": "c17090dd",
   "metadata": {},
   "outputs": [],
   "source": [
    "popt, pcov = curve_fit(func, x, y,p0=(0,0,0,0))"
   ]
  },
  {
   "cell_type": "code",
   "execution_count": 90,
   "id": "fed98120",
   "metadata": {},
   "outputs": [
    {
     "data": {
      "text/plain": [
       "array([-1.29862712e-03,  6.86680358e-03, -1.40860258e-03,  9.39349870e-05])"
      ]
     },
     "execution_count": 90,
     "metadata": {},
     "output_type": "execute_result"
    }
   ],
   "source": [
    "popt"
   ]
  },
  {
   "cell_type": "code",
   "execution_count": 91,
   "id": "e1eb9191",
   "metadata": {},
   "outputs": [],
   "source": [
    "def fittone(xdata): \n",
    "    return func(xdata,a=popt[0],b=popt[1],c=popt[2], d=popt[3]) "
   ]
  },
  {
   "cell_type": "code",
   "execution_count": 92,
   "id": "4a1313ea",
   "metadata": {},
   "outputs": [],
   "source": [
    "prova=np.linspace(0.05,5,100)"
   ]
  },
  {
   "cell_type": "code",
   "execution_count": 93,
   "id": "37c8a9c7",
   "metadata": {
    "scrolled": true
   },
   "outputs": [
    {
     "data": {
      "image/png": "[encoded data removed]",
      "text/plain": [
       "<Figure size 640x480 with 1 Axes>"
      ]
     },
     "metadata": {},
     "output_type": "display_data"
    }
   ],
   "source": [
    "plt.plot(prova, fittone(prova), 'b-', label='fit')\n",
    "plt.scatter(x, y, label='Relic density',color = \"black\")\n",
    "plt.title(r'Thermal iDM,  $\\delta= 0.3m_1$,  $m_{Z^i}=3m_1$,  $\\alpha_D=0.39$,  $Y_\\chi=0.005$,  $m_\\phi=1$ GeV')\n",
    "plt.xlabel('$m_1$')\n",
    "plt.ylabel('$\\epsilon_D$')\n",
    "plt.xscale('log')\n",
    "plt.yscale('log')\n",
    "plt.legend()\n",
    "plt.grid(which='major')\n",
    "plt.grid(which='minor', axis='y',linestyle='--')"
   ]
  },
  {
   "cell_type": "code",
   "execution_count": null,
   "id": "5c69520a",
   "metadata": {},
   "outputs": [],
   "source": []
  }
 ],
 "metadata": {
  "kernelspec": {
   "display_name": "Python 3 (ipykernel)",
   "language": "python",
   "name": "python3"
  },
  "language_info": {
   "codemirror_mode": {
    "name": "ipython",
    "version": 3
   },
   "file_extension": ".py",
   "mimetype": "text/x-python",
   "name": "python",
   "nbconvert_exporter": "python",
   "pygments_lexer": "ipython3",
   "version": "3.9.7"
  }
 },
 "nbformat": 4,
 "nbformat_minor": 5
}
