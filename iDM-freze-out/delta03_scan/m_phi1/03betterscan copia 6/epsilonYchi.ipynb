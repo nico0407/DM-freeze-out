{
 "cells": [
  {
   "cell_type": "code",
   "execution_count": 1,
   "id": "99345948",
   "metadata": {},
   "outputs": [],
   "source": [
    "import numpy as np\n",
    "import pandas as pd\n",
    "import matplotlib.pyplot as plt"
   ]
  },
  {
   "cell_type": "code",
   "execution_count": 11,
   "id": "7b5f78ce",
   "metadata": {},
   "outputs": [],
   "source": [
    "m1variation=[]\n",
    "mS0=[]\n",
    "gX=[]\n",
    "epsilondark=[]\n",
    "lambdaphih=[]\n",
    "Ychi=[]\n",
    "m1=0.9"
   ]
  },
  {
   "cell_type": "code",
   "execution_count": 12,
   "id": "8ce8e322",
   "metadata": {},
   "outputs": [],
   "source": [
    "for i in range(100):\n",
    "    m1variation.append(m1+(0.07*i))\n",
    "    mS0.append(1)\n",
    "    gX.append(2.213)\n",
    "    epsilondark.append(0.0001+i*0.0001)\n",
    "    #lambdaphih.append(0.00000045)\n",
    "    lambdaphih.append('{:.10f}'.format(0.00000045))\n",
    "    Ychi.append(0.005)"
   ]
  },
  {
   "cell_type": "code",
   "execution_count": 13,
   "id": "b9c67a9b",
   "metadata": {},
   "outputs": [],
   "source": [
    "m1step=np.array(m1variation)\n",
    "mS0step=np.array(mS0)\n",
    "gXstep=np.array(gX)\n",
    "epsilondarkstep=np.array(epsilondark)\n",
    "lambdaphihstep=np.array(lambdaphih)\n",
    "Ychistep=np.array(Ychi)"
   ]
  },
  {
   "cell_type": "code",
   "execution_count": 14,
   "id": "760475f2",
   "metadata": {},
   "outputs": [],
   "source": [
    "mX0=3*m1step\n",
    "m2=m1step + m1step*0.3"
   ]
  },
  {
   "cell_type": "code",
   "execution_count": 15,
   "id": "24f63c85",
   "metadata": {},
   "outputs": [],
   "source": [
    "# Open the file in write mode\n",
    "with open(\"database.txt\", \"w\") as file:\n",
    "    for i in range(100):\n",
    "        for j in range(100):\n",
    "            file.write(str(mX0[j]) + \" \" + str(m1step[j]) + \" \" + str(m2[j]) + \" \" + str(mS0step[i]) + \" \" + str(gXstep[i]) + \" \" + str(epsilondarkstep[i]) + \" \" + str(lambdaphihstep[i]) + \" \" + str(Ychistep[i]) + \"\\n\")\n",
    "        \n",
    "        "
   ]
  },
  {
   "cell_type": "code",
   "execution_count": null,
   "id": "2136e757",
   "metadata": {},
   "outputs": [],
   "source": []
  },
  {
   "cell_type": "code",
   "execution_count": null,
   "id": "5fd47159",
   "metadata": {},
   "outputs": [],
   "source": []
  },
  {
   "cell_type": "code",
   "execution_count": 2,
   "id": "b57261b6",
   "metadata": {},
   "outputs": [],
   "source": [
    "mass_zeta, mass1, mass2, massS0, massgX, massepsilondark, masslambdaphih, massYchi, Omega = np.loadtxt('data_out', delimiter=' ', unpack=True)\n"
   ]
  },
  {
   "cell_type": "code",
   "execution_count": 3,
   "id": "8854f414",
   "metadata": {},
   "outputs": [
    {
     "data": {
      "text/plain": [
       "array([0.0001, 0.0001, 0.0001, ..., 0.01  , 0.01  , 0.01  ])"
      ]
     },
     "execution_count": 3,
     "metadata": {},
     "output_type": "execute_result"
    }
   ],
   "source": [
    "massepsilondark"
   ]
  },
  {
   "cell_type": "code",
   "execution_count": 4,
   "id": "88c6b000",
   "metadata": {},
   "outputs": [],
   "source": [
    "numberindeces=[]"
   ]
  },
  {
   "cell_type": "code",
   "execution_count": 5,
   "id": "b3c8e1da",
   "metadata": {},
   "outputs": [
    {
     "data": {
      "text/plain": [
       "0.0001"
      ]
     },
     "execution_count": 5,
     "metadata": {},
     "output_type": "execute_result"
    }
   ],
   "source": [
    "massepsilondark[10]"
   ]
  },
  {
   "cell_type": "code",
   "execution_count": 6,
   "id": "53a8b8c4",
   "metadata": {},
   "outputs": [
    {
     "data": {
      "text/plain": [
       "0.41573"
      ]
     },
     "execution_count": 6,
     "metadata": {},
     "output_type": "execute_result"
    }
   ],
   "source": [
    "Omega[3]"
   ]
  },
  {
   "cell_type": "code",
   "execution_count": 7,
   "id": "4adee4d1",
   "metadata": {},
   "outputs": [],
   "source": [
    "for i in range(10000):\n",
    "    if Omega[i]>0.115 and Omega[i] < 0.125:\n",
    "        numberindeces.append(i)"
   ]
  },
  {
   "cell_type": "code",
   "execution_count": 8,
   "id": "428223fe",
   "metadata": {},
   "outputs": [
    {
     "data": {
      "text/plain": [
       "[2300,\n",
       " 2400,\n",
       " 2500,\n",
       " 2801,\n",
       " 2901,\n",
       " 3102,\n",
       " 3202,\n",
       " 3302,\n",
       " 3403,\n",
       " 3503,\n",
       " 3603,\n",
       " 3704,\n",
       " 3804,\n",
       " 3904,\n",
       " 4005,\n",
       " 4105,\n",
       " 4205,\n",
       " 4306,\n",
       " 4406,\n",
       " 4506,\n",
       " 4607,\n",
       " 4707,\n",
       " 4807,\n",
       " 4908,\n",
       " 5008,\n",
       " 5108,\n",
       " 5208,\n",
       " 5209,\n",
       " 5309,\n",
       " 5409,\n",
       " 5509,\n",
       " 5510,\n",
       " 5610,\n",
       " 5710,\n",
       " 5810,\n",
       " 5811,\n",
       " 5911,\n",
       " 6011,\n",
       " 6111,\n",
       " 6112,\n",
       " 6212,\n",
       " 6312,\n",
       " 6412,\n",
       " 6413,\n",
       " 6513,\n",
       " 6613,\n",
       " 6713,\n",
       " 6714,\n",
       " 6814,\n",
       " 6914,\n",
       " 7014,\n",
       " 7015,\n",
       " 7115,\n",
       " 7215,\n",
       " 7216,\n",
       " 7315,\n",
       " 7316,\n",
       " 7416,\n",
       " 7516,\n",
       " 7517,\n",
       " 7616,\n",
       " 7617,\n",
       " 7717,\n",
       " 7817,\n",
       " 7818,\n",
       " 7917,\n",
       " 7918,\n",
       " 8018,\n",
       " 8019,\n",
       " 8118,\n",
       " 8119,\n",
       " 8218,\n",
       " 8219,\n",
       " 8221,\n",
       " 8319,\n",
       " 8320,\n",
       " 8321,\n",
       " 8322,\n",
       " 8419,\n",
       " 8420,\n",
       " 8421,\n",
       " 8422,\n",
       " 8423,\n",
       " 8519,\n",
       " 8520,\n",
       " 8521,\n",
       " 8522,\n",
       " 8523,\n",
       " 8524,\n",
       " 8620,\n",
       " 8621,\n",
       " 8622,\n",
       " 8623,\n",
       " 8624,\n",
       " 8625,\n",
       " 8626,\n",
       " 8720,\n",
       " 8722,\n",
       " 8723,\n",
       " 8724,\n",
       " 8725,\n",
       " 8726,\n",
       " 8727,\n",
       " 8728,\n",
       " 8736,\n",
       " 8737,\n",
       " 8738,\n",
       " 8822,\n",
       " 8823,\n",
       " 8824,\n",
       " 8825,\n",
       " 8826,\n",
       " 8827,\n",
       " 8828,\n",
       " 8829,\n",
       " 8830,\n",
       " 8831,\n",
       " 8832,\n",
       " 8833,\n",
       " 8834,\n",
       " 8835,\n",
       " 8836,\n",
       " 8837,\n",
       " 8838,\n",
       " 8839,\n",
       " 8840,\n",
       " 8841,\n",
       " 8923,\n",
       " 8924,\n",
       " 8925,\n",
       " 8926,\n",
       " 8927,\n",
       " 8928,\n",
       " 8929,\n",
       " 8930,\n",
       " 8931,\n",
       " 8932,\n",
       " 8933,\n",
       " 8934,\n",
       " 8935,\n",
       " 8936,\n",
       " 8937,\n",
       " 8938,\n",
       " 8939,\n",
       " 8940,\n",
       " 8941,\n",
       " 8942,\n",
       " 8943,\n",
       " 9024,\n",
       " 9025,\n",
       " 9026,\n",
       " 9027,\n",
       " 9028,\n",
       " 9029,\n",
       " 9030,\n",
       " 9031,\n",
       " 9032,\n",
       " 9033,\n",
       " 9034,\n",
       " 9035,\n",
       " 9036,\n",
       " 9037,\n",
       " 9038,\n",
       " 9039,\n",
       " 9040,\n",
       " 9041,\n",
       " 9042,\n",
       " 9043,\n",
       " 9044,\n",
       " 9045,\n",
       " 9046,\n",
       " 9126,\n",
       " 9127,\n",
       " 9128,\n",
       " 9129,\n",
       " 9130,\n",
       " 9131,\n",
       " 9132,\n",
       " 9133,\n",
       " 9134,\n",
       " 9135,\n",
       " 9136,\n",
       " 9137,\n",
       " 9138,\n",
       " 9139,\n",
       " 9140,\n",
       " 9141,\n",
       " 9142,\n",
       " 9143,\n",
       " 9144,\n",
       " 9145,\n",
       " 9146,\n",
       " 9147,\n",
       " 9227,\n",
       " 9228,\n",
       " 9229,\n",
       " 9230,\n",
       " 9231,\n",
       " 9232,\n",
       " 9233,\n",
       " 9234,\n",
       " 9235,\n",
       " 9236,\n",
       " 9237,\n",
       " 9238,\n",
       " 9239,\n",
       " 9240,\n",
       " 9241,\n",
       " 9242,\n",
       " 9243,\n",
       " 9244,\n",
       " 9245,\n",
       " 9246,\n",
       " 9247,\n",
       " 9248,\n",
       " 9249,\n",
       " 9330,\n",
       " 9331,\n",
       " 9332,\n",
       " 9333,\n",
       " 9334,\n",
       " 9335,\n",
       " 9340,\n",
       " 9341,\n",
       " 9342,\n",
       " 9343,\n",
       " 9344,\n",
       " 9345,\n",
       " 9346,\n",
       " 9347,\n",
       " 9348,\n",
       " 9349,\n",
       " 9350,\n",
       " 9442,\n",
       " 9443,\n",
       " 9444,\n",
       " 9445,\n",
       " 9446,\n",
       " 9447,\n",
       " 9448,\n",
       " 9449,\n",
       " 9450,\n",
       " 9451,\n",
       " 9545,\n",
       " 9546,\n",
       " 9547,\n",
       " 9548,\n",
       " 9549,\n",
       " 9550,\n",
       " 9551,\n",
       " 9552,\n",
       " 9647,\n",
       " 9648,\n",
       " 9649,\n",
       " 9650,\n",
       " 9651,\n",
       " 9652,\n",
       " 9653,\n",
       " 9749,\n",
       " 9750,\n",
       " 9751,\n",
       " 9752,\n",
       " 9753,\n",
       " 9754,\n",
       " 9850,\n",
       " 9851,\n",
       " 9852,\n",
       " 9853,\n",
       " 9854,\n",
       " 9855,\n",
       " 9951,\n",
       " 9952,\n",
       " 9953,\n",
       " 9954,\n",
       " 9955,\n",
       " 9956]"
      ]
     },
     "execution_count": 8,
     "metadata": {},
     "output_type": "execute_result"
    }
   ],
   "source": [
    "numberindeces"
   ]
  },
  {
   "cell_type": "code",
   "execution_count": 9,
   "id": "25fdf581",
   "metadata": {},
   "outputs": [
    {
     "name": "stdout",
     "output_type": "stream",
     "text": [
      "[2300, 2400, 2500, 2801, 2901, 3102, 3202, 3302, 3403, 3503, 3603, 3704, 3804, 3904, 4005, 4105, 4205, 4306, 4406, 4506, 4607, 4707, 4807, 4908, 5008, 5108, 5208, 5209, 5309, 5409, 5509, 5510, 5610, 5710, 5810, 5811, 5911, 6011, 6111, 6112, 6212, 6312, 6412, 6413, 6513, 6613, 6713, 6714, 6814, 6914, 7014, 7015, 7115, 7215, 7216, 7315, 7316, 7416, 7516, 7517, 7616, 7617, 7717, 7817, 7818, 7917, 7918, 8018, 8019, 8118, 8119, 8218, 8219, 8221, 8319, 8320, 8321, 8322, 8419, 8420, 8421, 8422, 8423, 8519, 8520, 8521, 8522, 8523, 8524, 8620, 8621, 8622, 8623, 8624, 8625, 8626, 8720, 8722, 8723, 8724, 8725, 8726, 8727, 8728, 8736, 8737, 8738, 8822, 8823, 8824, 8825, 8826, 8827, 8828, 8829, 8830, 8831, 8832, 8833, 8834, 8835, 8836, 8837, 8838, 8839, 8840, 8841, 8923, 8924, 8925, 8926, 8927, 8928, 8929, 8930, 8931, 8932, 8933, 8934, 8935, 8936, 8937, 8938, 8939, 8940, 8941, 8942, 8943, 9024, 9025, 9026, 9027, 9028, 9029, 9030, 9031, 9032, 9033, 9034, 9035, 9036, 9037, 9038, 9039, 9040, 9041, 9042, 9043, 9044, 9045, 9046, 9126, 9127, 9128, 9129, 9130, 9131, 9132, 9133, 9134, 9135, 9136, 9137, 9138, 9139, 9140, 9141, 9142, 9143, 9144, 9145, 9146, 9147, 9227, 9228, 9229, 9230, 9231, 9232, 9233, 9234, 9235, 9236, 9237, 9238, 9239, 9240, 9241, 9242, 9243, 9244, 9245, 9246, 9247, 9248, 9249, 9330, 9331, 9332, 9333, 9334, 9335, 9340, 9341, 9342, 9343, 9344, 9345, 9346, 9347, 9348, 9349, 9350, 9442, 9443, 9444, 9445, 9446, 9447, 9448, 9449, 9450, 9451, 9545, 9546, 9547, 9548, 9549, 9550, 9551, 9552, 9647, 9648, 9649, 9650, 9651, 9652, 9653, 9749, 9750, 9751, 9752, 9753, 9754, 9850, 9851, 9852, 9853, 9854, 9855, 9951, 9952, 9953, 9954, 9955, 9956]\n"
     ]
    }
   ],
   "source": [
    "print(numberindeces)"
   ]
  },
  {
   "cell_type": "code",
   "execution_count": 10,
   "id": "c90f30e0",
   "metadata": {},
   "outputs": [
    {
     "data": {
      "text/plain": [
       "array([0.9 , 0.97, 1.04, ..., 7.69, 7.76, 7.83])"
      ]
     },
     "execution_count": 10,
     "metadata": {},
     "output_type": "execute_result"
    }
   ],
   "source": [
    "mass1"
   ]
  },
  {
   "cell_type": "code",
   "execution_count": 11,
   "id": "010be082",
   "metadata": {},
   "outputs": [],
   "source": [
    "x=[]\n",
    "y=[]\n",
    "for i in range(len(numberindeces)):\n",
    "    x.append(mass1[numberindeces[i]])\n",
    "    y.append(massepsilondark[numberindeces[i]])"
   ]
  },
  {
   "cell_type": "code",
   "execution_count": 12,
   "id": "3f10f187",
   "metadata": {},
   "outputs": [],
   "source": [
    "x.sort()\n",
    "y.sort()"
   ]
  },
  {
   "cell_type": "code",
   "execution_count": 13,
   "id": "cf9e9762",
   "metadata": {},
   "outputs": [
    {
     "name": "stdout",
     "output_type": "stream",
     "text": [
      "[0.9, 0.9, 0.9, 0.97, 0.97, 1.04, 1.04, 1.04, 1.11, 1.11, 1.11, 1.1800000000000002, 1.1800000000000002, 1.1800000000000002, 1.25, 1.25, 1.25, 1.32, 1.32, 1.32, 1.3900000000000001, 1.3900000000000001, 1.3900000000000001, 1.46, 1.46, 1.46, 1.46, 1.5300000000000002, 1.5300000000000002, 1.5300000000000002, 1.5300000000000002, 1.6, 1.6, 1.6, 1.6, 1.67, 1.67, 1.67, 1.67, 1.7400000000000002, 1.7400000000000002, 1.7400000000000002, 1.7400000000000002, 1.81, 1.81, 1.81, 1.81, 1.8800000000000001, 1.8800000000000001, 1.8800000000000001, 1.8800000000000001, 1.9500000000000002, 1.9500000000000002, 1.9500000000000002, 1.9500000000000002, 2.02, 2.02, 2.02, 2.02, 2.02, 2.0900000000000003, 2.0900000000000003, 2.0900000000000003, 2.0900000000000003, 2.0900000000000003, 2.16, 2.16, 2.16, 2.16, 2.16, 2.23, 2.23, 2.23, 2.23, 2.23, 2.23, 2.3000000000000003, 2.3000000000000003, 2.3000000000000003, 2.3000000000000003, 2.3000000000000003, 2.37, 2.37, 2.37, 2.37, 2.37, 2.44, 2.44, 2.44, 2.44, 2.44, 2.44, 2.5100000000000002, 2.5100000000000002, 2.5100000000000002, 2.5100000000000002, 2.5100000000000002, 2.5100000000000002, 2.58, 2.58, 2.58, 2.58, 2.58, 2.58, 2.6500000000000004, 2.6500000000000004, 2.6500000000000004, 2.6500000000000004, 2.6500000000000004, 2.72, 2.72, 2.72, 2.72, 2.72, 2.72, 2.79, 2.79, 2.79, 2.79, 2.79, 2.79, 2.8600000000000003, 2.8600000000000003, 2.8600000000000003, 2.8600000000000003, 2.8600000000000003, 2.8600000000000003, 2.93, 2.93, 2.93, 2.93, 2.93, 3.0, 3.0, 3.0, 3.0, 3.0, 3.0, 3.0700000000000003, 3.0700000000000003, 3.0700000000000003, 3.0700000000000003, 3.0700000000000003, 3.0700000000000003, 3.14, 3.14, 3.14, 3.14, 3.14, 3.14, 3.21, 3.21, 3.21, 3.21, 3.21, 3.21, 3.2800000000000002, 3.2800000000000002, 3.2800000000000002, 3.2800000000000002, 3.2800000000000002, 3.2800000000000002, 3.35, 3.35, 3.35, 3.35, 3.35, 3.35, 3.4200000000000004, 3.4200000000000004, 3.4200000000000004, 3.4200000000000004, 3.4200000000000004, 3.4200000000000004, 3.49, 3.49, 3.49, 3.49, 3.49, 3.49, 3.56, 3.56, 3.56, 3.56, 3.56, 3.56, 3.6300000000000003, 3.6300000000000003, 3.6300000000000003, 3.6300000000000003, 3.6300000000000003, 3.7, 3.7, 3.7, 3.7, 3.7, 3.7, 3.77, 3.77, 3.77, 3.77, 3.77, 3.77, 3.8400000000000003, 3.8400000000000003, 3.8400000000000003, 3.8400000000000003, 3.8400000000000003, 3.8400000000000003, 3.91, 3.91, 3.91, 3.91, 3.91, 3.91, 3.98, 3.98, 3.98, 3.98, 3.98, 4.050000000000001, 4.050000000000001, 4.050000000000001, 4.050000000000001, 4.050000000000001, 4.050000000000001, 4.12, 4.12, 4.12, 4.12, 4.12, 4.12, 4.19, 4.19, 4.19, 4.19, 4.19, 4.19, 4.260000000000001, 4.260000000000001, 4.260000000000001, 4.260000000000001, 4.260000000000001, 4.33, 4.33, 4.33, 4.33, 4.33, 4.33, 4.4, 4.4, 4.4, 4.4, 4.4, 4.4, 4.470000000000001, 4.470000000000001, 4.470000000000001, 4.470000000000001, 4.470000000000001, 4.470000000000001, 4.540000000000001, 4.540000000000001, 4.540000000000001, 4.540000000000001, 4.540000000000001, 4.61, 4.61, 4.61, 4.61, 4.680000000000001, 4.680000000000001, 4.680000000000001, 4.750000000000001, 4.750000000000001, 4.82]\n"
     ]
    }
   ],
   "source": [
    "print(x)"
   ]
  },
  {
   "cell_type": "code",
   "execution_count": 14,
   "id": "6fd7c099",
   "metadata": {},
   "outputs": [
    {
     "data": {
      "image/png": "[encoded data removed]",
      "text/plain": [
       "<Figure size 640x480 with 1 Axes>"
      ]
     },
     "metadata": {},
     "output_type": "display_data"
    }
   ],
   "source": [
    "plt.scatter(x, y, label='Relic density',color = \"black\")\n",
    "plt.title(r'Thermal iDM,  $\\delta= 0.3m_1$,  $m_{Z^i}=3m_1$,  $\\alpha_D=0.39$,  $Y_\\chi=0.005$,  $m_\\phi=1$ GeV')\n",
    "plt.xlabel('$m_1$')\n",
    "plt.ylabel('$\\epsilon_D$')\n",
    "plt.xscale('log')\n",
    "plt.yscale('log')\n",
    "plt.legend()\n",
    "plt.grid(which='major')\n",
    "plt.grid(which='minor', axis='y',linestyle='--')\n",
    "plt.show()"
   ]
  },
  {
   "cell_type": "code",
   "execution_count": 15,
   "id": "e177fccc",
   "metadata": {},
   "outputs": [],
   "source": [
    "import numpy as np\n",
    "from scipy.optimize import curve_fit\n",
    "import matplotlib.pyplot as plt\n",
    "\n",
    "# Define a function to fit the data\n",
    "def func(xdata, a, b, c, d):\n",
    "    return a + b*xdata + c*xdata**2 + d*xdata**3"
   ]
  },
  {
   "cell_type": "code",
   "execution_count": 16,
   "id": "c17090dd",
   "metadata": {},
   "outputs": [],
   "source": [
    "popt, pcov = curve_fit(func, x, y,p0=(0,0,0,0))"
   ]
  },
  {
   "cell_type": "code",
   "execution_count": 17,
   "id": "fed98120",
   "metadata": {},
   "outputs": [
    {
     "data": {
      "text/plain": [
       "array([-0.00704746,  0.01297951, -0.00350521,  0.00032196])"
      ]
     },
     "execution_count": 17,
     "metadata": {},
     "output_type": "execute_result"
    }
   ],
   "source": [
    "popt"
   ]
  },
  {
   "cell_type": "code",
   "execution_count": 18,
   "id": "e1eb9191",
   "metadata": {},
   "outputs": [],
   "source": [
    "def fittone(xdata): \n",
    "    return func(xdata,a=popt[0],b=popt[1],c=popt[2], d=popt[3]) "
   ]
  },
  {
   "cell_type": "code",
   "execution_count": 19,
   "id": "4a1313ea",
   "metadata": {},
   "outputs": [],
   "source": [
    "prova=np.linspace(0.8,5,100)"
   ]
  },
  {
   "cell_type": "code",
   "execution_count": 20,
   "id": "37c8a9c7",
   "metadata": {
    "scrolled": true
   },
   "outputs": [
    {
     "data": {
      "image/png": "[encoded data removed]",
      "text/plain": [
       "<Figure size 640x480 with 1 Axes>"
      ]
     },
     "metadata": {},
     "output_type": "display_data"
    }
   ],
   "source": [
    "plt.plot(prova, fittone(prova), 'b-', label='fit')\n",
    "plt.scatter(x, y, label='Relic density',color = \"black\")\n",
    "plt.title(r'Thermal iDM,  $\\delta= 0.3m_1$,  $m_{Z^i}=3m_1$,  $\\alpha_D=0.39$,  $Y_\\chi=0.005$,  $m_\\phi=1$ GeV')\n",
    "plt.xlabel('$m_1$')\n",
    "plt.ylabel('$\\epsilon_D$')\n",
    "plt.xscale('log')\n",
    "plt.yscale('log')\n",
    "plt.legend()\n",
    "plt.grid(which='major')\n",
    "plt.grid(which='minor', axis='y',linestyle='--')"
   ]
  },
  {
   "cell_type": "code",
   "execution_count": null,
   "id": "5c69520a",
   "metadata": {},
   "outputs": [],
   "source": []
  }
 ],
 "metadata": {
  "kernelspec": {
   "display_name": "Python 3 (ipykernel)",
   "language": "python",
   "name": "python3"
  },
  "language_info": {
   "codemirror_mode": {
    "name": "ipython",
    "version": 3
   },
   "file_extension": ".py",
   "mimetype": "text/x-python",
   "name": "python",
   "nbconvert_exporter": "python",
   "pygments_lexer": "ipython3",
   "version": "3.9.7"
  }
 },
 "nbformat": 4,
 "nbformat_minor": 5
}
