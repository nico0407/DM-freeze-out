{
 "cells": [
  {
   "cell_type": "code",
   "execution_count": 1,
   "id": "99345948",
   "metadata": {},
   "outputs": [],
   "source": [
    "import numpy as np\n",
    "import pandas as pd\n",
    "import matplotlib.pyplot as plt"
   ]
  },
  {
   "cell_type": "code",
   "execution_count": 3,
   "id": "7b5f78ce",
   "metadata": {},
   "outputs": [],
   "source": [
    "m1variation=[]\n",
    "mS0=[]\n",
    "gX=[]\n",
    "epsilondark=[]\n",
    "lambdaphih=[]\n",
    "Ychi=[]\n",
    "m1=0.2"
   ]
  },
  {
   "cell_type": "code",
   "execution_count": 4,
   "id": "8ce8e322",
   "metadata": {},
   "outputs": [],
   "source": [
    "for i in range(100):\n",
    "    m1variation.append(m1+(0.006*i))\n",
    "    mS0.append(1)\n",
    "    gX.append(2.213)\n",
    "    epsilondark.append(0.0001+i*0.0001)\n",
    "    #lambdaphih.append(0.00000045)\n",
    "    lambdaphih.append('{:.10f}'.format(0.00000045))\n",
    "    Ychi.append(0.005)"
   ]
  },
  {
   "cell_type": "code",
   "execution_count": 5,
   "id": "b9c67a9b",
   "metadata": {},
   "outputs": [],
   "source": [
    "m1step=np.array(m1variation)\n",
    "mS0step=np.array(mS0)\n",
    "gXstep=np.array(gX)\n",
    "epsilondarkstep=np.array(epsilondark)\n",
    "lambdaphihstep=np.array(lambdaphih)\n",
    "Ychistep=np.array(Ychi)"
   ]
  },
  {
   "cell_type": "code",
   "execution_count": 6,
   "id": "760475f2",
   "metadata": {},
   "outputs": [],
   "source": [
    "mX0=3*m1step\n",
    "m2=m1step + m1step*0.3"
   ]
  },
  {
   "cell_type": "code",
   "execution_count": 7,
   "id": "24f63c85",
   "metadata": {},
   "outputs": [],
   "source": [
    "# Open the file in write mode\n",
    "with open(\"database.txt\", \"w\") as file:\n",
    "    for i in range(100):\n",
    "        for j in range(100):\n",
    "            file.write(str(mX0[j]) + \" \" + str(m1step[j]) + \" \" + str(m2[j]) + \" \" + str(mS0step[i]) + \" \" + str(gXstep[i]) + \" \" + str(epsilondarkstep[i]) + \" \" + str(lambdaphihstep[i]) + \" \" + str(Ychistep[i]) + \"\\n\")\n",
    "        \n",
    "        "
   ]
  },
  {
   "cell_type": "code",
   "execution_count": null,
   "id": "2136e757",
   "metadata": {},
   "outputs": [],
   "source": []
  },
  {
   "cell_type": "code",
   "execution_count": null,
   "id": "5fd47159",
   "metadata": {},
   "outputs": [],
   "source": []
  },
  {
   "cell_type": "code",
   "execution_count": 2,
   "id": "b57261b6",
   "metadata": {},
   "outputs": [],
   "source": [
    "mass_zeta, mass1, mass2, massS0, massgX, massepsilondark, masslambdaphih, massYchi, Omega = np.loadtxt('data_out', delimiter=' ', unpack=True)\n"
   ]
  },
  {
   "cell_type": "code",
   "execution_count": 3,
   "id": "8854f414",
   "metadata": {},
   "outputs": [
    {
     "data": {
      "text/plain": [
       "array([0.0001, 0.0001, 0.0001, ..., 0.01  , 0.01  , 0.01  ])"
      ]
     },
     "execution_count": 3,
     "metadata": {},
     "output_type": "execute_result"
    }
   ],
   "source": [
    "massepsilondark"
   ]
  },
  {
   "cell_type": "code",
   "execution_count": 4,
   "id": "88c6b000",
   "metadata": {},
   "outputs": [],
   "source": [
    "numberindeces=[]"
   ]
  },
  {
   "cell_type": "code",
   "execution_count": 5,
   "id": "b3c8e1da",
   "metadata": {},
   "outputs": [
    {
     "data": {
      "text/plain": [
       "0.0001"
      ]
     },
     "execution_count": 5,
     "metadata": {},
     "output_type": "execute_result"
    }
   ],
   "source": [
    "massepsilondark[10]"
   ]
  },
  {
   "cell_type": "code",
   "execution_count": 6,
   "id": "53a8b8c4",
   "metadata": {},
   "outputs": [
    {
     "data": {
      "text/plain": [
       "0.693393"
      ]
     },
     "execution_count": 6,
     "metadata": {},
     "output_type": "execute_result"
    }
   ],
   "source": [
    "Omega[3]"
   ]
  },
  {
   "cell_type": "code",
   "execution_count": 7,
   "id": "4adee4d1",
   "metadata": {},
   "outputs": [],
   "source": [
    "for i in range(10000):\n",
    "    if Omega[i]>0.115 and Omega[i] < 0.125:\n",
    "        numberindeces.append(i)"
   ]
  },
  {
   "cell_type": "code",
   "execution_count": 8,
   "id": "428223fe",
   "metadata": {},
   "outputs": [
    {
     "data": {
      "text/plain": [
       "[21,\n",
       " 90,\n",
       " 91,\n",
       " 92,\n",
       " 121,\n",
       " 191,\n",
       " 192,\n",
       " 221,\n",
       " 291,\n",
       " 292,\n",
       " 320,\n",
       " 391,\n",
       " 392,\n",
       " 393,\n",
       " 419,\n",
       " 420,\n",
       " 491,\n",
       " 492,\n",
       " 493,\n",
       " 518,\n",
       " 519,\n",
       " 592,\n",
       " 593,\n",
       " 600,\n",
       " 601,\n",
       " 617,\n",
       " 692,\n",
       " 693,\n",
       " 694,\n",
       " 705,\n",
       " 706,\n",
       " 707,\n",
       " 708,\n",
       " 709,\n",
       " 710,\n",
       " 711,\n",
       " 712,\n",
       " 713,\n",
       " 714,\n",
       " 715,\n",
       " 793,\n",
       " 794,\n",
       " 795,\n",
       " 893,\n",
       " 894,\n",
       " 895,\n",
       " 994,\n",
       " 995,\n",
       " 996,\n",
       " 1095,\n",
       " 1096,\n",
       " 1097,\n",
       " 1196,\n",
       " 1197,\n",
       " 1198,\n",
       " 1297,\n",
       " 1298,\n",
       " 1299,\n",
       " 1398,\n",
       " 1399,\n",
       " 1499]"
      ]
     },
     "execution_count": 8,
     "metadata": {},
     "output_type": "execute_result"
    }
   ],
   "source": [
    "numberindeces"
   ]
  },
  {
   "cell_type": "code",
   "execution_count": 9,
   "id": "8919937f",
   "metadata": {},
   "outputs": [
    {
     "name": "stdout",
     "output_type": "stream",
     "text": [
      "[21, 90, 91, 92, 121, 191, 192, 221, 291, 292, 320, 391, 392, 393, 419, 420, 491, 492, 493, 518, 519, 592, 593, 600, 601, 617, 692, 693, 694, 705, 706, 707, 708, 709, 710, 711, 712, 713, 714, 715, 793, 794, 795, 893, 894, 895, 994, 995, 996, 1095, 1096, 1097, 1196, 1197, 1198, 1297, 1298, 1299, 1398, 1399, 1499]\n"
     ]
    }
   ],
   "source": [
    "print(numberindeces)"
   ]
  },
  {
   "cell_type": "code",
   "execution_count": 10,
   "id": "c90f30e0",
   "metadata": {},
   "outputs": [
    {
     "data": {
      "text/plain": [
       "array([0.2  , 0.206, 0.212, ..., 0.782, 0.788, 0.794])"
      ]
     },
     "execution_count": 10,
     "metadata": {},
     "output_type": "execute_result"
    }
   ],
   "source": [
    "mass1"
   ]
  },
  {
   "cell_type": "code",
   "execution_count": 11,
   "id": "010be082",
   "metadata": {},
   "outputs": [],
   "source": [
    "x=[]\n",
    "y=[]\n",
    "for i in range(len(numberindeces)):\n",
    "    x.append(mass1[numberindeces[i]])\n",
    "    y.append(massepsilondark[numberindeces[i]])"
   ]
  },
  {
   "cell_type": "code",
   "execution_count": 12,
   "id": "3f10f187",
   "metadata": {},
   "outputs": [],
   "source": [
    "x.sort()\n",
    "y.sort()"
   ]
  },
  {
   "cell_type": "code",
   "execution_count": 13,
   "id": "cf9e9762",
   "metadata": {},
   "outputs": [
    {
     "name": "stdout",
     "output_type": "stream",
     "text": [
      "[0.2, 0.20600000000000002, 0.23, 0.23600000000000002, 0.24200000000000002, 0.248, 0.254, 0.26, 0.266, 0.272, 0.278, 0.28400000000000003, 0.29000000000000004, 0.30200000000000005, 0.308, 0.314, 0.314, 0.32, 0.32, 0.326, 0.326, 0.326, 0.74, 0.746, 0.746, 0.746, 0.746, 0.746, 0.752, 0.752, 0.752, 0.752, 0.752, 0.752, 0.752, 0.758, 0.758, 0.758, 0.758, 0.758, 0.758, 0.764, 0.764, 0.764, 0.764, 0.77, 0.77, 0.77, 0.77, 0.776, 0.776, 0.776, 0.782, 0.782, 0.782, 0.788, 0.788, 0.788, 0.794, 0.794, 0.794]\n"
     ]
    }
   ],
   "source": [
    "print(x)"
   ]
  },
  {
   "cell_type": "code",
   "execution_count": 14,
   "id": "6fd7c099",
   "metadata": {},
   "outputs": [
    {
     "data": {
      "image/png": "[encoded data removed]",
      "text/plain": [
       "<Figure size 640x480 with 1 Axes>"
      ]
     },
     "metadata": {},
     "output_type": "display_data"
    }
   ],
   "source": [
    "plt.scatter(x, y, label='Relic density',color = \"black\")\n",
    "plt.title(r'Thermal iDM,  $\\delta= 0.3m_1$,  $m_{Z^i}=3m_1$,  $\\alpha_D=0.39$,  $Y_\\chi=0.005$,  $m_\\phi=1$ GeV')\n",
    "plt.xlabel('$m_1$')\n",
    "plt.ylabel('$\\epsilon_D$')\n",
    "plt.xscale('log')\n",
    "plt.yscale('log')\n",
    "plt.legend()\n",
    "plt.grid(which='major')\n",
    "plt.grid(which='minor', axis='y',linestyle='--')\n",
    "plt.show()"
   ]
  },
  {
   "cell_type": "code",
   "execution_count": 31,
   "id": "e177fccc",
   "metadata": {},
   "outputs": [],
   "source": [
    "import numpy as np\n",
    "from scipy.optimize import curve_fit\n",
    "import matplotlib.pyplot as plt\n",
    "\n",
    "# Define a function to fit the data\n",
    "def func(xdata, a, b, c, d):\n",
    "    return a + b*xdata + c*xdata**2 + d*xdata**3"
   ]
  },
  {
   "cell_type": "code",
   "execution_count": 32,
   "id": "c17090dd",
   "metadata": {},
   "outputs": [],
   "source": [
    "popt, pcov = curve_fit(func, x, y,p0=(0,0,0,0))"
   ]
  },
  {
   "cell_type": "code",
   "execution_count": 33,
   "id": "76c69c48",
   "metadata": {},
   "outputs": [
    {
     "data": {
      "text/plain": [
       "array([-0.0095424 ,  0.0741337 , -0.16316429,  0.12730641])"
      ]
     },
     "execution_count": 33,
     "metadata": {},
     "output_type": "execute_result"
    }
   ],
   "source": [
    "popt"
   ]
  },
  {
   "cell_type": "code",
   "execution_count": 38,
   "id": "5a4c0dc8",
   "metadata": {},
   "outputs": [],
   "source": [
    "def fittone(xdata): \n",
    "    return func(xdata,a=popt[0],b=popt[1],c=popt[2], d=popt[3]) "
   ]
  },
  {
   "cell_type": "code",
   "execution_count": 41,
   "id": "b06e4c64",
   "metadata": {},
   "outputs": [],
   "source": [
    "prova=np.linspace(0.2,0.8,100)"
   ]
  },
  {
   "cell_type": "code",
   "execution_count": 48,
   "id": "6a44de66",
   "metadata": {
    "scrolled": true
   },
   "outputs": [
    {
     "data": {
      "image/png": "[encoded data removed]",
      "text/plain": [
       "<Figure size 640x480 with 1 Axes>"
      ]
     },
     "metadata": {},
     "output_type": "display_data"
    }
   ],
   "source": [
    "plt.plot(prova, fittone(prova), 'b-', label='fit')\n",
    "plt.scatter(x, y, label='Relic density',color = \"black\")\n",
    "plt.title(r'Thermal iDM,  $\\delta= 0.3m_1$,  $m_{Z^i}=3m_1$,  $\\alpha_D=0.39$,  $Y_\\chi=0.005$,  $m_\\phi=1$ GeV')\n",
    "plt.xlabel('$m_1$')\n",
    "plt.ylabel('$\\epsilon_D$')\n",
    "plt.xscale('log')\n",
    "plt.yscale('log')\n",
    "plt.legend()\n",
    "plt.grid(which='major')\n",
    "plt.grid(which='minor', axis='y',linestyle='--')"
   ]
  },
  {
   "cell_type": "code",
   "execution_count": null,
   "id": "25e0aa41",
   "metadata": {},
   "outputs": [],
   "source": []
  }
 ],
 "metadata": {
  "kernelspec": {
   "display_name": "Python 3 (ipykernel)",
   "language": "python",
   "name": "python3"
  },
  "language_info": {
   "codemirror_mode": {
    "name": "ipython",
    "version": 3
   },
   "file_extension": ".py",
   "mimetype": "text/x-python",
   "name": "python",
   "nbconvert_exporter": "python",
   "pygments_lexer": "ipython3",
   "version": "3.9.7"
  }
 },
 "nbformat": 4,
 "nbformat_minor": 5
}
