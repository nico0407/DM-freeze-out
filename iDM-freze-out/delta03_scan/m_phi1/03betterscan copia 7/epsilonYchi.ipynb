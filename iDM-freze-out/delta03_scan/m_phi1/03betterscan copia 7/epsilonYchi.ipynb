{
 "cells": [
  {
   "cell_type": "code",
   "execution_count": 8,
   "id": "99345948",
   "metadata": {},
   "outputs": [],
   "source": [
    "import numpy as np\n",
    "import pandas as pd\n",
    "import matplotlib.pyplot as plt"
   ]
  },
  {
   "cell_type": "code",
   "execution_count": 19,
   "id": "7b5f78ce",
   "metadata": {},
   "outputs": [],
   "source": [
    "m1variation=[]\n",
    "mS0=[]\n",
    "gX=[]\n",
    "epsilondark=[]\n",
    "lambdaphih=[]\n",
    "Ychi=[]\n",
    "m1=0.05"
   ]
  },
  {
   "cell_type": "code",
   "execution_count": 20,
   "id": "8ce8e322",
   "metadata": {},
   "outputs": [],
   "source": [
    "for i in range(100):\n",
    "    m1variation.append(m1+(0.005*i))\n",
    "    mS0.append(1)\n",
    "    gX.append(2.213)\n",
    "    epsilondark.append('{:.10f}'.format(0.00001+i*0.00001))\n",
    "    #lambdaphih.append(0.00000045)\n",
    "    lambdaphih.append('{:.10f}'.format(0.00000045))\n",
    "    Ychi.append(0.005)"
   ]
  },
  {
   "cell_type": "code",
   "execution_count": 21,
   "id": "b9c67a9b",
   "metadata": {},
   "outputs": [],
   "source": [
    "m1step=np.array(m1variation)\n",
    "mS0step=np.array(mS0)\n",
    "gXstep=np.array(gX)\n",
    "epsilondarkstep=np.array(epsilondark)\n",
    "lambdaphihstep=np.array(lambdaphih)\n",
    "Ychistep=np.array(Ychi)"
   ]
  },
  {
   "cell_type": "code",
   "execution_count": 22,
   "id": "760475f2",
   "metadata": {},
   "outputs": [],
   "source": [
    "mX0=3*m1step\n",
    "m2=m1step + m1step*0.3"
   ]
  },
  {
   "cell_type": "code",
   "execution_count": 23,
   "id": "24f63c85",
   "metadata": {},
   "outputs": [],
   "source": [
    "# Open the file in write mode\n",
    "with open(\"database.txt\", \"w\") as file:\n",
    "    for i in range(100):\n",
    "        for j in range(100):\n",
    "            file.write(str(mX0[j]) + \" \" + str(m1step[j]) + \" \" + str(m2[j]) + \" \" + str(mS0step[i]) + \" \" + str(gXstep[i]) + \" \" + str(epsilondarkstep[i]) + \" \" + str(lambdaphihstep[i]) + \" \" + str(Ychistep[i]) + \"\\n\")\n",
    "        \n",
    "        "
   ]
  },
  {
   "cell_type": "code",
   "execution_count": null,
   "id": "2136e757",
   "metadata": {},
   "outputs": [],
   "source": []
  },
  {
   "cell_type": "code",
   "execution_count": null,
   "id": "5fd47159",
   "metadata": {},
   "outputs": [],
   "source": []
  },
  {
   "cell_type": "code",
   "execution_count": 24,
   "id": "b57261b6",
   "metadata": {},
   "outputs": [],
   "source": [
    "mass_zeta, mass1, mass2, massS0, massgX, massepsilondark, masslambdaphih, massYchi, Omega = np.loadtxt('data_out', delimiter=' ', unpack=True)\n"
   ]
  },
  {
   "cell_type": "code",
   "execution_count": 25,
   "id": "8854f414",
   "metadata": {},
   "outputs": [
    {
     "data": {
      "text/plain": [
       "array([1.e-05, 1.e-05, 1.e-05, ..., 1.e-03, 1.e-03, 1.e-03])"
      ]
     },
     "execution_count": 25,
     "metadata": {},
     "output_type": "execute_result"
    }
   ],
   "source": [
    "massepsilondark"
   ]
  },
  {
   "cell_type": "code",
   "execution_count": 48,
   "id": "88c6b000",
   "metadata": {},
   "outputs": [],
   "source": [
    "numberindeces=[]"
   ]
  },
  {
   "cell_type": "code",
   "execution_count": 49,
   "id": "b3c8e1da",
   "metadata": {},
   "outputs": [
    {
     "data": {
      "text/plain": [
       "1e-05"
      ]
     },
     "execution_count": 49,
     "metadata": {},
     "output_type": "execute_result"
    }
   ],
   "source": [
    "massepsilondark[10]"
   ]
  },
  {
   "cell_type": "code",
   "execution_count": 50,
   "id": "53a8b8c4",
   "metadata": {},
   "outputs": [
    {
     "data": {
      "text/plain": [
       "9.490082"
      ]
     },
     "execution_count": 50,
     "metadata": {},
     "output_type": "execute_result"
    }
   ],
   "source": [
    "Omega[3]"
   ]
  },
  {
   "cell_type": "code",
   "execution_count": 51,
   "id": "4adee4d1",
   "metadata": {},
   "outputs": [],
   "source": [
    "for i in range(10000):\n",
    "    if Omega[i]>0.118 and Omega[i] < 0.122:\n",
    "        numberindeces.append(i)"
   ]
  },
  {
   "cell_type": "code",
   "execution_count": 52,
   "id": "428223fe",
   "metadata": {},
   "outputs": [
    {
     "data": {
      "text/plain": [
       "[2000,\n",
       " 2001,\n",
       " 2155,\n",
       " 2202,\n",
       " 2255,\n",
       " 2355,\n",
       " 2455,\n",
       " 2504,\n",
       " 2555,\n",
       " 2655,\n",
       " 2705,\n",
       " 2755,\n",
       " 2855,\n",
       " 2906,\n",
       " 2955,\n",
       " 3007,\n",
       " 3055,\n",
       " 3310,\n",
       " 3411,\n",
       " 3612,\n",
       " 3813,\n",
       " 4014,\n",
       " 4054,\n",
       " 4115,\n",
       " 4154,\n",
       " 4254,\n",
       " 4316,\n",
       " 4354,\n",
       " 4454,\n",
       " 4517,\n",
       " 4554,\n",
       " 4718,\n",
       " 4919,\n",
       " 5120,\n",
       " 5153,\n",
       " 5253,\n",
       " 5321,\n",
       " 5353,\n",
       " 5453,\n",
       " 5522,\n",
       " 5553,\n",
       " 5723,\n",
       " 5824,\n",
       " 5924,\n",
       " 5952,\n",
       " 6025,\n",
       " 6052,\n",
       " 6125,\n",
       " 6152,\n",
       " 6226,\n",
       " 6252,\n",
       " 6326,\n",
       " 6352,\n",
       " 6427,\n",
       " 6551,\n",
       " 6628,\n",
       " 6651,\n",
       " 6729,\n",
       " 6751,\n",
       " 6829,\n",
       " 6851,\n",
       " 6930,\n",
       " 6950,\n",
       " 7030,\n",
       " 7031,\n",
       " 7050,\n",
       " 7131,\n",
       " 7150,\n",
       " 7232,\n",
       " 7250,\n",
       " 7332,\n",
       " 7333,\n",
       " 7349,\n",
       " 7433,\n",
       " 7449,\n",
       " 7534,\n",
       " 7549,\n",
       " 7634,\n",
       " 7635,\n",
       " 7648,\n",
       " 7735,\n",
       " 7736,\n",
       " 7748,\n",
       " 7836,\n",
       " 7837,\n",
       " 7847,\n",
       " 7848,\n",
       " 7937,\n",
       " 7938,\n",
       " 7946,\n",
       " 7947,\n",
       " 8038,\n",
       " 8039,\n",
       " 8045,\n",
       " 8046,\n",
       " 8047,\n",
       " 8139,\n",
       " 8140,\n",
       " 8141,\n",
       " 8142,\n",
       " 8143,\n",
       " 8144,\n",
       " 8145,\n",
       " 8146,\n",
       " 8240,\n",
       " 8241,\n",
       " 8242,\n",
       " 8243,\n",
       " 8244,\n",
       " 8245,\n",
       " 8342,\n",
       " 8343,\n",
       " 8344]"
      ]
     },
     "execution_count": 52,
     "metadata": {},
     "output_type": "execute_result"
    }
   ],
   "source": [
    "numberindeces"
   ]
  },
  {
   "cell_type": "code",
   "execution_count": 53,
   "id": "c90f30e0",
   "metadata": {},
   "outputs": [
    {
     "data": {
      "text/plain": [
       "array([0.05 , 0.055, 0.06 , ..., 0.535, 0.54 , 0.545])"
      ]
     },
     "execution_count": 53,
     "metadata": {},
     "output_type": "execute_result"
    }
   ],
   "source": [
    "mass1"
   ]
  },
  {
   "cell_type": "code",
   "execution_count": 54,
   "id": "010be082",
   "metadata": {},
   "outputs": [],
   "source": [
    "x=[]\n",
    "y=[]\n",
    "for i in range(len(numberindeces)):\n",
    "    x.append(mass1[numberindeces[i]])\n",
    "    y.append(massepsilondark[numberindeces[i]])"
   ]
  },
  {
   "cell_type": "code",
   "execution_count": 55,
   "id": "3f10f187",
   "metadata": {},
   "outputs": [],
   "source": [
    "x.sort()\n",
    "y.sort()"
   ]
  },
  {
   "cell_type": "code",
   "execution_count": 56,
   "id": "cf9e9762",
   "metadata": {},
   "outputs": [
    {
     "data": {
      "text/plain": [
       "[0.05,\n",
       " 0.055,\n",
       " 0.060000000000000005,\n",
       " 0.07,\n",
       " 0.07500000000000001,\n",
       " 0.08,\n",
       " 0.085,\n",
       " 0.1,\n",
       " 0.10500000000000001,\n",
       " 0.11,\n",
       " 0.115,\n",
       " 0.12000000000000001,\n",
       " 0.125,\n",
       " 0.13,\n",
       " 0.135,\n",
       " 0.14,\n",
       " 0.14500000000000002,\n",
       " 0.15000000000000002,\n",
       " 0.155,\n",
       " 0.16,\n",
       " 0.165,\n",
       " 0.16999999999999998,\n",
       " 0.16999999999999998,\n",
       " 0.175,\n",
       " 0.175,\n",
       " 0.18,\n",
       " 0.18,\n",
       " 0.185,\n",
       " 0.19,\n",
       " 0.195,\n",
       " 0.195,\n",
       " 0.2,\n",
       " 0.2,\n",
       " 0.20500000000000002,\n",
       " 0.20500000000000002,\n",
       " 0.21000000000000002,\n",
       " 0.21000000000000002,\n",
       " 0.21500000000000002,\n",
       " 0.21500000000000002,\n",
       " 0.22000000000000003,\n",
       " 0.22000000000000003,\n",
       " 0.22500000000000003,\n",
       " 0.22500000000000003,\n",
       " 0.22999999999999998,\n",
       " 0.22999999999999998,\n",
       " 0.235,\n",
       " 0.235,\n",
       " 0.24,\n",
       " 0.24,\n",
       " 0.245,\n",
       " 0.245,\n",
       " 0.25,\n",
       " 0.25,\n",
       " 0.255,\n",
       " 0.255,\n",
       " 0.26,\n",
       " 0.26,\n",
       " 0.26,\n",
       " 0.265,\n",
       " 0.265,\n",
       " 0.265,\n",
       " 0.27,\n",
       " 0.27,\n",
       " 0.27,\n",
       " 0.275,\n",
       " 0.275,\n",
       " 0.275,\n",
       " 0.28,\n",
       " 0.28,\n",
       " 0.28,\n",
       " 0.28500000000000003,\n",
       " 0.28500000000000003,\n",
       " 0.28500000000000003,\n",
       " 0.29,\n",
       " 0.29,\n",
       " 0.29,\n",
       " 0.295,\n",
       " 0.295,\n",
       " 0.295,\n",
       " 0.3,\n",
       " 0.3,\n",
       " 0.3,\n",
       " 0.3,\n",
       " 0.305,\n",
       " 0.305,\n",
       " 0.305,\n",
       " 0.305,\n",
       " 0.31,\n",
       " 0.31,\n",
       " 0.31,\n",
       " 0.31,\n",
       " 0.31,\n",
       " 0.315,\n",
       " 0.315,\n",
       " 0.315,\n",
       " 0.315,\n",
       " 0.315,\n",
       " 0.32,\n",
       " 0.32,\n",
       " 0.32,\n",
       " 0.32,\n",
       " 0.32,\n",
       " 0.32,\n",
       " 0.325,\n",
       " 0.325,\n",
       " 0.325,\n",
       " 0.325,\n",
       " 0.325,\n",
       " 0.325,\n",
       " 0.325,\n",
       " 0.325,\n",
       " 0.325,\n",
       " 0.325]"
      ]
     },
     "execution_count": 56,
     "metadata": {},
     "output_type": "execute_result"
    }
   ],
   "source": [
    "x"
   ]
  },
  {
   "cell_type": "code",
   "execution_count": 57,
   "id": "6fd7c099",
   "metadata": {},
   "outputs": [
    {
     "data": {
      "image/png": "[encoded data removed]",
      "text/plain": [
       "<Figure size 640x480 with 1 Axes>"
      ]
     },
     "metadata": {},
     "output_type": "display_data"
    }
   ],
   "source": [
    "plt.scatter(x, y, label='Relic density',color = \"black\")\n",
    "plt.title(r'Thermal iDM,  $\\delta= 0.3m_1$,  $m_{Z^i}=3m_1$,  $\\alpha_D=0.39$,  $Y_\\chi=0.005$,  $m_\\phi=1$ GeV')\n",
    "plt.xlabel('$m_1$')\n",
    "plt.ylabel('$\\epsilon_D$')\n",
    "plt.xscale('log')\n",
    "plt.yscale('log')\n",
    "plt.legend()\n",
    "plt.grid(which='major')\n",
    "plt.grid(which='minor', axis='y',linestyle='--')\n",
    "plt.show()"
   ]
  },
  {
   "cell_type": "code",
   "execution_count": 37,
   "id": "796f7784",
   "metadata": {},
   "outputs": [
    {
     "data": {
      "text/plain": [
       "array([7.639513e+00, 7.794505e+00, 8.611931e+00, ..., 7.777000e-03,\n",
       "       9.289000e-03, 1.088400e-02])"
      ]
     },
     "execution_count": 37,
     "metadata": {},
     "output_type": "execute_result"
    }
   ],
   "source": []
  },
  {
   "cell_type": "code",
   "execution_count": 76,
   "id": "e177fccc",
   "metadata": {},
   "outputs": [
    {
     "data": {
      "image/png": "[encoded data removed]",
      "text/plain": [
       "<Figure size 640x480 with 1 Axes>"
      ]
     },
     "metadata": {},
     "output_type": "display_data"
    }
   ],
   "source": [
    "plt.scatter(mass1,Omega,s=1, label=r'$\\Omega$ points', color=\"black\")\n",
    "plt.axhline(0.12, label='Relic density', color=\"red\")\n",
    "plt.title(r'Thermal iDM,  $\\delta= 0.3m_1$,  $m_{Z^i}=3m_1$,  $\\alpha_D=0.39$,  $Y_\\chi=0.005$,  $m_\\phi=1$ GeV')\n",
    "plt.xscale('log')\n",
    "plt.yscale('log')\n",
    "plt.xlabel('$m_1$ GeV')\n",
    "plt.ylabel('$\\Omega$')\n",
    "plt.legend()\n",
    "plt.grid(which='major')\n",
    "plt.grid(which='minor', axis='y',linestyle=':')"
   ]
  },
  {
   "cell_type": "code",
   "execution_count": null,
   "id": "c17090dd",
   "metadata": {},
   "outputs": [],
   "source": []
  }
 ],
 "metadata": {
  "kernelspec": {
   "display_name": "Python 3 (ipykernel)",
   "language": "python",
   "name": "python3"
  },
  "language_info": {
   "codemirror_mode": {
    "name": "ipython",
    "version": 3
   },
   "file_extension": ".py",
   "mimetype": "text/x-python",
   "name": "python",
   "nbconvert_exporter": "python",
   "pygments_lexer": "ipython3",
   "version": "3.9.7"
  }
 },
 "nbformat": 4,
 "nbformat_minor": 5
}
