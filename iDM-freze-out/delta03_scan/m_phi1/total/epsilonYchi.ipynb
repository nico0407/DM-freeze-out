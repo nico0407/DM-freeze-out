{
 "cells": [
  {
   "cell_type": "code",
   "execution_count": 2,
   "id": "99345948",
   "metadata": {},
   "outputs": [],
   "source": [
    "import numpy as np\n",
    "import pandas as pd\n",
    "import matplotlib.pyplot as plt"
   ]
  },
  {
   "cell_type": "code",
   "execution_count": null,
   "id": "2136e757",
   "metadata": {},
   "outputs": [],
   "source": []
  },
  {
   "cell_type": "code",
   "execution_count": null,
   "id": "5fd47159",
   "metadata": {},
   "outputs": [],
   "source": []
  },
  {
   "cell_type": "code",
   "execution_count": 40,
   "id": "b57261b6",
   "metadata": {},
   "outputs": [],
   "source": [
    "mass_zeta, mass1, mass2, massS0, massgX, massepsilondark, masslambdaphih, massYchi, Omega = np.loadtxt('data_out', delimiter=' ', unpack=True)\n"
   ]
  },
  {
   "cell_type": "code",
   "execution_count": 41,
   "id": "1a0378dd",
   "metadata": {},
   "outputs": [],
   "source": [
    "mass_zeta2, mass12, mass22, massS02, massgX2, massepsilondark2, masslambdaphih2, massYchi2, Omega2 = np.loadtxt('data_out 2', delimiter=' ', unpack=True)\n"
   ]
  },
  {
   "cell_type": "code",
   "execution_count": 42,
   "id": "f85bb5fd",
   "metadata": {},
   "outputs": [],
   "source": [
    "mass_zeta3, mass13, mass23, massS03, massgX3, massepsilondark3, masslambdaphih3, massYchi3, Omega3 = np.loadtxt('data_out 3', delimiter=' ', unpack=True)\n"
   ]
  },
  {
   "cell_type": "code",
   "execution_count": 43,
   "id": "0dfb6d52",
   "metadata": {},
   "outputs": [],
   "source": [
    "mass_zeta4, mass14, mass24, massS04, massgX4, massepsilondark4, masslambdaphih4, massYchi4, Omega4 = np.loadtxt('data_out 4', delimiter=' ', unpack=True)\n"
   ]
  },
  {
   "cell_type": "code",
   "execution_count": 44,
   "id": "3cfc38ef",
   "metadata": {},
   "outputs": [],
   "source": [
    "mass_zeta5, mass15, mass25, massS05, massgX5, massepsilondark5, masslambdaphih5, massYchi5, Omega5 = np.loadtxt('data_out 5', delimiter=' ', unpack=True)\n"
   ]
  },
  {
   "cell_type": "code",
   "execution_count": 45,
   "id": "ad99f619",
   "metadata": {},
   "outputs": [],
   "source": [
    "mass_zeta6, mass16, mass26, massS06, massgX6, massepsilondark6, masslambdaphih6, massYchi6, Omega6 = np.loadtxt('data_out 6', delimiter=' ', unpack=True)\n"
   ]
  },
  {
   "cell_type": "code",
   "execution_count": 46,
   "id": "bf86d5e2",
   "metadata": {},
   "outputs": [],
   "source": [
    "mass_zeta7, mass17, mass27, massS07, massgX7, massepsilondark7, masslambdaphih7, massYchi7, Omega7 = np.loadtxt('data_out 7', delimiter=' ', unpack=True)\n"
   ]
  },
  {
   "cell_type": "code",
   "execution_count": 47,
   "id": "72ed440d",
   "metadata": {},
   "outputs": [],
   "source": [
    "mass_zeta8, mass18, mass28, massS08, massgX8, massepsilondark8, masslambdaphih8, massYchi8, Omega8 = np.loadtxt('data_out 8', delimiter=' ', unpack=True)\n"
   ]
  },
  {
   "cell_type": "code",
   "execution_count": 48,
   "id": "560ea73f",
   "metadata": {},
   "outputs": [
    {
     "name": "stdout",
     "output_type": "stream",
     "text": [
      "10000\n",
      "2500\n",
      "10000\n",
      "10000\n",
      "10000\n",
      "10000\n",
      "10000\n",
      "10000\n"
     ]
    }
   ],
   "source": [
    "print(len(Omega))\n",
    "print(len(Omega2))\n",
    "print(len(Omega3))\n",
    "print(len(Omega4))\n",
    "print(len(Omega5))\n",
    "print(len(Omega6))\n",
    "print(len(Omega7))\n",
    "print(len(Omega8))"
   ]
  },
  {
   "cell_type": "code",
   "execution_count": 49,
   "id": "8854f414",
   "metadata": {},
   "outputs": [
    {
     "data": {
      "text/plain": [
       "array([0.001 , 0.001 , 0.001 , ..., 0.0109, 0.0109, 0.0109])"
      ]
     },
     "execution_count": 49,
     "metadata": {},
     "output_type": "execute_result"
    }
   ],
   "source": [
    "massepsilondark"
   ]
  },
  {
   "cell_type": "code",
   "execution_count": 50,
   "id": "88c6b000",
   "metadata": {},
   "outputs": [],
   "source": [
    "numberindeces=[]\n",
    "numberindeces2=[]\n",
    "numberindeces3=[]\n",
    "numberindeces4=[]\n",
    "numberindeces5=[]\n",
    "numberindeces6=[]\n",
    "numberindeces7=[]\n",
    "numberindeces8=[]"
   ]
  },
  {
   "cell_type": "code",
   "execution_count": 51,
   "id": "b3c8e1da",
   "metadata": {},
   "outputs": [
    {
     "data": {
      "text/plain": [
       "0.001"
      ]
     },
     "execution_count": 51,
     "metadata": {},
     "output_type": "execute_result"
    }
   ],
   "source": [
    "massepsilondark[10]"
   ]
  },
  {
   "cell_type": "code",
   "execution_count": 52,
   "id": "53a8b8c4",
   "metadata": {},
   "outputs": [
    {
     "data": {
      "text/plain": [
       "0.029867"
      ]
     },
     "execution_count": 52,
     "metadata": {},
     "output_type": "execute_result"
    }
   ],
   "source": [
    "Omega[3]"
   ]
  },
  {
   "cell_type": "code",
   "execution_count": 53,
   "id": "e372898e",
   "metadata": {},
   "outputs": [],
   "source": [
    "for i in range(2500):\n",
    "    if Omega2[i]>0.118 and Omega2[i] < 0.122:\n",
    "        numberindeces2.append(i)"
   ]
  },
  {
   "cell_type": "code",
   "execution_count": 54,
   "id": "4adee4d1",
   "metadata": {},
   "outputs": [],
   "source": [
    "for i in range(10000):\n",
    "    if Omega[i]>0.118 and Omega[i] < 0.122:\n",
    "        numberindeces.append(i)\n",
    "    if Omega3[i]>0.118 and Omega3[i] < 0.122:\n",
    "        numberindeces3.append(i)\n",
    "    if Omega4[i]>0.118 and Omega4[i] < 0.122:\n",
    "        numberindeces4.append(i)\n",
    "    if Omega5[i]>0.118 and Omega5[i] < 0.122:\n",
    "        numberindeces5.append(i)\n",
    "    if Omega6[i]>0.118 and Omega6[i] < 0.122:\n",
    "        numberindeces6.append(i)\n",
    "    if Omega7[i]>0.118 and Omega7[i] < 0.122:\n",
    "        numberindeces7.append(i)\n",
    "    if Omega8[i]>0.118 and Omega8[i] < 0.122:\n",
    "        numberindeces8.append(i)"
   ]
  },
  {
   "cell_type": "code",
   "execution_count": 55,
   "id": "428223fe",
   "metadata": {},
   "outputs": [
    {
     "data": {
      "text/plain": [
       "[36,\n",
       " 337,\n",
       " 437,\n",
       " 638,\n",
       " 939,\n",
       " 1140,\n",
       " 1241,\n",
       " 1442,\n",
       " 1543,\n",
       " 1744,\n",
       " 1845,\n",
       " 1946,\n",
       " 2147,\n",
       " 2248,\n",
       " 2349,\n",
       " 2450,\n",
       " 2551,\n",
       " 2552,\n",
       " 2652,\n",
       " 2653,\n",
       " 2754,\n",
       " 2855,\n",
       " 2956,\n",
       " 2957,\n",
       " 3057,\n",
       " 3058,\n",
       " 3158,\n",
       " 3159,\n",
       " 3260,\n",
       " 3361,\n",
       " 3462,\n",
       " 3563,\n",
       " 3664,\n",
       " 3665,\n",
       " 3765,\n",
       " 3766,\n",
       " 3866,\n",
       " 3867,\n",
       " 3968,\n",
       " 4069,\n",
       " 4170,\n",
       " 4271,\n",
       " 4272,\n",
       " 4372,\n",
       " 4373,\n",
       " 4473,\n",
       " 4474,\n",
       " 4574,\n",
       " 4575,\n",
       " 4676,\n",
       " 4777,\n",
       " 4778,\n",
       " 4878,\n",
       " 4879,\n",
       " 4979,\n",
       " 4980,\n",
       " 5080,\n",
       " 5081,\n",
       " 5181,\n",
       " 5182,\n",
       " 5283,\n",
       " 5384,\n",
       " 5385,\n",
       " 5485,\n",
       " 5486,\n",
       " 5586,\n",
       " 5587,\n",
       " 5687,\n",
       " 5688,\n",
       " 5788,\n",
       " 5789,\n",
       " 5889,\n",
       " 5890,\n",
       " 5891,\n",
       " 5991,\n",
       " 5992,\n",
       " 6092,\n",
       " 6093,\n",
       " 6193,\n",
       " 6194,\n",
       " 6294,\n",
       " 6295,\n",
       " 6395,\n",
       " 6396,\n",
       " 6397,\n",
       " 6497,\n",
       " 6498,\n",
       " 6598,\n",
       " 6599,\n",
       " 6699]"
      ]
     },
     "execution_count": 55,
     "metadata": {},
     "output_type": "execute_result"
    }
   ],
   "source": [
    "numberindeces"
   ]
  },
  {
   "cell_type": "code",
   "execution_count": 56,
   "id": "c90f30e0",
   "metadata": {},
   "outputs": [
    {
     "data": {
      "text/plain": [
       "array([0.05, 0.07, 0.09, ..., 1.99, 2.01, 2.03])"
      ]
     },
     "execution_count": 56,
     "metadata": {},
     "output_type": "execute_result"
    }
   ],
   "source": [
    "mass1"
   ]
  },
  {
   "cell_type": "code",
   "execution_count": 57,
   "id": "010be082",
   "metadata": {},
   "outputs": [],
   "source": [
    "x=[]\n",
    "y=[]\n",
    "x2=[]\n",
    "y2=[]\n",
    "x3=[]\n",
    "y3=[]\n",
    "x4=[]\n",
    "y4=[]\n",
    "x5=[]\n",
    "y5=[]\n",
    "x6=[]\n",
    "y6=[]\n",
    "x7=[]\n",
    "y7=[]\n",
    "x8=[]\n",
    "y8=[]\n",
    "for i in range(len(numberindeces)):\n",
    "    x.append(mass1[numberindeces[i]])\n",
    "    y.append(massepsilondark[numberindeces[i]])\n",
    "for i in range(len(numberindeces2)):\n",
    "    x2.append(mass12[numberindeces2[i]])\n",
    "    y2.append(massepsilondark2[numberindeces2[i]])\n",
    "for i in range(len(numberindeces3)):\n",
    "    x3.append(mass13[numberindeces3[i]])\n",
    "    y3.append(massepsilondark3[numberindeces3[i]])\n",
    "for i in range(len(numberindeces4)):\n",
    "    x4.append(mass14[numberindeces4[i]])\n",
    "    y4.append(massepsilondark4[numberindeces4[i]])\n",
    "for i in range(len(numberindeces5)):\n",
    "    x5.append(mass15[numberindeces5[i]])\n",
    "    y5.append(massepsilondark5[numberindeces5[i]])\n",
    "for i in range(len(numberindeces6)):\n",
    "    x6.append(mass16[numberindeces6[i]])\n",
    "    y6.append(massepsilondark6[numberindeces6[i]])\n",
    "for i in range(len(numberindeces7)):\n",
    "    x7.append(mass17[numberindeces7[i]])\n",
    "    y7.append(massepsilondark7[numberindeces7[i]])\n",
    "for i in range(len(numberindeces8)):\n",
    "    x8.append(mass18[numberindeces8[i]])\n",
    "    y8.append(massepsilondark8[numberindeces8[i]])"
   ]
  },
  {
   "cell_type": "code",
   "execution_count": 58,
   "id": "3f10f187",
   "metadata": {},
   "outputs": [],
   "source": [
    "x.sort()\n",
    "y.sort()\n",
    "x2.sort()\n",
    "y2.sort()\n",
    "x3.sort()\n",
    "y3.sort()\n",
    "x4.sort()\n",
    "y4.sort()\n",
    "x5.sort()\n",
    "y5.sort()\n",
    "x6.sort()\n",
    "y6.sort()\n",
    "x7.sort()\n",
    "y7.sort()\n",
    "x8.sort()\n",
    "y8.sort()"
   ]
  },
  {
   "cell_type": "code",
   "execution_count": 59,
   "id": "cf9e9762",
   "metadata": {},
   "outputs": [
    {
     "data": {
      "text/plain": [
       "[0.77,\n",
       " 0.79,\n",
       " 0.79,\n",
       " 0.81,\n",
       " 0.8300000000000001,\n",
       " 0.8500000000000001,\n",
       " 0.8700000000000001,\n",
       " 0.89,\n",
       " 0.91,\n",
       " 0.93,\n",
       " 0.9500000000000001,\n",
       " 0.9700000000000001,\n",
       " 0.9900000000000001,\n",
       " 1.01,\n",
       " 1.03,\n",
       " 1.05,\n",
       " 1.07,\n",
       " 1.09,\n",
       " 1.09,\n",
       " 1.11,\n",
       " 1.1300000000000001,\n",
       " 1.1500000000000001,\n",
       " 1.1700000000000002,\n",
       " 1.1900000000000002,\n",
       " 1.1900000000000002,\n",
       " 1.21,\n",
       " 1.21,\n",
       " 1.23,\n",
       " 1.25,\n",
       " 1.27,\n",
       " 1.29,\n",
       " 1.31,\n",
       " 1.33,\n",
       " 1.35,\n",
       " 1.35,\n",
       " 1.37,\n",
       " 1.37,\n",
       " 1.3900000000000001,\n",
       " 1.4100000000000001,\n",
       " 1.4300000000000002,\n",
       " 1.4500000000000002,\n",
       " 1.47,\n",
       " 1.49,\n",
       " 1.49,\n",
       " 1.51,\n",
       " 1.51,\n",
       " 1.53,\n",
       " 1.53,\n",
       " 1.55,\n",
       " 1.57,\n",
       " 1.59,\n",
       " 1.61,\n",
       " 1.61,\n",
       " 1.6300000000000001,\n",
       " 1.6300000000000001,\n",
       " 1.6500000000000001,\n",
       " 1.6500000000000001,\n",
       " 1.6700000000000002,\n",
       " 1.6700000000000002,\n",
       " 1.6900000000000002,\n",
       " 1.7100000000000002,\n",
       " 1.73,\n",
       " 1.75,\n",
       " 1.75,\n",
       " 1.77,\n",
       " 1.77,\n",
       " 1.79,\n",
       " 1.79,\n",
       " 1.81,\n",
       " 1.81,\n",
       " 1.83,\n",
       " 1.83,\n",
       " 1.85,\n",
       " 1.87,\n",
       " 1.87,\n",
       " 1.8900000000000001,\n",
       " 1.8900000000000001,\n",
       " 1.9100000000000001,\n",
       " 1.9100000000000001,\n",
       " 1.9300000000000002,\n",
       " 1.9300000000000002,\n",
       " 1.9500000000000002,\n",
       " 1.9500000000000002,\n",
       " 1.97,\n",
       " 1.99,\n",
       " 1.99,\n",
       " 2.01,\n",
       " 2.01,\n",
       " 2.03,\n",
       " 2.03]"
      ]
     },
     "execution_count": 59,
     "metadata": {},
     "output_type": "execute_result"
    }
   ],
   "source": [
    "x"
   ]
  },
  {
   "cell_type": "code",
   "execution_count": 73,
   "id": "6fd7c099",
   "metadata": {},
   "outputs": [
    {
     "data": {
      "image/png": "[encoded data removed]",
      "text/plain": [
       "<Figure size 640x480 with 1 Axes>"
      ]
     },
     "metadata": {},
     "output_type": "display_data"
    }
   ],
   "source": [
    "plt.scatter(x, y, label='Relic density',color = \"black\", s=10)\n",
    "plt.scatter(x2, y2, color = \"black\", s=10)\n",
    "plt.scatter(x3, y3, color = \"black\", s=10)\n",
    "plt.scatter(x4, y4, color = \"black\", s=10)\n",
    "#plt.scatter(x5, y5, color = \"purple\")\n",
    "#plt.scatter(x6, y6, color = \"green\")\n",
    "plt.scatter(x7, y7, color = \"black\", s=10)\n",
    "plt.scatter(x8, y8, color = \"black\", s=10)\n",
    "plt.title(r'Thermal iDM,  $\\delta= 0.3m_1$,  $m_{Z^i}=3m_1$,  $\\alpha_D=0.39$,  $Y_\\chi=0.005$,  $m_\\phi=1$ GeV')\n",
    "plt.xlabel('$m_1$ [GeV]')\n",
    "plt.ylabel('$\\epsilon_D$')\n",
    "plt.xscale('log')\n",
    "plt.yscale('log')\n",
    "plt.legend()\n",
    "plt.ylim(0.00001,0.024)\n",
    "plt.grid(which='major')\n",
    "plt.grid(which='minor', axis='y',linestyle='--')\n",
    "plt.show()"
   ]
  },
  {
   "cell_type": "code",
   "execution_count": 77,
   "id": "e177fccc",
   "metadata": {},
   "outputs": [
    {
     "data": {
      "image/png": "[encoded data removed]",
      "text/plain": [
       "<Figure size 640x480 with 1 Axes>"
      ]
     },
     "metadata": {},
     "output_type": "display_data"
    }
   ],
   "source": [
    "plt.scatter(mass1,Omega,s=1, label=r'$\\Omega$ points', color=\"black\")\n",
    "plt.scatter(mass12,Omega2,s=1, color=\"black\")\n",
    "plt.scatter(mass13,Omega3,s=1, color=\"black\")\n",
    "plt.scatter(mass14,Omega4,s=1, color=\"black\")\n",
    "#plt.scatter(mass15,Omega5,s=1, color=\"black\")\n",
    "#plt.scatter(mass16,Omega6,s=1, color=\"black\")\n",
    "plt.scatter(mass17,Omega7,s=1, color=\"black\")\n",
    "plt.scatter(mass18,Omega8,s=1, color=\"black\")\n",
    "plt.axhline(0.12, label='Relic density', color=\"red\")\n",
    "plt.title(r'Thermal iDM,  $\\delta= 0.3m_1$,  $m_{Z^i}=3m_1$,  $\\alpha_D=0.39$,  $Y_\\chi=0.005$,  $m_\\phi=1$ GeV')\n",
    "plt.xscale('log')\n",
    "plt.yscale('log')\n",
    "plt.xlabel('$m_1$ [GeV]')\n",
    "plt.ylabel('$\\Omega$')\n",
    "plt.legend()\n",
    "plt.grid(which='major')\n",
    "plt.grid(which='minor', axis='y',linestyle=':')"
   ]
  },
  {
   "cell_type": "code",
   "execution_count": null,
   "id": "c17090dd",
   "metadata": {},
   "outputs": [],
   "source": []
  }
 ],
 "metadata": {
  "kernelspec": {
   "display_name": "Python 3 (ipykernel)",
   "language": "python",
   "name": "python3"
  },
  "language_info": {
   "codemirror_mode": {
    "name": "ipython",
    "version": 3
   },
   "file_extension": ".py",
   "mimetype": "text/x-python",
   "name": "python",
   "nbconvert_exporter": "python",
   "pygments_lexer": "ipython3",
   "version": "3.9.7"
  }
 },
 "nbformat": 4,
 "nbformat_minor": 5
}
