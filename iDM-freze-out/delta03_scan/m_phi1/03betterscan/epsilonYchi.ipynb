{
 "cells": [
  {
   "cell_type": "code",
   "execution_count": 1,
   "id": "99345948",
   "metadata": {},
   "outputs": [],
   "source": [
    "import numpy as np\n",
    "import pandas as pd\n",
    "import matplotlib.pyplot as plt"
   ]
  },
  {
   "cell_type": "code",
   "execution_count": 2,
   "id": "7b5f78ce",
   "metadata": {},
   "outputs": [],
   "source": [
    "m1variation=[]\n",
    "mS0=[]\n",
    "gX=[]\n",
    "epsilondark=[]\n",
    "lambdaphih=[]\n",
    "Ychi=[]\n",
    "m1=0.05"
   ]
  },
  {
   "cell_type": "code",
   "execution_count": 20,
   "id": "8ce8e322",
   "metadata": {},
   "outputs": [],
   "source": [
    "for i in range(100):\n",
    "    m1variation.append(m1+(0.02*i))\n",
    "    mS0.append(1)\n",
    "    gX.append(2.213)\n",
    "    epsilondark.append(0.001+i*0.0001)\n",
    "    #lambdaphih.append(0.00000045)\n",
    "    lambdaphih.append('{:.10f}'.format(0.00000045))\n",
    "    Ychi.append(0.005)"
   ]
  },
  {
   "cell_type": "code",
   "execution_count": 21,
   "id": "b9c67a9b",
   "metadata": {},
   "outputs": [],
   "source": [
    "m1step=np.array(m1variation)\n",
    "mS0step=np.array(mS0)\n",
    "gXstep=np.array(gX)\n",
    "epsilondarkstep=np.array(epsilondark)\n",
    "lambdaphihstep=np.array(lambdaphih)\n",
    "Ychistep=np.array(Ychi)"
   ]
  },
  {
   "cell_type": "code",
   "execution_count": 22,
   "id": "760475f2",
   "metadata": {},
   "outputs": [],
   "source": [
    "mX0=3*m1step\n",
    "m2=m1step + m1step*0.3"
   ]
  },
  {
   "cell_type": "code",
   "execution_count": 23,
   "id": "24f63c85",
   "metadata": {},
   "outputs": [],
   "source": [
    "# Open the file in write mode\n",
    "with open(\"database.txt\", \"w\") as file:\n",
    "    for i in range(100):\n",
    "        for j in range(100):\n",
    "            file.write(str(mX0[j]) + \" \" + str(m1step[j]) + \" \" + str(m2[j]) + \" \" + str(mS0step[i]) + \" \" + str(gXstep[i]) + \" \" + str(epsilondarkstep[i]) + \" \" + str(lambdaphihstep[i]) + \" \" + str(Ychistep[i]) + \"\\n\")\n",
    "        \n",
    "        "
   ]
  },
  {
   "cell_type": "code",
   "execution_count": null,
   "id": "2136e757",
   "metadata": {},
   "outputs": [],
   "source": []
  },
  {
   "cell_type": "code",
   "execution_count": null,
   "id": "5fd47159",
   "metadata": {},
   "outputs": [],
   "source": []
  },
  {
   "cell_type": "code",
   "execution_count": 3,
   "id": "b57261b6",
   "metadata": {},
   "outputs": [],
   "source": [
    "mass_zeta, mass1, mass2, massS0, massgX, massepsilondark, masslambdaphih, massYchi, Omega = np.loadtxt('data_out', delimiter=' ', unpack=True)\n"
   ]
  },
  {
   "cell_type": "code",
   "execution_count": 4,
   "id": "8854f414",
   "metadata": {},
   "outputs": [
    {
     "data": {
      "text/plain": [
       "array([0.001 , 0.001 , 0.001 , ..., 0.0109, 0.0109, 0.0109])"
      ]
     },
     "execution_count": 4,
     "metadata": {},
     "output_type": "execute_result"
    }
   ],
   "source": [
    "massepsilondark"
   ]
  },
  {
   "cell_type": "code",
   "execution_count": 15,
   "id": "88c6b000",
   "metadata": {},
   "outputs": [],
   "source": [
    "numberindeces=[]"
   ]
  },
  {
   "cell_type": "code",
   "execution_count": 16,
   "id": "b3c8e1da",
   "metadata": {},
   "outputs": [
    {
     "data": {
      "text/plain": [
       "0.001"
      ]
     },
     "execution_count": 16,
     "metadata": {},
     "output_type": "execute_result"
    }
   ],
   "source": [
    "massepsilondark[10]"
   ]
  },
  {
   "cell_type": "code",
   "execution_count": 17,
   "id": "53a8b8c4",
   "metadata": {},
   "outputs": [
    {
     "data": {
      "text/plain": [
       "0.029867"
      ]
     },
     "execution_count": 17,
     "metadata": {},
     "output_type": "execute_result"
    }
   ],
   "source": [
    "Omega[3]"
   ]
  },
  {
   "cell_type": "code",
   "execution_count": 18,
   "id": "4adee4d1",
   "metadata": {},
   "outputs": [],
   "source": [
    "for i in range(10000):\n",
    "    if Omega[i]>0.118 and Omega[i] < 0.122:\n",
    "        numberindeces.append(i)"
   ]
  },
  {
   "cell_type": "code",
   "execution_count": 19,
   "id": "428223fe",
   "metadata": {},
   "outputs": [
    {
     "data": {
      "text/plain": [
       "[36,\n",
       " 337,\n",
       " 437,\n",
       " 638,\n",
       " 939,\n",
       " 1140,\n",
       " 1241,\n",
       " 1442,\n",
       " 1543,\n",
       " 1744,\n",
       " 1845,\n",
       " 1946,\n",
       " 2147,\n",
       " 2248,\n",
       " 2349,\n",
       " 2450,\n",
       " 2551,\n",
       " 2552,\n",
       " 2652,\n",
       " 2653,\n",
       " 2754,\n",
       " 2855,\n",
       " 2956,\n",
       " 2957,\n",
       " 3057,\n",
       " 3058,\n",
       " 3158,\n",
       " 3159,\n",
       " 3260,\n",
       " 3361,\n",
       " 3462,\n",
       " 3563,\n",
       " 3664,\n",
       " 3665,\n",
       " 3765,\n",
       " 3766,\n",
       " 3866,\n",
       " 3867,\n",
       " 3968,\n",
       " 4069,\n",
       " 4170,\n",
       " 4271,\n",
       " 4272,\n",
       " 4372,\n",
       " 4373,\n",
       " 4473,\n",
       " 4474,\n",
       " 4574,\n",
       " 4575,\n",
       " 4676,\n",
       " 4777,\n",
       " 4778,\n",
       " 4878,\n",
       " 4879,\n",
       " 4979,\n",
       " 4980,\n",
       " 5080,\n",
       " 5081,\n",
       " 5181,\n",
       " 5182,\n",
       " 5283,\n",
       " 5384,\n",
       " 5385,\n",
       " 5485,\n",
       " 5486,\n",
       " 5586,\n",
       " 5587,\n",
       " 5687,\n",
       " 5688,\n",
       " 5788,\n",
       " 5789,\n",
       " 5889,\n",
       " 5890,\n",
       " 5891,\n",
       " 5991,\n",
       " 5992,\n",
       " 6092,\n",
       " 6093,\n",
       " 6193,\n",
       " 6194,\n",
       " 6294,\n",
       " 6295,\n",
       " 6395,\n",
       " 6396,\n",
       " 6397,\n",
       " 6497,\n",
       " 6498,\n",
       " 6598,\n",
       " 6599,\n",
       " 6699]"
      ]
     },
     "execution_count": 19,
     "metadata": {},
     "output_type": "execute_result"
    }
   ],
   "source": [
    "numberindeces"
   ]
  },
  {
   "cell_type": "code",
   "execution_count": 20,
   "id": "c90f30e0",
   "metadata": {},
   "outputs": [
    {
     "data": {
      "text/plain": [
       "array([0.05, 0.07, 0.09, ..., 1.99, 2.01, 2.03])"
      ]
     },
     "execution_count": 20,
     "metadata": {},
     "output_type": "execute_result"
    }
   ],
   "source": [
    "mass1"
   ]
  },
  {
   "cell_type": "code",
   "execution_count": 21,
   "id": "010be082",
   "metadata": {},
   "outputs": [],
   "source": [
    "x=[]\n",
    "y=[]\n",
    "for i in range(len(numberindeces)):\n",
    "    x.append(mass1[numberindeces[i]])\n",
    "    y.append(massepsilondark[numberindeces[i]])"
   ]
  },
  {
   "cell_type": "code",
   "execution_count": 22,
   "id": "3f10f187",
   "metadata": {},
   "outputs": [],
   "source": [
    "x.sort()\n",
    "y.sort()"
   ]
  },
  {
   "cell_type": "code",
   "execution_count": 23,
   "id": "cf9e9762",
   "metadata": {},
   "outputs": [
    {
     "data": {
      "text/plain": [
       "[0.77,\n",
       " 0.79,\n",
       " 0.79,\n",
       " 0.81,\n",
       " 0.8300000000000001,\n",
       " 0.8500000000000001,\n",
       " 0.8700000000000001,\n",
       " 0.89,\n",
       " 0.91,\n",
       " 0.93,\n",
       " 0.9500000000000001,\n",
       " 0.9700000000000001,\n",
       " 0.9900000000000001,\n",
       " 1.01,\n",
       " 1.03,\n",
       " 1.05,\n",
       " 1.07,\n",
       " 1.09,\n",
       " 1.09,\n",
       " 1.11,\n",
       " 1.1300000000000001,\n",
       " 1.1500000000000001,\n",
       " 1.1700000000000002,\n",
       " 1.1900000000000002,\n",
       " 1.1900000000000002,\n",
       " 1.21,\n",
       " 1.21,\n",
       " 1.23,\n",
       " 1.25,\n",
       " 1.27,\n",
       " 1.29,\n",
       " 1.31,\n",
       " 1.33,\n",
       " 1.35,\n",
       " 1.35,\n",
       " 1.37,\n",
       " 1.37,\n",
       " 1.3900000000000001,\n",
       " 1.4100000000000001,\n",
       " 1.4300000000000002,\n",
       " 1.4500000000000002,\n",
       " 1.47,\n",
       " 1.49,\n",
       " 1.49,\n",
       " 1.51,\n",
       " 1.51,\n",
       " 1.53,\n",
       " 1.53,\n",
       " 1.55,\n",
       " 1.57,\n",
       " 1.59,\n",
       " 1.61,\n",
       " 1.61,\n",
       " 1.6300000000000001,\n",
       " 1.6300000000000001,\n",
       " 1.6500000000000001,\n",
       " 1.6500000000000001,\n",
       " 1.6700000000000002,\n",
       " 1.6700000000000002,\n",
       " 1.6900000000000002,\n",
       " 1.7100000000000002,\n",
       " 1.73,\n",
       " 1.75,\n",
       " 1.75,\n",
       " 1.77,\n",
       " 1.77,\n",
       " 1.79,\n",
       " 1.79,\n",
       " 1.81,\n",
       " 1.81,\n",
       " 1.83,\n",
       " 1.83,\n",
       " 1.85,\n",
       " 1.87,\n",
       " 1.87,\n",
       " 1.8900000000000001,\n",
       " 1.8900000000000001,\n",
       " 1.9100000000000001,\n",
       " 1.9100000000000001,\n",
       " 1.9300000000000002,\n",
       " 1.9300000000000002,\n",
       " 1.9500000000000002,\n",
       " 1.9500000000000002,\n",
       " 1.97,\n",
       " 1.99,\n",
       " 1.99,\n",
       " 2.01,\n",
       " 2.01,\n",
       " 2.03,\n",
       " 2.03]"
      ]
     },
     "execution_count": 23,
     "metadata": {},
     "output_type": "execute_result"
    }
   ],
   "source": [
    "x"
   ]
  },
  {
   "cell_type": "code",
   "execution_count": 24,
   "id": "6fd7c099",
   "metadata": {},
   "outputs": [
    {
     "data": {
      "image/png": "[encoded data removed]",
      "text/plain": [
       "<Figure size 640x480 with 1 Axes>"
      ]
     },
     "metadata": {},
     "output_type": "display_data"
    }
   ],
   "source": [
    "plt.scatter(x, y, label='Relic density',color = \"black\")\n",
    "plt.title(r'Thermal iDM,  $\\delta= 0.3m_1$,  $m_{Z^i}=3m_1$,  $\\alpha_D=0.39$,  $Y_\\chi=0.005$,  $m_\\phi=1$ GeV')\n",
    "plt.xlabel('$m_1$')\n",
    "plt.ylabel('$\\epsilon_D$')\n",
    "plt.xscale('log')\n",
    "plt.yscale('log')\n",
    "plt.legend()\n",
    "plt.grid(which='major')\n",
    "plt.grid(which='minor', axis='y',linestyle='--')\n",
    "plt.show()"
   ]
  },
  {
   "cell_type": "code",
   "execution_count": null,
   "id": "e177fccc",
   "metadata": {},
   "outputs": [],
   "source": []
  },
  {
   "cell_type": "code",
   "execution_count": null,
   "id": "c17090dd",
   "metadata": {},
   "outputs": [],
   "source": []
  }
 ],
 "metadata": {
  "kernelspec": {
   "display_name": "Python 3 (ipykernel)",
   "language": "python",
   "name": "python3"
  },
  "language_info": {
   "codemirror_mode": {
    "name": "ipython",
    "version": 3
   },
   "file_extension": ".py",
   "mimetype": "text/x-python",
   "name": "python",
   "nbconvert_exporter": "python",
   "pygments_lexer": "ipython3",
   "version": "3.9.7"
  }
 },
 "nbformat": 4,
 "nbformat_minor": 5
}
