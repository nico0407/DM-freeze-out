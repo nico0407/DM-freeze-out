{
 "cells": [
  {
   "cell_type": "code",
   "execution_count": 18,
   "id": "99345948",
   "metadata": {},
   "outputs": [],
   "source": [
    "import numpy as np\n",
    "import pandas as pd\n",
    "import matplotlib.pyplot as plt"
   ]
  },
  {
   "cell_type": "code",
   "execution_count": 19,
   "id": "7b5f78ce",
   "metadata": {},
   "outputs": [],
   "source": [
    "m1variation=[]\n",
    "mS0=[]\n",
    "gX=[]\n",
    "epsilondark=[]\n",
    "lambdaphih=[]\n",
    "Ychi=[]\n",
    "m1=0.05"
   ]
  },
  {
   "cell_type": "code",
   "execution_count": 20,
   "id": "8ce8e322",
   "metadata": {},
   "outputs": [],
   "source": [
    "for i in range(100):\n",
    "    m1variation.append(m1+(0.02*i))\n",
    "    mS0.append(1)\n",
    "    gX.append(2.213)\n",
    "    epsilondark.append(0.001+i*0.0001)\n",
    "    #lambdaphih.append(0.00000045)\n",
    "    lambdaphih.append('{:.10f}'.format(0.00000045))\n",
    "    Ychi.append(0.005)"
   ]
  },
  {
   "cell_type": "code",
   "execution_count": 21,
   "id": "b9c67a9b",
   "metadata": {},
   "outputs": [],
   "source": [
    "m1step=np.array(m1variation)\n",
    "mS0step=np.array(mS0)\n",
    "gXstep=np.array(gX)\n",
    "epsilondarkstep=np.array(epsilondark)\n",
    "lambdaphihstep=np.array(lambdaphih)\n",
    "Ychistep=np.array(Ychi)"
   ]
  },
  {
   "cell_type": "code",
   "execution_count": 22,
   "id": "760475f2",
   "metadata": {},
   "outputs": [],
   "source": [
    "mX0=3*m1step\n",
    "m2=m1step + m1step*0.3"
   ]
  },
  {
   "cell_type": "code",
   "execution_count": 23,
   "id": "24f63c85",
   "metadata": {},
   "outputs": [],
   "source": [
    "# Open the file in write mode\n",
    "with open(\"database.txt\", \"w\") as file:\n",
    "    for i in range(100):\n",
    "        for j in range(100):\n",
    "            file.write(str(mX0[j]) + \" \" + str(m1step[j]) + \" \" + str(m2[j]) + \" \" + str(mS0step[i]) + \" \" + str(gXstep[i]) + \" \" + str(epsilondarkstep[i]) + \" \" + str(lambdaphihstep[i]) + \" \" + str(Ychistep[i]) + \"\\n\")\n",
    "        \n",
    "        "
   ]
  },
  {
   "cell_type": "code",
   "execution_count": null,
   "id": "2136e757",
   "metadata": {},
   "outputs": [],
   "source": []
  },
  {
   "cell_type": "code",
   "execution_count": null,
   "id": "5fd47159",
   "metadata": {},
   "outputs": [],
   "source": []
  },
  {
   "cell_type": "code",
   "execution_count": 24,
   "id": "b57261b6",
   "metadata": {},
   "outputs": [],
   "source": [
    "mass_zeta, mass1, mass2, massS0, massgX, massepsilondark, masslambdaphih, massYchi, Omega = np.loadtxt('data_out', delimiter=' ', unpack=True)\n"
   ]
  },
  {
   "cell_type": "code",
   "execution_count": 25,
   "id": "8854f414",
   "metadata": {},
   "outputs": [
    {
     "data": {
      "text/plain": [
       "array([0.001 , 0.001 , 0.001 , ..., 0.0109, 0.0109, 0.0109])"
      ]
     },
     "execution_count": 25,
     "metadata": {},
     "output_type": "execute_result"
    }
   ],
   "source": [
    "massepsilondark"
   ]
  },
  {
   "cell_type": "code",
   "execution_count": 46,
   "id": "88c6b000",
   "metadata": {},
   "outputs": [],
   "source": [
    "numberindeces=[]"
   ]
  },
  {
   "cell_type": "code",
   "execution_count": 47,
   "id": "b3c8e1da",
   "metadata": {},
   "outputs": [
    {
     "data": {
      "text/plain": [
       "0.001"
      ]
     },
     "execution_count": 47,
     "metadata": {},
     "output_type": "execute_result"
    }
   ],
   "source": [
    "massepsilondark[10]"
   ]
  },
  {
   "cell_type": "code",
   "execution_count": 48,
   "id": "53a8b8c4",
   "metadata": {},
   "outputs": [
    {
     "data": {
      "text/plain": [
       "0.029867"
      ]
     },
     "execution_count": 48,
     "metadata": {},
     "output_type": "execute_result"
    }
   ],
   "source": [
    "Omega[3]"
   ]
  },
  {
   "cell_type": "code",
   "execution_count": 49,
   "id": "4adee4d1",
   "metadata": {},
   "outputs": [],
   "source": [
    "for i in range(2500):\n",
    "    if Omega[i]>0.095 and Omega[i] < 0.13:\n",
    "        numberindeces.append(i)"
   ]
  },
  {
   "cell_type": "code",
   "execution_count": 50,
   "id": "428223fe",
   "metadata": {},
   "outputs": [
    {
     "data": {
      "text/plain": [
       "[10,\n",
       " 11,\n",
       " 12,\n",
       " 34,\n",
       " 35,\n",
       " 36,\n",
       " 134,\n",
       " 135,\n",
       " 136,\n",
       " 137,\n",
       " 235,\n",
       " 236,\n",
       " 237,\n",
       " 335,\n",
       " 336,\n",
       " 337,\n",
       " 435,\n",
       " 436,\n",
       " 437,\n",
       " 438,\n",
       " 535,\n",
       " 536,\n",
       " 537,\n",
       " 538,\n",
       " 635,\n",
       " 636,\n",
       " 637,\n",
       " 638,\n",
       " 639,\n",
       " 736,\n",
       " 737,\n",
       " 738,\n",
       " 739,\n",
       " 836,\n",
       " 837,\n",
       " 838,\n",
       " 839,\n",
       " 840,\n",
       " 936,\n",
       " 937,\n",
       " 938,\n",
       " 939,\n",
       " 940,\n",
       " 1037,\n",
       " 1038,\n",
       " 1039,\n",
       " 1040,\n",
       " 1041,\n",
       " 1137,\n",
       " 1138,\n",
       " 1139,\n",
       " 1140,\n",
       " 1141,\n",
       " 1237,\n",
       " 1238,\n",
       " 1239,\n",
       " 1240,\n",
       " 1241,\n",
       " 1242,\n",
       " 1338,\n",
       " 1339,\n",
       " 1340,\n",
       " 1341,\n",
       " 1342,\n",
       " 1343,\n",
       " 1438,\n",
       " 1439,\n",
       " 1440,\n",
       " 1441,\n",
       " 1442,\n",
       " 1443,\n",
       " 1539,\n",
       " 1540,\n",
       " 1541,\n",
       " 1542,\n",
       " 1543,\n",
       " 1544,\n",
       " 1639,\n",
       " 1640,\n",
       " 1641,\n",
       " 1642,\n",
       " 1643,\n",
       " 1644,\n",
       " 1645,\n",
       " 1740,\n",
       " 1741,\n",
       " 1742,\n",
       " 1743,\n",
       " 1744,\n",
       " 1745,\n",
       " 1746,\n",
       " 1840,\n",
       " 1841,\n",
       " 1842,\n",
       " 1843,\n",
       " 1844,\n",
       " 1845,\n",
       " 1846,\n",
       " 1941,\n",
       " 1942,\n",
       " 1943,\n",
       " 1944,\n",
       " 1945,\n",
       " 1946,\n",
       " 1947,\n",
       " 2041,\n",
       " 2042,\n",
       " 2043,\n",
       " 2044,\n",
       " 2045,\n",
       " 2046,\n",
       " 2047,\n",
       " 2048,\n",
       " 2142,\n",
       " 2143,\n",
       " 2144,\n",
       " 2145,\n",
       " 2146,\n",
       " 2147,\n",
       " 2148,\n",
       " 2149,\n",
       " 2243,\n",
       " 2244,\n",
       " 2245,\n",
       " 2246,\n",
       " 2247,\n",
       " 2248,\n",
       " 2249,\n",
       " 2250,\n",
       " 2343,\n",
       " 2344,\n",
       " 2345,\n",
       " 2346,\n",
       " 2347,\n",
       " 2348,\n",
       " 2349,\n",
       " 2350,\n",
       " 2351,\n",
       " 2352,\n",
       " 2444,\n",
       " 2445,\n",
       " 2446,\n",
       " 2447,\n",
       " 2448,\n",
       " 2449,\n",
       " 2450,\n",
       " 2451,\n",
       " 2452,\n",
       " 2453]"
      ]
     },
     "execution_count": 50,
     "metadata": {},
     "output_type": "execute_result"
    }
   ],
   "source": [
    "numberindeces"
   ]
  },
  {
   "cell_type": "code",
   "execution_count": 51,
   "id": "c90f30e0",
   "metadata": {},
   "outputs": [
    {
     "data": {
      "text/plain": [
       "array([0.05, 0.07, 0.09, ..., 1.99, 2.01, 2.03])"
      ]
     },
     "execution_count": 51,
     "metadata": {},
     "output_type": "execute_result"
    }
   ],
   "source": [
    "mass1"
   ]
  },
  {
   "cell_type": "code",
   "execution_count": 52,
   "id": "010be082",
   "metadata": {},
   "outputs": [],
   "source": [
    "x=[]\n",
    "y=[]\n",
    "for i in range(len(numberindeces)):\n",
    "    x.append(mass1[numberindeces[i]])\n",
    "    y.append(massepsilondark[numberindeces[i]])"
   ]
  },
  {
   "cell_type": "code",
   "execution_count": 53,
   "id": "3f10f187",
   "metadata": {},
   "outputs": [],
   "source": [
    "x.sort()\n",
    "y.sort()"
   ]
  },
  {
   "cell_type": "code",
   "execution_count": 54,
   "id": "cf9e9762",
   "metadata": {},
   "outputs": [
    {
     "data": {
      "text/plain": [
       "[0.25,\n",
       " 0.27,\n",
       " 0.29,\n",
       " 0.7300000000000001,\n",
       " 0.7300000000000001,\n",
       " 0.7500000000000001,\n",
       " 0.7500000000000001,\n",
       " 0.7500000000000001,\n",
       " 0.7500000000000001,\n",
       " 0.7500000000000001,\n",
       " 0.7500000000000001,\n",
       " 0.7500000000000001,\n",
       " 0.77,\n",
       " 0.77,\n",
       " 0.77,\n",
       " 0.77,\n",
       " 0.77,\n",
       " 0.77,\n",
       " 0.77,\n",
       " 0.77,\n",
       " 0.77,\n",
       " 0.77,\n",
       " 0.79,\n",
       " 0.79,\n",
       " 0.79,\n",
       " 0.79,\n",
       " 0.79,\n",
       " 0.79,\n",
       " 0.79,\n",
       " 0.79,\n",
       " 0.79,\n",
       " 0.79,\n",
       " 0.79,\n",
       " 0.79,\n",
       " 0.81,\n",
       " 0.81,\n",
       " 0.81,\n",
       " 0.81,\n",
       " 0.81,\n",
       " 0.81,\n",
       " 0.81,\n",
       " 0.81,\n",
       " 0.81,\n",
       " 0.81,\n",
       " 0.81,\n",
       " 0.8300000000000001,\n",
       " 0.8300000000000001,\n",
       " 0.8300000000000001,\n",
       " 0.8300000000000001,\n",
       " 0.8300000000000001,\n",
       " 0.8300000000000001,\n",
       " 0.8300000000000001,\n",
       " 0.8300000000000001,\n",
       " 0.8300000000000001,\n",
       " 0.8300000000000001,\n",
       " 0.8300000000000001,\n",
       " 0.8500000000000001,\n",
       " 0.8500000000000001,\n",
       " 0.8500000000000001,\n",
       " 0.8500000000000001,\n",
       " 0.8500000000000001,\n",
       " 0.8500000000000001,\n",
       " 0.8500000000000001,\n",
       " 0.8500000000000001,\n",
       " 0.8500000000000001,\n",
       " 0.8500000000000001,\n",
       " 0.8500000000000001,\n",
       " 0.8700000000000001,\n",
       " 0.8700000000000001,\n",
       " 0.8700000000000001,\n",
       " 0.8700000000000001,\n",
       " 0.8700000000000001,\n",
       " 0.8700000000000001,\n",
       " 0.8700000000000001,\n",
       " 0.8700000000000001,\n",
       " 0.8700000000000001,\n",
       " 0.8700000000000001,\n",
       " 0.8700000000000001,\n",
       " 0.89,\n",
       " 0.89,\n",
       " 0.89,\n",
       " 0.89,\n",
       " 0.89,\n",
       " 0.89,\n",
       " 0.89,\n",
       " 0.89,\n",
       " 0.89,\n",
       " 0.89,\n",
       " 0.91,\n",
       " 0.91,\n",
       " 0.91,\n",
       " 0.91,\n",
       " 0.91,\n",
       " 0.91,\n",
       " 0.91,\n",
       " 0.91,\n",
       " 0.91,\n",
       " 0.91,\n",
       " 0.91,\n",
       " 0.93,\n",
       " 0.93,\n",
       " 0.93,\n",
       " 0.93,\n",
       " 0.93,\n",
       " 0.93,\n",
       " 0.93,\n",
       " 0.93,\n",
       " 0.93,\n",
       " 0.93,\n",
       " 0.9500000000000001,\n",
       " 0.9500000000000001,\n",
       " 0.9500000000000001,\n",
       " 0.9500000000000001,\n",
       " 0.9500000000000001,\n",
       " 0.9500000000000001,\n",
       " 0.9500000000000001,\n",
       " 0.9500000000000001,\n",
       " 0.9500000000000001,\n",
       " 0.9700000000000001,\n",
       " 0.9700000000000001,\n",
       " 0.9700000000000001,\n",
       " 0.9700000000000001,\n",
       " 0.9700000000000001,\n",
       " 0.9700000000000001,\n",
       " 0.9700000000000001,\n",
       " 0.9700000000000001,\n",
       " 0.9900000000000001,\n",
       " 0.9900000000000001,\n",
       " 0.9900000000000001,\n",
       " 0.9900000000000001,\n",
       " 0.9900000000000001,\n",
       " 0.9900000000000001,\n",
       " 1.01,\n",
       " 1.01,\n",
       " 1.01,\n",
       " 1.01,\n",
       " 1.01,\n",
       " 1.03,\n",
       " 1.03,\n",
       " 1.03,\n",
       " 1.03,\n",
       " 1.05,\n",
       " 1.05,\n",
       " 1.05,\n",
       " 1.07,\n",
       " 1.07,\n",
       " 1.09,\n",
       " 1.09,\n",
       " 1.11]"
      ]
     },
     "execution_count": 54,
     "metadata": {},
     "output_type": "execute_result"
    }
   ],
   "source": [
    "x"
   ]
  },
  {
   "cell_type": "code",
   "execution_count": 55,
   "id": "6fd7c099",
   "metadata": {},
   "outputs": [
    {
     "data": {
      "image/png": "[encoded data removed]",
      "text/plain": [
       "<Figure size 640x480 with 1 Axes>"
      ]
     },
     "metadata": {},
     "output_type": "display_data"
    }
   ],
   "source": [
    "plt.scatter(x, y, label='Relic density',color = \"black\")\n",
    "plt.title(r'Thermal iDM,  $\\delta= 0.3m_1$,  $m_{Z^i}=3m_1$,  $\\alpha_D=0.39$,  $Y_\\chi=0.005$,  $m_\\phi=1$ GeV')\n",
    "plt.xlabel('$m_1$')\n",
    "plt.ylabel('$\\epsilon_D$')\n",
    "plt.xscale('log')\n",
    "plt.yscale('log')\n",
    "plt.legend()\n",
    "plt.grid(which='major')\n",
    "plt.grid(which='minor', axis='y',linestyle='--')\n",
    "plt.show()"
   ]
  },
  {
   "cell_type": "code",
   "execution_count": null,
   "id": "e177fccc",
   "metadata": {},
   "outputs": [],
   "source": []
  },
  {
   "cell_type": "code",
   "execution_count": null,
   "id": "c17090dd",
   "metadata": {},
   "outputs": [],
   "source": []
  }
 ],
 "metadata": {
  "kernelspec": {
   "display_name": "Python 3 (ipykernel)",
   "language": "python",
   "name": "python3"
  },
  "language_info": {
   "codemirror_mode": {
    "name": "ipython",
    "version": 3
   },
   "file_extension": ".py",
   "mimetype": "text/x-python",
   "name": "python",
   "nbconvert_exporter": "python",
   "pygments_lexer": "ipython3",
   "version": "3.9.7"
  }
 },
 "nbformat": 4,
 "nbformat_minor": 5
}
