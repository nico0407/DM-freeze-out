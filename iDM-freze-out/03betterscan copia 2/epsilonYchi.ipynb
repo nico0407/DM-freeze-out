{
 "cells": [
  {
   "cell_type": "code",
   "execution_count": 25,
   "id": "99345948",
   "metadata": {},
   "outputs": [],
   "source": [
    "import numpy as np\n",
    "import pandas as pd\n",
    "import matplotlib.pyplot as plt"
   ]
  },
  {
   "cell_type": "code",
   "execution_count": 4,
   "id": "7b5f78ce",
   "metadata": {},
   "outputs": [],
   "source": [
    "m1variation=[]\n",
    "mS0=[]\n",
    "gX=[]\n",
    "epsilondark=[]\n",
    "lambdaphih=[]\n",
    "Ychi=[]\n",
    "m1=0.7"
   ]
  },
  {
   "cell_type": "code",
   "execution_count": 5,
   "id": "8ce8e322",
   "metadata": {},
   "outputs": [],
   "source": [
    "for i in range(100):\n",
    "    m1variation.append(m1+(0.04*i))\n",
    "    mS0.append(1)\n",
    "    gX.append(2.213)\n",
    "    epsilondark.append(0.0001+i*0.0001)\n",
    "    #lambdaphih.append(0.00000045)\n",
    "    lambdaphih.append('{:.10f}'.format(0.00000045))\n",
    "    Ychi.append(0.005)"
   ]
  },
  {
   "cell_type": "code",
   "execution_count": 6,
   "id": "b9c67a9b",
   "metadata": {},
   "outputs": [],
   "source": [
    "m1step=np.array(m1variation)\n",
    "mS0step=np.array(mS0)\n",
    "gXstep=np.array(gX)\n",
    "epsilondarkstep=np.array(epsilondark)\n",
    "lambdaphihstep=np.array(lambdaphih)\n",
    "Ychistep=np.array(Ychi)"
   ]
  },
  {
   "cell_type": "code",
   "execution_count": 7,
   "id": "760475f2",
   "metadata": {},
   "outputs": [],
   "source": [
    "mX0=3*m1step\n",
    "m2=m1step + m1step*0.3"
   ]
  },
  {
   "cell_type": "code",
   "execution_count": 8,
   "id": "24f63c85",
   "metadata": {},
   "outputs": [],
   "source": [
    "# Open the file in write mode\n",
    "with open(\"database.txt\", \"w\") as file:\n",
    "    for i in range(100):\n",
    "        for j in range(100):\n",
    "            file.write(str(mX0[j]) + \" \" + str(m1step[j]) + \" \" + str(m2[j]) + \" \" + str(mS0step[i]) + \" \" + str(gXstep[i]) + \" \" + str(epsilondarkstep[i]) + \" \" + str(lambdaphihstep[i]) + \" \" + str(Ychistep[i]) + \"\\n\")\n",
    "        \n",
    "        "
   ]
  },
  {
   "cell_type": "code",
   "execution_count": null,
   "id": "2136e757",
   "metadata": {},
   "outputs": [],
   "source": []
  },
  {
   "cell_type": "code",
   "execution_count": null,
   "id": "5fd47159",
   "metadata": {},
   "outputs": [],
   "source": []
  },
  {
   "cell_type": "code",
   "execution_count": 26,
   "id": "b57261b6",
   "metadata": {},
   "outputs": [],
   "source": [
    "mass_zeta, mass1, mass2, massS0, massgX, massepsilondark, masslambdaphih, massYchi, Omega = np.loadtxt('data_out', delimiter=' ', unpack=True)\n"
   ]
  },
  {
   "cell_type": "code",
   "execution_count": 27,
   "id": "88c6b000",
   "metadata": {},
   "outputs": [],
   "source": [
    "numberindeces=[]"
   ]
  },
  {
   "cell_type": "code",
   "execution_count": 28,
   "id": "53a8b8c4",
   "metadata": {},
   "outputs": [
    {
     "data": {
      "text/plain": [
       "0.171662"
      ]
     },
     "execution_count": 28,
     "metadata": {},
     "output_type": "execute_result"
    }
   ],
   "source": [
    "Omega[3]"
   ]
  },
  {
   "cell_type": "code",
   "execution_count": 29,
   "id": "4adee4d1",
   "metadata": {},
   "outputs": [],
   "source": [
    "for i in range(10000):\n",
    "    if Omega[i]>0.11 and Omega[i] < 0.13:\n",
    "        numberindeces.append(i)"
   ]
  },
  {
   "cell_type": "code",
   "execution_count": 30,
   "id": "428223fe",
   "metadata": {},
   "outputs": [
    {
     "data": {
      "text/plain": [
       "[1,\n",
       " 51,\n",
       " 101,\n",
       " 151,\n",
       " 201,\n",
       " 251,\n",
       " 402,\n",
       " 452,\n",
       " 502,\n",
       " 552,\n",
       " 602,\n",
       " 652,\n",
       " 702,\n",
       " 703,\n",
       " 753,\n",
       " 803,\n",
       " 853,\n",
       " 903,\n",
       " 904,\n",
       " 953,\n",
       " 954,\n",
       " 1004,\n",
       " 1054,\n",
       " 1104,\n",
       " 1105,\n",
       " 1154,\n",
       " 1155,\n",
       " 1205,\n",
       " 1255,\n",
       " 1256,\n",
       " 1305,\n",
       " 1306,\n",
       " 1356,\n",
       " 1357,\n",
       " 1406,\n",
       " 1407,\n",
       " 1456,\n",
       " 1457,\n",
       " 1458,\n",
       " 1507,\n",
       " 1508,\n",
       " 1557,\n",
       " 1558,\n",
       " 1559,\n",
       " 1608,\n",
       " 1609,\n",
       " 1658,\n",
       " 1659,\n",
       " 1660,\n",
       " 1708,\n",
       " 1709,\n",
       " 1710,\n",
       " 1711,\n",
       " 1759,\n",
       " 1760,\n",
       " 1761,\n",
       " 1809,\n",
       " 1810,\n",
       " 1811,\n",
       " 1812,\n",
       " 1860,\n",
       " 1861,\n",
       " 1862,\n",
       " 1911,\n",
       " 1912,\n",
       " 1913,\n",
       " 1961,\n",
       " 1962,\n",
       " 1963,\n",
       " 1964,\n",
       " 2012,\n",
       " 2013,\n",
       " 2014,\n",
       " 2062,\n",
       " 2063,\n",
       " 2064,\n",
       " 2065,\n",
       " 2113,\n",
       " 2114,\n",
       " 2115,\n",
       " 2163,\n",
       " 2164,\n",
       " 2165,\n",
       " 2166,\n",
       " 2214,\n",
       " 2215,\n",
       " 2216,\n",
       " 2217,\n",
       " 2265,\n",
       " 2266,\n",
       " 2267,\n",
       " 2315,\n",
       " 2316,\n",
       " 2317,\n",
       " 2318,\n",
       " 2366,\n",
       " 2367,\n",
       " 2368,\n",
       " 2416,\n",
       " 2417,\n",
       " 2418,\n",
       " 2419,\n",
       " 2467,\n",
       " 2468,\n",
       " 2469,\n",
       " 2470]"
      ]
     },
     "execution_count": 30,
     "metadata": {},
     "output_type": "execute_result"
    }
   ],
   "source": [
    "numberindeces"
   ]
  },
  {
   "cell_type": "code",
   "execution_count": 31,
   "id": "46a451fb",
   "metadata": {},
   "outputs": [
    {
     "name": "stdout",
     "output_type": "stream",
     "text": [
      "[0.7  0.74 0.78 ... 2.66 2.66 2.66]\n"
     ]
    }
   ],
   "source": [
    "print(mass1)"
   ]
  },
  {
   "cell_type": "code",
   "execution_count": 32,
   "id": "02428d37",
   "metadata": {},
   "outputs": [
    {
     "data": {
      "text/plain": [
       "0.0001"
      ]
     },
     "execution_count": 32,
     "metadata": {},
     "output_type": "execute_result"
    }
   ],
   "source": [
    "massepsilondark[2]"
   ]
  },
  {
   "cell_type": "code",
   "execution_count": 33,
   "id": "010be082",
   "metadata": {},
   "outputs": [],
   "source": [
    "x=[]\n",
    "y=[]\n",
    "for i in range(len(numberindeces)):\n",
    "    x.append(mass1[numberindeces[i]])\n",
    "    y.append(massepsilondark[numberindeces[i]])"
   ]
  },
  {
   "cell_type": "code",
   "execution_count": 34,
   "id": "3f10f187",
   "metadata": {},
   "outputs": [],
   "source": [
    "x.sort()\n",
    "y.sort()"
   ]
  },
  {
   "cell_type": "code",
   "execution_count": 35,
   "id": "cf9e9762",
   "metadata": {},
   "outputs": [
    {
     "data": {
      "text/plain": [
       "[0.74,\n",
       " 0.74,\n",
       " 0.74,\n",
       " 0.74,\n",
       " 0.74,\n",
       " 0.74,\n",
       " 0.7799999999999999,\n",
       " 0.7799999999999999,\n",
       " 0.7799999999999999,\n",
       " 0.7799999999999999,\n",
       " 0.7799999999999999,\n",
       " 0.7799999999999999,\n",
       " 0.7799999999999999,\n",
       " 0.82,\n",
       " 0.82,\n",
       " 0.82,\n",
       " 0.82,\n",
       " 0.82,\n",
       " 0.82,\n",
       " 0.86,\n",
       " 0.86,\n",
       " 0.86,\n",
       " 0.86,\n",
       " 0.86,\n",
       " 0.86,\n",
       " 0.8999999999999999,\n",
       " 0.8999999999999999,\n",
       " 0.8999999999999999,\n",
       " 0.8999999999999999,\n",
       " 0.8999999999999999,\n",
       " 0.94,\n",
       " 0.94,\n",
       " 0.94,\n",
       " 0.94,\n",
       " 0.94,\n",
       " 0.98,\n",
       " 0.98,\n",
       " 0.98,\n",
       " 0.98,\n",
       " 0.98,\n",
       " 1.02,\n",
       " 1.02,\n",
       " 1.02,\n",
       " 1.02,\n",
       " 1.02,\n",
       " 1.02,\n",
       " 1.06,\n",
       " 1.06,\n",
       " 1.06,\n",
       " 1.06,\n",
       " 1.06,\n",
       " 1.06,\n",
       " 1.1,\n",
       " 1.1,\n",
       " 1.1,\n",
       " 1.1,\n",
       " 1.1,\n",
       " 1.14,\n",
       " 1.14,\n",
       " 1.14,\n",
       " 1.14,\n",
       " 1.14,\n",
       " 1.14,\n",
       " 1.18,\n",
       " 1.18,\n",
       " 1.18,\n",
       " 1.18,\n",
       " 1.18,\n",
       " 1.18,\n",
       " 1.22,\n",
       " 1.22,\n",
       " 1.22,\n",
       " 1.22,\n",
       " 1.22,\n",
       " 1.22,\n",
       " 1.26,\n",
       " 1.26,\n",
       " 1.26,\n",
       " 1.26,\n",
       " 1.26,\n",
       " 1.26,\n",
       " 1.2999999999999998,\n",
       " 1.2999999999999998,\n",
       " 1.2999999999999998,\n",
       " 1.2999999999999998,\n",
       " 1.2999999999999998,\n",
       " 1.2999999999999998,\n",
       " 1.3399999999999999,\n",
       " 1.3399999999999999,\n",
       " 1.3399999999999999,\n",
       " 1.3399999999999999,\n",
       " 1.3399999999999999,\n",
       " 1.3399999999999999,\n",
       " 1.38,\n",
       " 1.38,\n",
       " 1.38,\n",
       " 1.38,\n",
       " 1.38,\n",
       " 1.38,\n",
       " 1.42,\n",
       " 1.42,\n",
       " 1.42,\n",
       " 1.42,\n",
       " 1.46,\n",
       " 1.46,\n",
       " 1.5]"
      ]
     },
     "execution_count": 35,
     "metadata": {},
     "output_type": "execute_result"
    }
   ],
   "source": [
    "x"
   ]
  },
  {
   "cell_type": "code",
   "execution_count": 36,
   "id": "6fd7c099",
   "metadata": {},
   "outputs": [
    {
     "data": {
      "image/png": "[encoded data removed]",
      "text/plain": [
       "<Figure size 640x480 with 1 Axes>"
      ]
     },
     "metadata": {},
     "output_type": "display_data"
    }
   ],
   "source": [
    "plt.scatter(x, y, label='Relic density',color = \"black\")\n",
    "plt.title(r'Thermal iDM,  $\\delta= 0.3m_1$,  $m_{Z^i}=3m_1$,  $\\alpha_D=0.39$,  $Y_\\chi=0.005$,  $m_\\phi=1$ GeV')\n",
    "plt.xlabel('$m_1$')\n",
    "plt.ylabel('$\\epsilon_D$')\n",
    "plt.xscale('log')\n",
    "plt.yscale('log')\n",
    "plt.legend()\n",
    "plt.grid(which='major')\n",
    "plt.grid(which='minor', axis='y',linestyle='--')\n",
    "plt.show()"
   ]
  },
  {
   "cell_type": "code",
   "execution_count": null,
   "id": "e177fccc",
   "metadata": {},
   "outputs": [],
   "source": []
  },
  {
   "cell_type": "code",
   "execution_count": null,
   "id": "c60def7c",
   "metadata": {},
   "outputs": [],
   "source": []
  }
 ],
 "metadata": {
  "kernelspec": {
   "display_name": "Python 3 (ipykernel)",
   "language": "python",
   "name": "python3"
  },
  "language_info": {
   "codemirror_mode": {
    "name": "ipython",
    "version": 3
   },
   "file_extension": ".py",
   "mimetype": "text/x-python",
   "name": "python",
   "nbconvert_exporter": "python",
   "pygments_lexer": "ipython3",
   "version": "3.9.7"
  }
 },
 "nbformat": 4,
 "nbformat_minor": 5
}
