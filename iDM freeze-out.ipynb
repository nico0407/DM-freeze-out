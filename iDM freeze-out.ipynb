{
 "cells": [
  {
   "cell_type": "code",
   "execution_count": 1,
   "id": "72920405",
   "metadata": {},
   "outputs": [],
   "source": [
    "import numpy as np\n",
    "import scipy as sp\n",
    "from scipy import special\n",
    "import matplotlib.pyplot as plt\n",
    "\n",
    "from numpy import arange\n",
    "from scipy.integrate import odeint\n",
    "from scipy import optimize\n",
    "from scipy import misc"
   ]
  },
  {
   "cell_type": "code",
   "execution_count": 2,
   "id": "e7c4bdaa",
   "metadata": {},
   "outputs": [],
   "source": [
    "# parameters\n",
    "m = 100                               #GeV DM Mass\n",
    "Mp = 1.22e19                            #GeV Planck Mass"
   ]
  },
  {
   "cell_type": "code",
   "execution_count": 3,
   "id": "187517a1",
   "metadata": {},
   "outputs": [],
   "source": [
    "from scipy import integrate\n",
    "\n",
    "# The function \"integrate.odeint\" Integrate a system of ordinary differential equations.\n",
    "\n",
    "#DESCRIPTION\n",
    "# scipy.integrate.odeint(func, y0, t, args=(), Dfun=None, col_deriv=0, full_output=0, ml=None, mu=None, \n",
    "# rtol=None, atol=None, tcrit=None, h0=0.0, hmax=0.0, hmin=0.0, ixpr=0, mxstep=0, mxhnil=0, mxordn=12, \n",
    "# mxords=5, printmessg=0, tfirst=False)\n",
    "\n",
    "# func : callable(y, t, …) or callable(t, y, …)\n",
    "# Computes the derivative of y at t. If the signature is callable(t, y, ...), \n",
    "# then the argument tfirst must be set True.\n",
    "\n",
    "# y0 : array\n",
    "# Initial condition on y (can be a vector).\n",
    "\n",
    "# t :array\n",
    "# A sequence of time points for which to solve for y. The initial value point should be the first element of this\n",
    "#sequence. This sequence must be monotonically increasing or monotonically decreasing; repeated values are allowed.\n",
    "\n",
    "#************\n",
    "# So basically the first parameter is the function to integrate, dY/dx in our case, the second argument is \n",
    "# the starting point, and the third is the variable you want to integrate into.\n",
    "#************"
   ]
  },
  {
   "cell_type": "code",
   "execution_count": 4,
   "id": "602cde95",
   "metadata": {},
   "outputs": [],
   "source": [
    "def Yeq(x):\n",
    "    return 0.145*x**(3/2)*np.exp(-x)"
   ]
  },
  {
   "cell_type": "code",
   "execution_count": 5,
   "id": "c10f616f",
   "metadata": {},
   "outputs": [],
   "source": [
    "global k\n",
    "k=1\n",
    "fk=lambda sigmav: np.sqrt(np.pi*(Mp**2)/45)*m*sigmav  #starting to build the dY/dx\n",
    "\n",
    "def BEx(x,m=100):\n",
    "    #T=m/x\n",
    "    return k/x**2   #missing piece of the formula g_good(T)."
   ]
  },
  {
   "cell_type": "code",
   "execution_count": 6,
   "id": "b1b5fd7d",
   "metadata": {},
   "outputs": [],
   "source": [
    "def BE(Y,x):\n",
    "    return -(Y**2-Yeq(x)**2)*BEx(x)   #putting together the things to have the right formula\n",
    "\n",
    "#THESE FUNCTIONS HAVE BEEN CREATED TO ACHIVE THE COMPLETE FORMULA FOR THE dY/dx"
   ]
  },
  {
   "cell_type": "code",
   "execution_count": 7,
   "id": "a46d926d",
   "metadata": {},
   "outputs": [],
   "source": [
    "def BE1(poi,x):\n",
    "    Y2, Y1=poi\n",
    "    return [-(Y1*Y2-Yeq(x)**2)*BEx(x)-BEx(x)*(Y1**2-Yeq(x)**2)*1E-3, -(Y1*Y2-Yeq(x)**2)*BEx(x)+BEx(x)*(Y2**2-Yeq(x)**2)*1E-10 ] \n",
    "\n",
    "#There should be Yeq1 e Yeq2 but I don't know how to express them\n",
    "#also the cross sections need to be different one from the other in principle.."
   ]
  },
  {
   "cell_type": "code",
   "execution_count": 8,
   "id": "fa7a5669",
   "metadata": {},
   "outputs": [
    {
     "name": "stderr",
     "output_type": "stream",
     "text": [
      "No handles with labels found to put in legend.\n"
     ]
    },
    {
     "data": {
      "image/png": "[encoded data removed]",
      "text/plain": [
       "<Figure size 432x288 with 1 Axes>"
      ]
     },
     "metadata": {
      "needs_background": "light"
     },
     "output_type": "display_data"
    }
   ],
   "source": [
    "#USEFUL EXAMPLE\n",
    "\n",
    "def func(z,t):\n",
    "    o, q=z\n",
    "    #print (t,z)\n",
    "    return [6*q, (2*t-3*o)*q/(4*q**2+1e-12)]    \n",
    "\n",
    "z0=[1,2]\n",
    "t = np.linspace(0,1,501)\n",
    "xx=odeint(func, z0, t)\n",
    "plt.figure(1)\n",
    "plt.plot(t, xx[:,0],t,xx[:,1])\n",
    "plt.legend()\n",
    "plt.show()"
   ]
  },
  {
   "cell_type": "markdown",
   "id": "edb68383",
   "metadata": {},
   "source": [
    "$$ \\frac{dY_{1,2}}{dx} = - \\frac{\\lambda_A}{x^2} \\Big[ Y_1 Y_2 - Y_1^{(0)}Y_2^{(0)} \\Big] \\pm x \\lambda_D \\Big( Y_2- \\frac{Y_2^{(0)}}{Y_1^{(0)}}Y_1 \\Big) \\pm \\frac{\\lambda_S}{x^2}Y_f^{(0)} \\Big( Y_2- \\frac{Y_2^{(0)}}{Y_1^{(0)}}Y_1 \\Big) $$\n",
    "Let's try at the beginning to consider just the first two terms"
   ]
  },
  {
   "cell_type": "code",
   "execution_count": 9,
   "id": "44c14080",
   "metadata": {},
   "outputs": [],
   "source": [
    "def BEx2(x,m=100):\n",
    "    #T=m/x\n",
    "    return k*x"
   ]
  },
  {
   "cell_type": "code",
   "execution_count": 22,
   "id": "ae9dd4e9",
   "metadata": {},
   "outputs": [],
   "source": [
    "def BE2(poi,x):\n",
    "    Y2, Y1=poi\n",
    "    return [-(Y1*Y2-Yeq(x)**2)*BEx(x)+BEx2(x)*(Y2 - Y1)*0.0001, -(Y1*Y2-Yeq(x)**2)*BEx(x)-BEx2(x)*(Y2 -Y1)*0.0001 ]\n",
    "\n",
    "# HERE I SHOULD HAVE INSERT Y20 AND Y10 IN A DIFFERENT WAY BUT I HAVE TO FIGURE OUT HOW\n",
    "# ALSO THE CROSS SECTIONS (LAMBDAS) MUST BE DIFFERENT!!"
   ]
  },
  {
   "cell_type": "code",
   "execution_count": 26,
   "id": "8c44fa4c",
   "metadata": {},
   "outputs": [
    {
     "data": {
      "image/png": "[encoded data removed]",
      "text/plain": [
       "<Figure size 432x288 with 1 Axes>"
      ]
     },
     "metadata": {
      "needs_background": "light"
     },
     "output_type": "display_data"
    }
   ],
   "source": [
    "xx=np.logspace(np.log10(1),np.log10(1000),1000)\n",
    "plt.loglog(xx,Yeq(xx),'m',label=r'$Y_{\\rm eq}$')\n",
    "\n",
    "\n",
    "k=fk(sigmav=1E-12)       # AFTER 1E-12 EXPLODES\n",
    "x=np.logspace(np.log10(1),np.log10(1000),10000)\n",
    "z0=[Yeq(x[0]), Yeq(x[0])]\n",
    "\n",
    "Y=integrate.odeint(BE2, z0, x)\n",
    "#plt.loglog(x,Y,'k:')\n",
    "\n",
    "plt.plot(x, Y[:,0],x,Y[:,1])\n",
    "\n",
    "\n",
    "plt.hlines(1E-11,1,1000,linestyles='-',color='g',lw=2,label='$Y_0$')    #THAT'S THE HORIZONTAL LINE IN PURPLE. \n",
    "                                                                #REFERS TO THE RIGHT EXPERIMENTAL ABOUNDANCE\n",
    "\n",
    "\n",
    "plt.ylim(1E-14,1)\n",
    "plt.xlim(1,1000)\n",
    "plt.xlabel('$x = m/T$', size= 15)\n",
    "plt.ylabel('$Y$', size= 15)\n",
    "plt.title('$m = 100$ GeV', size= 15)\n",
    "plt.legend()\n",
    "plt.grid()\n"
   ]
  },
  {
   "cell_type": "code",
   "execution_count": null,
   "id": "bf679de3",
   "metadata": {},
   "outputs": [],
   "source": []
  },
  {
   "cell_type": "code",
   "execution_count": null,
   "id": "45903eee",
   "metadata": {},
   "outputs": [],
   "source": []
  },
  {
   "cell_type": "code",
   "execution_count": null,
   "id": "bf749355",
   "metadata": {},
   "outputs": [],
   "source": []
  },
  {
   "cell_type": "markdown",
   "id": "a8179276",
   "metadata": {},
   "source": [
    "$$ \\frac{dY_{1,2}}{dx} = - \\frac{\\lambda_A^{12}}{x^2} \\Big[ Y_1 Y_2 - Y_1^{(0)}Y_2^{(0)} \\Big] -\\frac{\\lambda_A^{11,22}}{x^2} \\Big[ Y_{1,2}^2 -(Y_{1,2}^0)^2 \\Big] +[...] $$ Plus other therms, but now let's keep it easy"
   ]
  },
  {
   "cell_type": "code",
   "execution_count": 10,
   "id": "8b2e7008",
   "metadata": {},
   "outputs": [
    {
     "data": {
      "image/png": "[encoded data removed]",
      "text/plain": [
       "<Figure size 432x288 with 1 Axes>"
      ]
     },
     "metadata": {
      "needs_background": "light"
     },
     "output_type": "display_data"
    }
   ],
   "source": [
    "xx=np.logspace(np.log10(1),np.log10(1000),1000)\n",
    "plt.loglog(xx,Yeq(xx),'m',label=r'$Y_{\\rm eq}$')\n",
    "\n",
    "\n",
    "k=fk(sigmav=1E-15)\n",
    "x=np.logspace(np.log10(1),np.log10(1000),10000)\n",
    "z0=[Yeq(x[0]), Yeq(x[0])]\n",
    "\n",
    "Y=integrate.odeint(BE1, z0, x)\n",
    "#plt.loglog(x,Y,'k:')\n",
    "\n",
    "plt.plot(x, Y[:,0],x,Y[:,1])\n",
    "\n",
    "\n",
    "plt.hlines(1E-11,1,1000,linestyles='-',color='g',lw=2,label='$Y_0$')    #THAT'S THE HORIZONTAL LINE IN PURPLE. \n",
    "                                                                #REFERS TO THE RIGHT EXPERIMENTAL ABOUNDANCE\n",
    "\n",
    "\n",
    "plt.ylim(1E-14,1)\n",
    "plt.xlim(1,1000)\n",
    "plt.xlabel('$x = m/T$', size= 15)\n",
    "plt.ylabel('$Y$', size= 15)\n",
    "plt.title('$m = 100$ GeV', size= 15)\n",
    "plt.legend()\n",
    "plt.grid()\n",
    "\n",
    "#Okay, this program is actually solving a system of two differential equations, but I gave him the same two, so\n",
    "#they are actually one over the other."
   ]
  },
  {
   "cell_type": "markdown",
   "id": "7df24bc9",
   "metadata": {},
   "source": [
    "$$\\frac{dY_{tot}}{dx}= - \\Big[ \\frac{Y_{tot}^2}{(Y_1^{(0)}+ Y_2^{(0)})^2}-1 \\Big] \\sum_{i,j} \\frac{\\lambda_A^{ij}}{x^2}Y_i^{(0)}Y_j^{(0)}$$"
   ]
  },
  {
   "cell_type": "code",
   "execution_count": 11,
   "id": "b6474105",
   "metadata": {},
   "outputs": [],
   "source": [
    "def BEE(Y,x):\n",
    "    return -((Y**2/(Yeq(x)+Yeq(x))**2)-1)*(BEx(x)* (Yeq(x)**2)+BEx(x)* (Yeq(x)**2)*0.004)\n",
    "\n",
    "#Here you need to insert all the possible interactions and cross sections terms of the theory"
   ]
  },
  {
   "cell_type": "code",
   "execution_count": null,
   "id": "615514db",
   "metadata": {},
   "outputs": [],
   "source": []
  },
  {
   "cell_type": "code",
   "execution_count": 12,
   "id": "0b5ea0f5",
   "metadata": {},
   "outputs": [
    {
     "name": "stderr",
     "output_type": "stream",
     "text": [
      "/var/folders/w2/vjpbmwkj10s_w78j4p9hxlyh0000gn/T/ipykernel_771/3865916764.py:2: RuntimeWarning: divide by zero encountered in divide\n",
      "  return -((Y**2/(Yeq(x)+Yeq(x))**2)-1)*(BEx(x)* (Yeq(x)**2)+BEx(x)* (Yeq(x)**2)*0.004)\n",
      "/var/folders/w2/vjpbmwkj10s_w78j4p9hxlyh0000gn/T/ipykernel_771/3865916764.py:2: RuntimeWarning: invalid value encountered in multiply\n",
      "  return -((Y**2/(Yeq(x)+Yeq(x))**2)-1)*(BEx(x)* (Yeq(x)**2)+BEx(x)* (Yeq(x)**2)*0.004)\n",
      "/var/folders/w2/vjpbmwkj10s_w78j4p9hxlyh0000gn/T/ipykernel_771/3865916764.py:2: RuntimeWarning: divide by zero encountered in divide\n",
      "  return -((Y**2/(Yeq(x)+Yeq(x))**2)-1)*(BEx(x)* (Yeq(x)**2)+BEx(x)* (Yeq(x)**2)*0.004)\n",
      "/var/folders/w2/vjpbmwkj10s_w78j4p9hxlyh0000gn/T/ipykernel_771/3865916764.py:2: RuntimeWarning: invalid value encountered in multiply\n",
      "  return -((Y**2/(Yeq(x)+Yeq(x))**2)-1)*(BEx(x)* (Yeq(x)**2)+BEx(x)* (Yeq(x)**2)*0.004)\n",
      "/var/folders/w2/vjpbmwkj10s_w78j4p9hxlyh0000gn/T/ipykernel_771/3865916764.py:2: RuntimeWarning: divide by zero encountered in divide\n",
      "  return -((Y**2/(Yeq(x)+Yeq(x))**2)-1)*(BEx(x)* (Yeq(x)**2)+BEx(x)* (Yeq(x)**2)*0.004)\n",
      "/var/folders/w2/vjpbmwkj10s_w78j4p9hxlyh0000gn/T/ipykernel_771/3865916764.py:2: RuntimeWarning: invalid value encountered in multiply\n",
      "  return -((Y**2/(Yeq(x)+Yeq(x))**2)-1)*(BEx(x)* (Yeq(x)**2)+BEx(x)* (Yeq(x)**2)*0.004)\n"
     ]
    },
    {
     "data": {
      "image/png": "[encoded data removed]",
      "text/plain": [
       "<Figure size 432x288 with 1 Axes>"
      ]
     },
     "metadata": {
      "needs_background": "light"
     },
     "output_type": "display_data"
    }
   ],
   "source": [
    "xx=np.logspace(np.log10(1),np.log10(1000),1000)\n",
    "plt.loglog(xx,Yeq(xx),'m',label=r'$Y_{\\rm eq}$')\n",
    "\n",
    "\n",
    "\n",
    "k=fk(sigmav=1E-12)\n",
    "x=np.logspace(np.log10(1),np.log10(1000),10000)\n",
    "Y=integrate.odeint(BEE,Yeq(x[0]),x)\n",
    "plt.loglog(x,Y,'k:')\n",
    "\n",
    "k=fk(sigmav=1E-15)\n",
    "x=np.logspace(np.log10(1),np.log10(1000),10000)\n",
    "Y=integrate.odeint(BEE,Yeq(x[0]),x)\n",
    "plt.loglog(x,Y,'k:')\n",
    "\n",
    "k=fk(sigmav=1E-11)\n",
    "x=np.logspace(np.log10(1),np.log10(1000),10000)\n",
    "Y=integrate.odeint(BEE,Yeq(x[0]),x)\n",
    "plt.loglog(x,Y,'k:')\n",
    "\n",
    "\n",
    "plt.hlines(1E-11,1,1000,linestyles='-',color='g',lw=2,label='$Y_0$')    #THAT'S THE HORIZONTAL LINE IN PURPLE. \n",
    "                                                                #REFERS TO THE RIGHT EXPERIMENTAL ABOUNDANCE\n",
    "\n",
    "\n",
    "plt.ylim(1E-14,1)\n",
    "plt.xlim(1,1000)\n",
    "plt.xlabel('$x = m/T$', size= 15)\n",
    "plt.ylabel('$Y$', size= 15)\n",
    "plt.title('$m = 100$ GeV', size= 15)\n",
    "plt.legend()\n",
    "plt.grid()\n",
    "\n",
    "# x grows in time means that the temperature decrease"
   ]
  },
  {
   "cell_type": "code",
   "execution_count": 119,
   "id": "57eff489",
   "metadata": {},
   "outputs": [
    {
     "data": {
      "text/plain": [
       "array([   1.        ,    1.00069108,    1.00138264, ...,  998.61926487,\n",
       "        999.30939397, 1000.        ])"
      ]
     },
     "execution_count": 119,
     "metadata": {},
     "output_type": "execute_result"
    }
   ],
   "source": [
    "x\n"
   ]
  },
  {
   "cell_type": "code",
   "execution_count": null,
   "id": "44c40764",
   "metadata": {},
   "outputs": [],
   "source": []
  },
  {
   "cell_type": "code",
   "execution_count": null,
   "id": "4ed0f4d7",
   "metadata": {},
   "outputs": [],
   "source": []
  }
 ],
 "metadata": {
  "kernelspec": {
   "display_name": "Python 3 (ipykernel)",
   "language": "python",
   "name": "python3"
  },
  "language_info": {
   "codemirror_mode": {
    "name": "ipython",
    "version": 3
   },
   "file_extension": ".py",
   "mimetype": "text/x-python",
   "name": "python",
   "nbconvert_exporter": "python",
   "pygments_lexer": "ipython3",
   "version": "3.8.12"
  }
 },
 "nbformat": 4,
 "nbformat_minor": 5
}
