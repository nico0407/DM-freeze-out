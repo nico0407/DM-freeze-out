{
 "cells": [
  {
   "cell_type": "code",
   "execution_count": 1,
   "id": "a854d2df",
   "metadata": {},
   "outputs": [],
   "source": [
    "import numpy as np\n",
    "import scipy as sp\n",
    "from scipy import special\n",
    "import matplotlib.pyplot as plt\n",
    "\n",
    "from numpy import arange\n",
    "from scipy.integrate import odeint\n",
    "from scipy import optimize\n",
    "from scipy import misc"
   ]
  },
  {
   "cell_type": "code",
   "execution_count": 2,
   "id": "1f33a666",
   "metadata": {},
   "outputs": [],
   "source": [
    "# parameters\n",
    "m = 100                                #GeV Singlet Mass\n",
    "Mp = 1.22e19                            #GeV Planck Mass"
   ]
  },
  {
   "cell_type": "code",
   "execution_count": null,
   "id": "b8e263d4",
   "metadata": {},
   "outputs": [],
   "source": []
  },
  {
   "cell_type": "markdown",
   "id": "1d78bff4",
   "metadata": {},
   "source": [
    "## Here just playng with the particle number density, nothing importat"
   ]
  },
  {
   "cell_type": "code",
   "execution_count": 172,
   "id": "b7410dac",
   "metadata": {},
   "outputs": [],
   "source": [
    "x=np.linspace(2,4,100)\n",
    "s=np.sin(x)\n",
    "z=special.zeta(x)"
   ]
  },
  {
   "cell_type": "code",
   "execution_count": 173,
   "id": "c7e744bd",
   "metadata": {},
   "outputs": [
    {
     "data": {
      "text/plain": [
       "array([2.        , 2.02020202, 2.04040404, 2.06060606, 2.08080808,\n",
       "       2.1010101 , 2.12121212, 2.14141414, 2.16161616, 2.18181818,\n",
       "       2.2020202 , 2.22222222, 2.24242424, 2.26262626, 2.28282828,\n",
       "       2.3030303 , 2.32323232, 2.34343434, 2.36363636, 2.38383838,\n",
       "       2.4040404 , 2.42424242, 2.44444444, 2.46464646, 2.48484848,\n",
       "       2.50505051, 2.52525253, 2.54545455, 2.56565657, 2.58585859,\n",
       "       2.60606061, 2.62626263, 2.64646465, 2.66666667, 2.68686869,\n",
       "       2.70707071, 2.72727273, 2.74747475, 2.76767677, 2.78787879,\n",
       "       2.80808081, 2.82828283, 2.84848485, 2.86868687, 2.88888889,\n",
       "       2.90909091, 2.92929293, 2.94949495, 2.96969697, 2.98989899,\n",
       "       3.01010101, 3.03030303, 3.05050505, 3.07070707, 3.09090909,\n",
       "       3.11111111, 3.13131313, 3.15151515, 3.17171717, 3.19191919,\n",
       "       3.21212121, 3.23232323, 3.25252525, 3.27272727, 3.29292929,\n",
       "       3.31313131, 3.33333333, 3.35353535, 3.37373737, 3.39393939,\n",
       "       3.41414141, 3.43434343, 3.45454545, 3.47474747, 3.49494949,\n",
       "       3.51515152, 3.53535354, 3.55555556, 3.57575758, 3.5959596 ,\n",
       "       3.61616162, 3.63636364, 3.65656566, 3.67676768, 3.6969697 ,\n",
       "       3.71717172, 3.73737374, 3.75757576, 3.77777778, 3.7979798 ,\n",
       "       3.81818182, 3.83838384, 3.85858586, 3.87878788, 3.8989899 ,\n",
       "       3.91919192, 3.93939394, 3.95959596, 3.97979798, 4.        ])"
      ]
     },
     "execution_count": 173,
     "metadata": {},
     "output_type": "execute_result"
    }
   ],
   "source": [
    "x"
   ]
  },
  {
   "cell_type": "code",
   "execution_count": 174,
   "id": "56f52322",
   "metadata": {},
   "outputs": [],
   "source": [
    "T= np.linspace(400000,3200,200000)\n",
    "m=30"
   ]
  },
  {
   "cell_type": "code",
   "execution_count": 175,
   "id": "fa55f24a",
   "metadata": {},
   "outputs": [],
   "source": [
    "def n_no_g(m,T):\n",
    "    return ((m*T/(2*np.pi))**(3/2))* np.exp(-(m/T))\n",
    "\n",
    "#this is the number density of particles in a non relativistic limit without the g factor of the d.o.f."
   ]
  },
  {
   "cell_type": "code",
   "execution_count": 176,
   "id": "8309390e",
   "metadata": {},
   "outputs": [
    {
     "data": {
      "image/png": "[encoded data removed]",
      "text/plain": [
       "<Figure size 432x288 with 1 Axes>"
      ]
     },
     "metadata": {
      "needs_background": "light"
     },
     "output_type": "display_data"
    }
   ],
   "source": [
    "plt.plot(-T,n_no_g(m,T))\n",
    "plt.yscale('log')"
   ]
  },
  {
   "cell_type": "code",
   "execution_count": null,
   "id": "13971e21",
   "metadata": {},
   "outputs": [],
   "source": [
    "# okay it follow sthe right behaviour of the equilibrium of particles.\n",
    "\n",
    "#But also the massive particles had theyr period in which they obey at the radiation behaviour no?\n",
    "#And then starts to be a non radiative one (as the one just plotted), do we have to consider it?\n",
    "\n",
    "#TOMORROW TRY TO TAKE THE SECOND PART AND SEE IF YOU MANAGE TO REPRODUCE THE FREEZE-OUT MECHANISM."
   ]
  },
  {
   "cell_type": "code",
   "execution_count": null,
   "id": "ab8b89b8",
   "metadata": {},
   "outputs": [],
   "source": []
  },
  {
   "cell_type": "markdown",
   "id": "2873b007",
   "metadata": {},
   "source": [
    "## Trying to parametrize the relativistic degree of freedom"
   ]
  },
  {
   "cell_type": "code",
   "execution_count": 75,
   "id": "96f187c3",
   "metadata": {},
   "outputs": [],
   "source": [
    "import pandas as pd"
   ]
  },
  {
   "cell_type": "code",
   "execution_count": 92,
   "id": "0b3b9703",
   "metadata": {},
   "outputs": [],
   "source": [
    "dfg=pd.DataFrame([\n",
    "    {'T':0.05 *1E-3,'geff_to_half': np.sqrt(3.38)},     #I have insert this from the presentation\n",
    "    {'T':1E-3,'geff_to_half':np.sqrt(10.75)},\n",
    "    {'T':80*1E-3,'geff_to_half':np.sqrt(17.25)},\n",
    "    {'T':250*1E-3,'geff_to_half':np.sqrt(61.75)},\n",
    "    {'T':800*1E-3,'geff_to_half':np.sqrt(75.75)},\n",
    "    {'T':1,'geff_to_half':8.7},       # I leave it\n",
    "    {'T':10,'geff_to_half':np.sqrt(86.25)},\n",
    "    {'T':50,'geff_to_half':np.sqrt(96.25)},\n",
    "    {'T':100,'geff_to_half':10.2}      #I leave it too\n",
    "    ])\n",
    "#geff stands for g efficace"
   ]
  },
  {
   "cell_type": "code",
   "execution_count": 93,
   "id": "8d18e246",
   "metadata": {},
   "outputs": [
    {
     "data": {
      "text/html": [
       "<div>\n",
       "<style scoped>\n",
       "    .dataframe tbody tr th:only-of-type {\n",
       "        vertical-align: middle;\n",
       "    }\n",
       "\n",
       "    .dataframe tbody tr th {\n",
       "        vertical-align: top;\n",
       "    }\n",
       "\n",
       "    .dataframe thead th {\n",
       "        text-align: right;\n",
       "    }\n",
       "</style>\n",
       "<table border=\"1\" class=\"dataframe\">\n",
       "  <thead>\n",
       "    <tr style=\"text-align: right;\">\n",
       "      <th></th>\n",
       "      <th>T</th>\n",
       "      <th>geff_to_half</th>\n",
       "    </tr>\n",
       "  </thead>\n",
       "  <tbody>\n",
       "    <tr>\n",
       "      <th>0</th>\n",
       "      <td>0.00005</td>\n",
       "      <td>1.838478</td>\n",
       "    </tr>\n",
       "    <tr>\n",
       "      <th>1</th>\n",
       "      <td>0.00100</td>\n",
       "      <td>3.278719</td>\n",
       "    </tr>\n",
       "    <tr>\n",
       "      <th>2</th>\n",
       "      <td>0.08000</td>\n",
       "      <td>4.153312</td>\n",
       "    </tr>\n",
       "    <tr>\n",
       "      <th>3</th>\n",
       "      <td>0.25000</td>\n",
       "      <td>7.858117</td>\n",
       "    </tr>\n",
       "    <tr>\n",
       "      <th>4</th>\n",
       "      <td>0.80000</td>\n",
       "      <td>8.703448</td>\n",
       "    </tr>\n",
       "    <tr>\n",
       "      <th>5</th>\n",
       "      <td>1.00000</td>\n",
       "      <td>8.700000</td>\n",
       "    </tr>\n",
       "    <tr>\n",
       "      <th>6</th>\n",
       "      <td>10.00000</td>\n",
       "      <td>9.287088</td>\n",
       "    </tr>\n",
       "    <tr>\n",
       "      <th>7</th>\n",
       "      <td>50.00000</td>\n",
       "      <td>9.810708</td>\n",
       "    </tr>\n",
       "    <tr>\n",
       "      <th>8</th>\n",
       "      <td>100.00000</td>\n",
       "      <td>10.200000</td>\n",
       "    </tr>\n",
       "  </tbody>\n",
       "</table>\n",
       "</div>"
      ],
      "text/plain": [
       "           T  geff_to_half\n",
       "0    0.00005      1.838478\n",
       "1    0.00100      3.278719\n",
       "2    0.08000      4.153312\n",
       "3    0.25000      7.858117\n",
       "4    0.80000      8.703448\n",
       "5    1.00000      8.700000\n",
       "6   10.00000      9.287088\n",
       "7   50.00000      9.810708\n",
       "8  100.00000     10.200000"
      ]
     },
     "execution_count": 93,
     "metadata": {},
     "output_type": "execute_result"
    }
   ],
   "source": [
    "dfg"
   ]
  },
  {
   "cell_type": "code",
   "execution_count": 96,
   "id": "a020a7a0",
   "metadata": {},
   "outputs": [
    {
     "data": {
      "text/plain": [
       "0      0.00005\n",
       "1      0.00100\n",
       "2      0.08000\n",
       "3      0.25000\n",
       "4      0.80000\n",
       "5      1.00000\n",
       "6     10.00000\n",
       "7     50.00000\n",
       "8    100.00000\n",
       "Name: T, dtype: float64"
      ]
     },
     "execution_count": 96,
     "metadata": {},
     "output_type": "execute_result"
    }
   ],
   "source": [
    "dfg['T']"
   ]
  },
  {
   "cell_type": "code",
   "execution_count": 97,
   "id": "8838bfae",
   "metadata": {},
   "outputs": [],
   "source": [
    "from scipy import optimize"
   ]
  },
  {
   "cell_type": "code",
   "execution_count": 157,
   "id": "70996e7b",
   "metadata": {},
   "outputs": [],
   "source": [
    "#f=lambda T,a,b,c: a/(1+np.exp(-b*(T-c)))  ********(swith it off for a moment)\n",
    "\n",
    "def f(T,a,b,c,d,e,f): \n",
    "    return a/(1+np.exp(-b*(T-c)))+d+e+(f*T**2)\n",
    "\n",
    "#function that define the phase space....NO\n",
    "#what is it???\n",
    "#******"
   ]
  },
  {
   "cell_type": "code",
   "execution_count": 158,
   "id": "efb1edfd",
   "metadata": {},
   "outputs": [],
   "source": [
    "B,σ=optimize.curve_fit(f,dfg['T'],dfg['geff_to_half'],p0=(0,0,0,0,0,0))  #***(added a 0)\n",
    "\n",
    "# Use non-linear least squares to fit a function, f, to data.\n",
    "\n",
    "# scipy.optimize.curve_fit(f, xdata, ydata, p0=None, sigma=None, absolute_sigma=False, check_finite=True,\n",
    "# bounds=(- inf, inf), method=None, jac=None, *, full_output=False, **kwargs)\n",
    "\n",
    "#p gives initial guess for the parameters\n",
    "\n",
    "#what is it done for?"
   ]
  },
  {
   "cell_type": "code",
   "execution_count": 159,
   "id": "489f2d09",
   "metadata": {},
   "outputs": [
    {
     "data": {
      "text/plain": [
       "array([ 7.89548643e+00,  1.30777606e+01,  1.15376901e-01,  5.42990436e+02,\n",
       "       -5.41874920e+02,  1.30965399e-04])"
      ]
     },
     "execution_count": 159,
     "metadata": {},
     "output_type": "execute_result"
    }
   ],
   "source": [
    "B  # OH, SO B HAS INSIDE THE VALUES OF THE PARAMETERS OF THE PHASE SPACE a,b,c RIGHT?\n",
    "    #YOU GET THEM BY FITTING SOME DATA REFERRING TO A PLOT OF g_eff"
   ]
  },
  {
   "cell_type": "code",
   "execution_count": 160,
   "id": "7f92b242",
   "metadata": {},
   "outputs": [],
   "source": [
    "gs_to_half= lambda T: f(T,a=B[0],b=B[1],c=B[2],d=B[3],e=B[4],f=B[5])   #********(added d=B[3],e=B[4],f=B[5])\n",
    "\n",
    "\n",
    "#this is a function just to call the \"function\". \n",
    "                                        #Yess because now I know all the parameters\n",
    "                            #NOW HERE WE BUILD THE RIGHT PHASE SPACE FUNCTION....no"
   ]
  },
  {
   "cell_type": "code",
   "execution_count": 161,
   "id": "294a5dde",
   "metadata": {},
   "outputs": [
    {
     "data": {
      "text/plain": [
       "Text(0.5, 1.0, 'parametrization of the $g_*^{-1/2}$')"
      ]
     },
     "execution_count": 161,
     "metadata": {},
     "output_type": "execute_result"
    },
    {
     "data": {
      "image/png": "[encoded data removed]",
      "text/plain": [
       "<Figure size 432x288 with 1 Axes>"
      ]
     },
     "metadata": {
      "needs_background": "light"
     },
     "output_type": "display_data"
    }
   ],
   "source": [
    "T=np.logspace(np.log10(1E-5),np.log10(100))\n",
    "plt.semilogx(dfg['T'],dfg['geff_to_half'],'ro') #semilogx Make a plot with log scaling on the x axis.\n",
    "plt.plot(T,gs_to_half(T) )   #BUT THAT WASN'T THE PHASE SPACE FUNCTION? SO THIS PLOT ISN'T REFERRING TO THAT? NO, IS G STAR SQUARED BUT HOW?!\n",
    "plt.xlabel('$T$ [GeV]',size=15)\n",
    "plt.ylabel(r'$g_*^{1/2}$',size=15)\n",
    "\n",
    "plt.title('parametrization of the $g_*^{-1/2}$', size= 15)\n",
    "\n",
    "#what was that plot for? looking to the behaviour of g_*?\n",
    "\n",
    "\n",
    "\n",
    "#So far was clear, but I didn't understand where does the formula of the g_star comes from.********\n",
    "#that plot was to verify that the function we've biult respect the data we have."
   ]
  },
  {
   "cell_type": "code",
   "execution_count": null,
   "id": "63c53949",
   "metadata": {},
   "outputs": [],
   "source": []
  },
  {
   "cell_type": "code",
   "execution_count": null,
   "id": "da9402ee",
   "metadata": {},
   "outputs": [],
   "source": []
  },
  {
   "cell_type": "code",
   "execution_count": null,
   "id": "faff7252",
   "metadata": {},
   "outputs": [],
   "source": []
  },
  {
   "cell_type": "markdown",
   "id": "7b3eee80",
   "metadata": {},
   "source": [
    "\n",
    "$$\\frac{dY}{dx}=- \\Bigl(\\frac{45}{\\pi M_P^2}\\Bigr)^{-1/2} \\frac{g_*^{1/2}m}{x^2} <\\sigma v>(Y^2-Y_{eq}^2)$$\n"
   ]
  },
  {
   "cell_type": "markdown",
   "id": "d7acd39c",
   "metadata": {},
   "source": [
    "$$ Y_{eq}(x)= \\frac{45}{2 \\pi^4} \\frac{g}{g_{*s}}x^{3/2}e^{-x}= 0.145 \\frac{g}{g_{*s}}x^{3/2}e^{-x} $$"
   ]
  },
  {
   "cell_type": "markdown",
   "id": "e7fe3028",
   "metadata": {},
   "source": [
    "$$ g_*(T)= \\sum_{boson} g_i \\Bigl( \\frac{T_i}{T} \\Bigr)^4 + \\frac{7}{8}\\sum_{fermions} g_i \\Bigl( \\frac{T_i}{T} \\Bigr)^4 $$"
   ]
  },
  {
   "cell_type": "markdown",
   "id": "839a3c50",
   "metadata": {},
   "source": [
    "$$ g_{*s}(T)= \\sum_{boson} g_i \\Bigl( \\frac{T_i}{T} \\Bigr)^4 + \\frac{7}{8}\\sum_{fermions} g_i \\Bigl( \\frac{T_i}{T} \\Bigr)^4 $$"
   ]
  },
  {
   "cell_type": "markdown",
   "id": "29016b89",
   "metadata": {},
   "source": [
    "## Under here is with the use of the function gs_to_half"
   ]
  },
  {
   "cell_type": "code",
   "execution_count": 162,
   "id": "d6238d00",
   "metadata": {},
   "outputs": [],
   "source": [
    "from scipy import integrate\n",
    "\n",
    "# The function \"integrate.odeint\" Integrate a system of ordinary differential equations.\n",
    "\n",
    "# scipy.integrate.odeint(func, y0, t, args=(), Dfun=None, col_deriv=0, full_output=0, ml=None, mu=None, \n",
    "# rtol=None, atol=None, tcrit=None, h0=0.0, hmax=0.0, hmin=0.0, ixpr=0, mxstep=0, mxhnil=0, mxordn=12, \n",
    "# mxords=5, printmessg=0, tfirst=False)\n",
    "\n",
    "# func : callable(y, t, …) or callable(t, y, …)\n",
    "# Computes the derivative of y at t. If the signature is callable(t, y, ...), \n",
    "# then the argument tfirst must be set True.\n",
    "\n",
    "# y0 : array\n",
    "# Initial condition on y (can be a vector).\n",
    "\n",
    "# t :array\n",
    "# A sequence of time points for which to solve for y. The initial value point should be the first element of this\n",
    "#sequence. This sequence must be monotonically increasing or monotonically decreasing; repeated values are allowed.\n",
    "\n",
    "#************\n",
    "#So basically the first parameter is the function to integrate, dY/dx in our case, the second argument is \n",
    "#the starting point, and the third is the variable you want to integrate into.\n",
    "#************"
   ]
  },
  {
   "cell_type": "code",
   "execution_count": 163,
   "id": "fa26035b",
   "metadata": {},
   "outputs": [],
   "source": [
    "def Yeq(x):\n",
    "    return 0.145*x**(3/2)*np.exp(-x)  #built followig the formula of the Y effecace/affective"
   ]
  },
  {
   "cell_type": "code",
   "execution_count": 164,
   "id": "116a9481",
   "metadata": {},
   "outputs": [],
   "source": [
    "global k\n",
    "k=1\n",
    "fk=lambda sigmav: np.sqrt(np.pi*(Mp**2)/45)*m*sigmav  #starting to build the dY/dx\n",
    "\n",
    "def BEx(x,m=100):\n",
    "    T=m/x\n",
    "    return k*gs_to_half(T)/x**2   #missing piece of the formula that's still missing."
   ]
  },
  {
   "cell_type": "code",
   "execution_count": 165,
   "id": "b49e3469",
   "metadata": {},
   "outputs": [],
   "source": [
    "def BE(Y,x):\n",
    "    return -(Y**2-Yeq(x)**2)*BEx(x)   #putting together the things to have the right formula\n",
    "\n",
    "#THESE FUNCTIONS HAVE BEEN CREATED TO ACHIVE THE COMPLETE FORMULA FOR THE dY/dx (7.10 formula of DM production mechanism)"
   ]
  },
  {
   "cell_type": "code",
   "execution_count": 166,
   "id": "bfe0caa1",
   "metadata": {},
   "outputs": [
    {
     "data": {
      "image/png": "[encoded data removed]",
      "text/plain": [
       "<Figure size 432x288 with 1 Axes>"
      ]
     },
     "metadata": {
      "needs_background": "light"
     },
     "output_type": "display_data"
    }
   ],
   "source": [
    "xx=np.logspace(np.log10(1),np.log10(1000),1000)\n",
    "plt.loglog(xx,Yeq(xx),'c',label=r'$Y_{\\rm eq}$')\n",
    "\n",
    "\n",
    "\n",
    "k=fk(sigmav=1E-18)  #start to buid a piece\n",
    "x=np.logspace(np.log10(1),np.log10(1000),10000)\n",
    "Y=integrate.odeint(BE,Yeq(x[0]),x)\n",
    "plt.loglog(x,Y,'r--',label=r'$\\langle \\sigma v \\rangle = 10^{-18}\\ {\\rm GeV}^{-2}$')\n",
    "\n",
    "k=fk(sigmav=1E-17)\n",
    "x=np.logspace(np.log10(1),np.log10(1000),10000)\n",
    "Y=integrate.odeint(BE,Yeq(x[0]),x)\n",
    "plt.loglog(x,Y,'k:')\n",
    "\n",
    "k=fk(sigmav=1E-16)\n",
    "x=np.logspace(np.log10(1),np.log10(1000),10000)\n",
    "Y=integrate.odeint(BE,Yeq(x[0]),x)\n",
    "plt.loglog(x,Y,'k:')\n",
    "\n",
    "k=fk(sigmav=1E-15)\n",
    "x=np.logspace(np.log10(1),np.log10(1000),10000)\n",
    "Y=integrate.odeint(BE,Yeq(x[0]),x)\n",
    "plt.loglog(x,Y,'k:')\n",
    "\n",
    "k=fk(sigmav=1E-14)\n",
    "x=np.logspace(np.log10(1),np.log10(1000),10000)\n",
    "Y=integrate.odeint(BE,Yeq(x[0]),x)\n",
    "plt.loglog(x,Y,'k:')\n",
    "\n",
    "k=fk(sigmav=1E-13)\n",
    "x=np.logspace(np.log10(1),np.log10(1000),10000)\n",
    "Y=integrate.odeint(BE,Yeq(x[0]),x)\n",
    "plt.loglog(x,Y,'k:')\n",
    "\n",
    "\n",
    "#*****************\n",
    "k=fk(sigmav=1E-10)                #WHAT HAPPENS WHEN THE AVERAGE CROSS SECTION TIMES VELOCITY GOES DOWN E-11????????                                                        \n",
    "x=np.logspace(np.log10(1),np.log10(1000),10000)\n",
    "Y=integrate.odeint(BE,Yeq(x[0]),x)\n",
    "plt.loglog(x,Y,'k:')\n",
    "\n",
    "k=fk(sigmav=1E-12)\n",
    "x=np.logspace(np.log10(1),np.log10(1000),10000)\n",
    "Y=integrate.odeint(BE,Yeq(x[0]),x)\n",
    "plt.loglog(x,Y,'k--',label=r'$\\langle \\sigma v \\rangle = 10^{-12}\\ {\\rm GeV}^{-2}$')  #THAT'S THE LAST BLACK LINE\n",
    "\n",
    "\n",
    "\n",
    "\n",
    "plt.hlines(1E-11,1,1000,linestyles='-',color='m',lw=2,label='$Y_0$')    #THAT'S THE HORIZONTAL LINE IN PURPLE. \n",
    "                                                                    #WHAT DOES IT REFER TO?\n",
    "                                                                #REFERS TO THE RIGHT EXPERIMENTAL ABOUNDANCE \n",
    "\n",
    "\n",
    "plt.ylim(1E-14,1)\n",
    "plt.xlim(1,1000)\n",
    "plt.xlabel('$x = m/T$', size= 15)\n",
    "plt.ylabel('$Y$', size= 15)\n",
    "plt.title('$m = 100$ GeV', size= 15)\n",
    "plt.legend()\n",
    "plt.grid()\n",
    "\n",
    "# x grows in time means that the temperature decrease!!\n",
    "\n",
    "#STILL MISSING THE FACTOR RELATED TO THE RELATIVISTIC DEGREE OF FREEDOM"
   ]
  },
  {
   "cell_type": "code",
   "execution_count": 28,
   "id": "3de6803d",
   "metadata": {},
   "outputs": [],
   "source": [
    "# I was wondering if we had to consider also the radiation era when the co-omiving number density\n",
    "# is constant to get a much complete description, but probably it's irrelevant,\n",
    "# due to the fact that we are interested to the freeze-out part, and the previous\n",
    "# one is kind of \"boring\" because is constant."
   ]
  },
  {
   "cell_type": "code",
   "execution_count": null,
   "id": "822727ad",
   "metadata": {},
   "outputs": [],
   "source": []
  },
  {
   "cell_type": "code",
   "execution_count": null,
   "id": "cdda6324",
   "metadata": {},
   "outputs": [],
   "source": []
  },
  {
   "cell_type": "markdown",
   "id": "798666a6",
   "metadata": {},
   "source": [
    "## Under here is without the use of the function gs_to_half"
   ]
  },
  {
   "cell_type": "code",
   "execution_count": 167,
   "id": "ebeb34e0",
   "metadata": {},
   "outputs": [],
   "source": [
    "from scipy import integrate\n",
    "\n",
    "# The function \"integrate.odeint\" Integrate a system of ordinary differential equations.\n",
    "\n",
    "# scipy.integrate.odeint(func, y0, t, args=(), Dfun=None, col_deriv=0, full_output=0, ml=None, mu=None, \n",
    "# rtol=None, atol=None, tcrit=None, h0=0.0, hmax=0.0, hmin=0.0, ixpr=0, mxstep=0, mxhnil=0, mxordn=12, \n",
    "# mxords=5, printmessg=0, tfirst=False)\n",
    "\n",
    "# func : callable(y, t, …) or callable(t, y, …)\n",
    "# Computes the derivative of y at t. If the signature is callable(t, y, ...), \n",
    "# then the argument tfirst must be set True.\n",
    "\n",
    "# y0 : array\n",
    "# Initial condition on y (can be a vector).\n",
    "\n",
    "# t :array\n",
    "# A sequence of time points for which to solve for y. The initial value point should be the first element of this\n",
    "#sequence. This sequence must be monotonically increasing or monotonically decreasing; repeated values are allowed.\n",
    "\n",
    "#************\n",
    "#So basically the first parameter is the function to integrate, dY/dx in our case, the second argument is \n",
    "#the starting point, and the third is the variable you want to integrate into.\n",
    "#************"
   ]
  },
  {
   "cell_type": "code",
   "execution_count": 168,
   "id": "1b3d6c35",
   "metadata": {},
   "outputs": [],
   "source": [
    "def Yeq(x):\n",
    "    return 0.145*x**(3/2)*np.exp(-x)  #built followig the formula of the Y effecace/affective"
   ]
  },
  {
   "cell_type": "code",
   "execution_count": 169,
   "id": "77a86f35",
   "metadata": {},
   "outputs": [],
   "source": [
    "global k\n",
    "k=1\n",
    "fk=lambda sigmav: np.sqrt(np.pi*(Mp**2)/45)*m*sigmav  #starting to build the dY/dx\n",
    "\n",
    "def BEx(x,m=100):\n",
    "    #T=m/x\n",
    "    return k/x**2   #missing piece of the formula that's still missing."
   ]
  },
  {
   "cell_type": "code",
   "execution_count": 170,
   "id": "63196340",
   "metadata": {},
   "outputs": [],
   "source": [
    "def BE(Y,x):\n",
    "    return -(Y**2-Yeq(x)**2)*BEx(x)   #putting together the things to have the right formula\n",
    "\n",
    "#THESE FUNCTIONS HAVE BEEN CREATED TO ACHIVE THE COMPLETE FORMULA FOR THE dY/dx (7.10 formula of DM production mechanism)"
   ]
  },
  {
   "cell_type": "code",
   "execution_count": 171,
   "id": "6a6be0ac",
   "metadata": {},
   "outputs": [
    {
     "name": "stderr",
     "output_type": "stream",
     "text": [
      "/opt/anaconda3/lib/python3.8/site-packages/scipy/integrate/_odepack_py.py:247: ODEintWarning: Excess work done on this call (perhaps wrong Dfun type). Run with full_output = 1 to get quantitative information.\n",
      "  warnings.warn(warning_msg, ODEintWarning)\n"
     ]
    },
    {
     "data": {
      "image/png": "[encoded data removed]",
      "text/plain": [
       "<Figure size 432x288 with 1 Axes>"
      ]
     },
     "metadata": {
      "needs_background": "light"
     },
     "output_type": "display_data"
    }
   ],
   "source": [
    "xx=np.logspace(np.log10(1),np.log10(1000),1000)\n",
    "plt.loglog(xx,Yeq(xx),'c',label=r'$Y_{\\rm eq}$')\n",
    "\n",
    "\n",
    "\n",
    "k=fk(sigmav=1E-18)  #start to buid a piece\n",
    "x=np.logspace(np.log10(1),np.log10(1000),10000)\n",
    "Y=integrate.odeint(BE,Yeq(x[0]),x)\n",
    "plt.loglog(x,Y,'r--',label=r'$\\langle \\sigma v \\rangle = 10^{-18}\\ {\\rm GeV}^{-2}$')\n",
    "\n",
    "k=fk(sigmav=1E-17)\n",
    "x=np.logspace(np.log10(1),np.log10(1000),10000)\n",
    "Y=integrate.odeint(BE,Yeq(x[0]),x)\n",
    "plt.loglog(x,Y,'k:')\n",
    "\n",
    "k=fk(sigmav=1E-16)\n",
    "x=np.logspace(np.log10(1),np.log10(1000),10000)\n",
    "Y=integrate.odeint(BE,Yeq(x[0]),x)\n",
    "plt.loglog(x,Y,'k:')\n",
    "\n",
    "k=fk(sigmav=1E-15)\n",
    "x=np.logspace(np.log10(1),np.log10(1000),10000)\n",
    "Y=integrate.odeint(BE,Yeq(x[0]),x)\n",
    "plt.loglog(x,Y,'k:')\n",
    "\n",
    "k=fk(sigmav=1E-14)\n",
    "x=np.logspace(np.log10(1),np.log10(1000),10000)\n",
    "Y=integrate.odeint(BE,Yeq(x[0]),x)\n",
    "plt.loglog(x,Y,'k:')\n",
    "\n",
    "k=fk(sigmav=1E-13)\n",
    "x=np.logspace(np.log10(1),np.log10(1000),10000)\n",
    "Y=integrate.odeint(BE,Yeq(x[0]),x)\n",
    "plt.loglog(x,Y,'k:')\n",
    "\n",
    "\n",
    "#*****************\n",
    "k=fk(sigmav=1E-10)                #WHAT HAPPENS WHEN THE AVERAGE CROSS SECTION TIMES VELOCITY GOES DOWN E-11????????                                                        \n",
    "x=np.logspace(np.log10(1),np.log10(1000),10000)\n",
    "Y=integrate.odeint(BE,Yeq(x[0]),x)\n",
    "plt.loglog(x,Y,'k:')\n",
    "\n",
    "k=fk(sigmav=1E-12)\n",
    "x=np.logspace(np.log10(1),np.log10(1000),10000)\n",
    "Y=integrate.odeint(BE,Yeq(x[0]),x)\n",
    "plt.loglog(x,Y,'k--',label=r'$\\langle \\sigma v \\rangle = 10^{-12}\\ {\\rm GeV}^{-2}$')  #THAT'S THE LAST BLACK LINE\n",
    "\n",
    "\n",
    "\n",
    "\n",
    "plt.hlines(1E-11,1,1000,linestyles='-',color='m',lw=2,label='$Y_0$')    #THAT'S THE HORIZONTAL LINE IN PURPLE. \n",
    "                                                                    #WHAT DOES IT REFER TO?\n",
    "                                                                #REFERS TO THE RIGHT EXPERIMENTAL ABOUNDANCE \n",
    "\n",
    "\n",
    "plt.ylim(1E-14,1)\n",
    "plt.xlim(1,1000)\n",
    "plt.xlabel('$x = m/T$', size= 15)\n",
    "plt.ylabel('$Y$', size= 15)\n",
    "plt.title('$m = 100$ GeV', size= 15)\n",
    "plt.legend()\n",
    "plt.grid()\n",
    "\n",
    "# x grows in time means that the temperature decrease!!\n",
    "\n",
    "#STILL MISSING THE FACTOR RELATED TO THE RELATIVISTIC DEGREE OF FREEDOM"
   ]
  },
  {
   "cell_type": "code",
   "execution_count": null,
   "id": "1724a98b",
   "metadata": {},
   "outputs": [],
   "source": []
  }
 ],
 "metadata": {
  "kernelspec": {
   "display_name": "Python 3 (ipykernel)",
   "language": "python",
   "name": "python3"
  },
  "language_info": {
   "codemirror_mode": {
    "name": "ipython",
    "version": 3
   },
   "file_extension": ".py",
   "mimetype": "text/x-python",
   "name": "python",
   "nbconvert_exporter": "python",
   "pygments_lexer": "ipython3",
   "version": "3.8.12"
  }
 },
 "nbformat": 4,
 "nbformat_minor": 5
}
